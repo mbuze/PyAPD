{
 "cells": [
  {
   "cell_type": "code",
   "execution_count": 1,
   "id": "4756280c-a97d-42e4-a301-5f2b8ac4f3f8",
   "metadata": {
    "tags": []
   },
   "outputs": [
    {
     "name": "stdout",
     "output_type": "stream",
     "text": [
      "Defaulting to user installation because normal site-packages is not writeable\n",
      "Requirement already satisfied: PyAPD in /home/mb/.local/lib/python3.11/site-packages (0.0.4)\n",
      "Requirement already satisfied: numpy in /home/mb/.local/lib/python3.11/site-packages (from PyAPD) (1.24.3)\n",
      "Requirement already satisfied: pykeops in /home/mb/.local/lib/python3.11/site-packages (from PyAPD) (2.1.2)\n",
      "Requirement already satisfied: torch in /home/mb/.local/lib/python3.11/site-packages (from PyAPD) (2.0.1)\n",
      "Requirement already satisfied: pytorch-minimize in /home/mb/.local/lib/python3.11/site-packages (from PyAPD) (0.0.2)\n",
      "Requirement already satisfied: matplotlib in /home/mb/.local/lib/python3.11/site-packages (from PyAPD) (3.7.1)\n",
      "Requirement already satisfied: contourpy>=1.0.1 in /usr/lib64/python3.11/site-packages (from matplotlib->PyAPD) (1.0.7)\n",
      "Requirement already satisfied: cycler>=0.10 in /usr/lib/python3.11/site-packages (from matplotlib->PyAPD) (0.11.0)\n",
      "Requirement already satisfied: fonttools>=4.22.0 in /usr/lib64/python3.11/site-packages (from matplotlib->PyAPD) (4.37.2)\n",
      "Requirement already satisfied: kiwisolver>=1.0.1 in /usr/lib64/python3.11/site-packages (from matplotlib->PyAPD) (1.4.5)\n",
      "Requirement already satisfied: packaging>=20.0 in /usr/lib/python3.11/site-packages (from matplotlib->PyAPD) (21.3)\n",
      "Requirement already satisfied: pillow>=6.2.0 in /usr/lib64/python3.11/site-packages (from matplotlib->PyAPD) (9.2.0)\n",
      "Requirement already satisfied: pyparsing>=2.3.1 in /usr/lib/python3.11/site-packages (from matplotlib->PyAPD) (3.0.9)\n",
      "Requirement already satisfied: python-dateutil>=2.7 in /usr/lib/python3.11/site-packages (from matplotlib->PyAPD) (2.8.2)\n",
      "Requirement already satisfied: pybind11 in /home/mb/.local/lib/python3.11/site-packages (from pykeops->PyAPD) (2.10.4)\n",
      "Requirement already satisfied: keopscore==2.1.2 in /home/mb/.local/lib/python3.11/site-packages (from pykeops->PyAPD) (2.1.2)\n",
      "Requirement already satisfied: scipy>=1.6 in /home/mb/.local/lib/python3.11/site-packages (from pytorch-minimize->PyAPD) (1.10.1)\n",
      "Requirement already satisfied: filelock in /home/mb/.local/lib/python3.11/site-packages (from torch->PyAPD) (3.12.0)\n",
      "Requirement already satisfied: typing-extensions in /home/mb/.local/lib/python3.11/site-packages (from torch->PyAPD) (4.6.2)\n",
      "Requirement already satisfied: sympy in /usr/lib/python3.11/site-packages (from torch->PyAPD) (1.11.1)\n",
      "Requirement already satisfied: networkx in /usr/lib/python3.11/site-packages (from torch->PyAPD) (2.8.8)\n",
      "Requirement already satisfied: jinja2 in /usr/lib/python3.11/site-packages (from torch->PyAPD) (3.0.3)\n",
      "Requirement already satisfied: nvidia-cuda-nvrtc-cu11==11.7.99 in /home/mb/.local/lib/python3.11/site-packages (from torch->PyAPD) (11.7.99)\n",
      "Requirement already satisfied: nvidia-cuda-runtime-cu11==11.7.99 in /home/mb/.local/lib/python3.11/site-packages (from torch->PyAPD) (11.7.99)\n",
      "Requirement already satisfied: nvidia-cuda-cupti-cu11==11.7.101 in /home/mb/.local/lib/python3.11/site-packages (from torch->PyAPD) (11.7.101)\n",
      "Requirement already satisfied: nvidia-cudnn-cu11==8.5.0.96 in /home/mb/.local/lib/python3.11/site-packages (from torch->PyAPD) (8.5.0.96)\n",
      "Requirement already satisfied: nvidia-cublas-cu11==11.10.3.66 in /home/mb/.local/lib/python3.11/site-packages (from torch->PyAPD) (11.10.3.66)\n",
      "Requirement already satisfied: nvidia-cufft-cu11==10.9.0.58 in /home/mb/.local/lib/python3.11/site-packages (from torch->PyAPD) (10.9.0.58)\n",
      "Requirement already satisfied: nvidia-curand-cu11==10.2.10.91 in /home/mb/.local/lib/python3.11/site-packages (from torch->PyAPD) (10.2.10.91)\n",
      "Requirement already satisfied: nvidia-cusolver-cu11==11.4.0.1 in /home/mb/.local/lib/python3.11/site-packages (from torch->PyAPD) (11.4.0.1)\n",
      "Requirement already satisfied: nvidia-cusparse-cu11==11.7.4.91 in /home/mb/.local/lib/python3.11/site-packages (from torch->PyAPD) (11.7.4.91)\n",
      "Requirement already satisfied: nvidia-nccl-cu11==2.14.3 in /home/mb/.local/lib/python3.11/site-packages (from torch->PyAPD) (2.14.3)\n",
      "Requirement already satisfied: nvidia-nvtx-cu11==11.7.91 in /home/mb/.local/lib/python3.11/site-packages (from torch->PyAPD) (11.7.91)\n",
      "Requirement already satisfied: triton==2.0.0 in /home/mb/.local/lib/python3.11/site-packages (from torch->PyAPD) (2.0.0)\n",
      "Requirement already satisfied: setuptools in /usr/lib/python3.11/site-packages (from nvidia-cublas-cu11==11.10.3.66->torch->PyAPD) (62.6.0)\n",
      "Requirement already satisfied: wheel in /home/mb/.local/lib/python3.11/site-packages (from nvidia-cublas-cu11==11.10.3.66->torch->PyAPD) (0.40.0)\n",
      "Requirement already satisfied: cmake in /home/mb/.local/lib/python3.11/site-packages (from triton==2.0.0->torch->PyAPD) (3.26.3)\n",
      "Requirement already satisfied: lit in /home/mb/.local/lib/python3.11/site-packages (from triton==2.0.0->torch->PyAPD) (16.0.5)\n",
      "Requirement already satisfied: six>=1.5 in /usr/lib/python3.11/site-packages (from python-dateutil>=2.7->matplotlib->PyAPD) (1.16.0)\n",
      "Requirement already satisfied: MarkupSafe>=2.0 in /usr/lib64/python3.11/site-packages (from jinja2->torch->PyAPD) (2.1.1)\n",
      "Requirement already satisfied: mpmath>=0.19 in /usr/lib/python3.11/site-packages (from sympy->torch->PyAPD) (1.2.1)\n"
     ]
    }
   ],
   "source": [
    "!pip install PyAPD -U"
   ]
  },
  {
   "cell_type": "code",
   "execution_count": 2,
   "id": "1522cca9-1f1d-4dfd-bf2c-491b80bcb9d2",
   "metadata": {
    "tags": []
   },
   "outputs": [
    {
     "name": "stdout",
     "output_type": "stream",
     "text": [
      "[KeOps] Warning : Cuda libraries were not detected on the system ; using cpu only mode\n"
     ]
    }
   ],
   "source": [
    "# first import the whole package\n",
    "import PyAPD"
   ]
  },
  {
   "cell_type": "code",
   "execution_count": 3,
   "id": "62bf1114-94fe-4328-8544-6284da135d1d",
   "metadata": {
    "tags": []
   },
   "outputs": [],
   "source": [
    "apd1 = PyAPD.apd_system()"
   ]
  },
  {
   "cell_type": "code",
   "execution_count": 4,
   "id": "6446c9d7-d2eb-4a18-a123-377a0113896b",
   "metadata": {
    "tags": []
   },
   "outputs": [
    {
     "data": {
      "text/plain": [
       "10"
      ]
     },
     "execution_count": 4,
     "metadata": {},
     "output_type": "execute_result"
    }
   ],
   "source": [
    "apd1.N"
   ]
  },
  {
   "cell_type": "code",
   "execution_count": 5,
   "id": "e5b5bd79-1c70-46d0-abf8-cee6e4c8cb40",
   "metadata": {
    "tags": []
   },
   "outputs": [
    {
     "data": {
      "text/plain": [
       "2"
      ]
     },
     "execution_count": 5,
     "metadata": {},
     "output_type": "execute_result"
    }
   ],
   "source": [
    "apd1.D"
   ]
  },
  {
   "cell_type": "code",
   "execution_count": 6,
   "id": "94af7795-2e73-4648-8a56-c129fdf010e9",
   "metadata": {
    "tags": []
   },
   "outputs": [
    {
     "data": {
      "text/plain": [
       "torch.float32"
      ]
     },
     "execution_count": 6,
     "metadata": {},
     "output_type": "execute_result"
    }
   ],
   "source": [
    "apd1.dt"
   ]
  },
  {
   "cell_type": "code",
   "execution_count": 7,
   "id": "81394723-cf1d-4433-b1e2-68ba885b07cf",
   "metadata": {
    "tags": []
   },
   "outputs": [
    {
     "data": {
      "text/plain": [
       "'cpu'"
      ]
     },
     "execution_count": 7,
     "metadata": {},
     "output_type": "execute_result"
    }
   ],
   "source": [
    "apd1.device"
   ]
  },
  {
   "cell_type": "code",
   "execution_count": 8,
   "id": "6a566ea4-7096-4c94-be4c-b1e42d9e57d3",
   "metadata": {
    "tags": []
   },
   "outputs": [
    {
     "data": {
      "text/plain": [
       "0.01"
      ]
     },
     "execution_count": 8,
     "metadata": {},
     "output_type": "execute_result"
    }
   ],
   "source": [
    "apd1.error_tolerance"
   ]
  },
  {
   "cell_type": "code",
   "execution_count": 9,
   "id": "762e81c4-210f-4242-baf6-3f97ce5ad489",
   "metadata": {
    "tags": []
   },
   "outputs": [
    {
     "data": {
      "text/plain": [
       "0.01"
      ]
     },
     "execution_count": 9,
     "metadata": {},
     "output_type": "execute_result"
    }
   ],
   "source": [
    "apd1.radius_of_exclusion"
   ]
  },
  {
   "cell_type": "code",
   "execution_count": 10,
   "id": "a8f38069-02f6-4025-af76-f50ded0859a9",
   "metadata": {
    "tags": []
   },
   "outputs": [
    {
     "data": {
      "text/plain": [
       "0.25"
      ]
     },
     "execution_count": 10,
     "metadata": {},
     "output_type": "execute_result"
    }
   ],
   "source": [
    "apd1.ani_thres"
   ]
  },
  {
   "cell_type": "code",
   "execution_count": 11,
   "id": "2bbab097-6681-4536-bcca-d163f5c59211",
   "metadata": {
    "tags": []
   },
   "outputs": [
    {
     "data": {
      "text/plain": [
       "-1"
      ]
     },
     "execution_count": 11,
     "metadata": {},
     "output_type": "execute_result"
    }
   ],
   "source": [
    "apd1.seed"
   ]
  },
  {
   "cell_type": "code",
   "execution_count": 12,
   "id": "1fb94e13-806f-49bd-a196-5cc5bfe5c4ac",
   "metadata": {
    "tags": []
   },
   "outputs": [
    {
     "data": {
      "text/plain": [
       "True"
      ]
     },
     "execution_count": 12,
     "metadata": {},
     "output_type": "execute_result"
    }
   ],
   "source": [
    "apd1.det_constraint"
   ]
  },
  {
   "cell_type": "code",
   "execution_count": 13,
   "id": "5d363d07-9a77-4a23-8121-c876a6e1ecec",
   "metadata": {
    "tags": []
   },
   "outputs": [
    {
     "data": {
      "text/plain": [
       "False"
      ]
     },
     "execution_count": 13,
     "metadata": {},
     "output_type": "execute_result"
    }
   ],
   "source": [
    "apd1.heuristic_W"
   ]
  },
  {
   "cell_type": "code",
   "execution_count": 14,
   "id": "b6276b7d-f440-4b41-9d3f-94eedc18b0b9",
   "metadata": {
    "tags": []
   },
   "outputs": [
    {
     "data": {
      "text/plain": [
       "2"
      ]
     },
     "execution_count": 14,
     "metadata": {},
     "output_type": "execute_result"
    }
   ],
   "source": [
    "apd1.pixel_size_prefactor"
   ]
  },
  {
   "cell_type": "code",
   "execution_count": 15,
   "id": "47a36961-e2b2-4619-832c-e3991a556c20",
   "metadata": {
    "tags": []
   },
   "outputs": [
    {
     "data": {
      "text/plain": [
       "tensor([[0., 1.],\n",
       "        [0., 1.]])"
      ]
     },
     "execution_count": 15,
     "metadata": {},
     "output_type": "execute_result"
    }
   ],
   "source": [
    "apd1.domain"
   ]
  },
  {
   "cell_type": "code",
   "execution_count": 16,
   "id": "dae69319-07eb-4b5d-bffa-be2e87f77ac6",
   "metadata": {
    "tags": []
   },
   "outputs": [
    {
     "data": {
      "text/plain": [
       "tensor([[0.1093, 0.9477],\n",
       "        [0.5678, 0.8545],\n",
       "        [0.2183, 0.2685],\n",
       "        [0.0704, 0.0410],\n",
       "        [0.8097, 0.7785],\n",
       "        [0.7034, 0.2008],\n",
       "        [0.5726, 0.5353],\n",
       "        [0.5256, 0.2630],\n",
       "        [0.3799, 0.0076],\n",
       "        [0.4755, 0.3434]])"
      ]
     },
     "execution_count": 16,
     "metadata": {},
     "output_type": "execute_result"
    }
   ],
   "source": [
    "apd1.X"
   ]
  },
  {
   "cell_type": "code",
   "execution_count": 17,
   "id": "293c4af5-9ec8-4248-aeb3-ef15d901ed40",
   "metadata": {
    "tags": []
   },
   "outputs": [
    {
     "data": {
      "text/plain": [
       "tensor([[[ 0.8322, -0.0440],\n",
       "         [-0.0440,  1.2040]],\n",
       "\n",
       "        [[ 1.0081, -0.0299],\n",
       "         [-0.0299,  0.9929]],\n",
       "\n",
       "        [[ 1.2407, -0.4106],\n",
       "         [-0.4106,  0.9419]],\n",
       "\n",
       "        [[ 1.2805,  0.4448],\n",
       "         [ 0.4448,  0.9354]],\n",
       "\n",
       "        [[ 1.1063,  0.2873],\n",
       "         [ 0.2873,  0.9785]],\n",
       "\n",
       "        [[ 0.8424, -0.3042],\n",
       "         [-0.3042,  1.2970]],\n",
       "\n",
       "        [[ 0.9712, -0.2367],\n",
       "         [-0.2367,  1.0873]],\n",
       "\n",
       "        [[ 1.6681,  0.1957],\n",
       "         [ 0.1957,  0.6224]],\n",
       "\n",
       "        [[ 1.0338,  0.0515],\n",
       "         [ 0.0515,  0.9698]],\n",
       "\n",
       "        [[ 1.0263,  0.0088],\n",
       "         [ 0.0088,  0.9744]]])"
      ]
     },
     "execution_count": 17,
     "metadata": {},
     "output_type": "execute_result"
    }
   ],
   "source": [
    "apd1.As"
   ]
  },
  {
   "cell_type": "code",
   "execution_count": 18,
   "id": "c8c94455-da52-40bf-887c-514dbbb669e4",
   "metadata": {
    "tags": []
   },
   "outputs": [
    {
     "data": {
      "text/plain": [
       "tensor([0.1000, 0.1000, 0.1000, 0.1000, 0.1000, 0.1000, 0.1000, 0.1000, 0.1000,\n",
       "        0.1000])"
      ]
     },
     "execution_count": 18,
     "metadata": {},
     "output_type": "execute_result"
    }
   ],
   "source": [
    "apd1.target_masses"
   ]
  },
  {
   "cell_type": "code",
   "execution_count": 19,
   "id": "f8907479-125e-498e-9f9f-79eec1fb3dc8",
   "metadata": {
    "tags": []
   },
   "outputs": [
    {
     "data": {
      "text/plain": [
       "tensor([0., 0., 0., 0., 0., 0., 0., 0., 0., 0.])"
      ]
     },
     "execution_count": 19,
     "metadata": {},
     "output_type": "execute_result"
    }
   ],
   "source": [
    "apd1.W"
   ]
  },
  {
   "cell_type": "code",
   "execution_count": 20,
   "id": "3b739d95-6168-4fc5-b532-0ed674b0095c",
   "metadata": {
    "tags": []
   },
   "outputs": [
    {
     "data": {
      "text/plain": [
       "(62, 62)"
      ]
     },
     "execution_count": 20,
     "metadata": {},
     "output_type": "execute_result"
    }
   ],
   "source": [
    "apd1.pixel_params"
   ]
  },
  {
   "cell_type": "code",
   "execution_count": 21,
   "id": "e24353ee-4ed1-4151-bf1b-e137c3e44cb8",
   "metadata": {
    "tags": []
   },
   "outputs": [
    {
     "data": {
      "text/plain": [
       "False"
      ]
     },
     "execution_count": 21,
     "metadata": {},
     "output_type": "execute_result"
    }
   ],
   "source": [
    "apd1.optimality"
   ]
  },
  {
   "cell_type": "code",
   "execution_count": 22,
   "id": "ce55e235-9038-4975-b242-da8f0e6702b6",
   "metadata": {
    "tags": []
   },
   "outputs": [],
   "source": [
    "apd1.assemble_pixels()"
   ]
  },
  {
   "cell_type": "code",
   "execution_count": 23,
   "id": "4adf550a-4f2f-4dc7-a0d3-6a2fe6255074",
   "metadata": {
    "tags": []
   },
   "outputs": [
    {
     "data": {
      "text/plain": [
       "tensor([[0.0081, 0.0081],\n",
       "        [0.0081, 0.0242],\n",
       "        [0.0081, 0.0403],\n",
       "        ...,\n",
       "        [0.9919, 0.9597],\n",
       "        [0.9919, 0.9758],\n",
       "        [0.9919, 0.9919]])"
      ]
     },
     "execution_count": 23,
     "metadata": {},
     "output_type": "execute_result"
    }
   ],
   "source": [
    "apd1.Y"
   ]
  },
  {
   "cell_type": "code",
   "execution_count": 24,
   "id": "dae5aeeb-8fe5-4a7d-b386-64ab1eda7d6b",
   "metadata": {
    "tags": []
   },
   "outputs": [
    {
     "data": {
      "text/plain": [
       "<pykeops.torch.lazytensor.LazyTensor.LazyTensor at 0x7fad8c183e90>"
      ]
     },
     "execution_count": 24,
     "metadata": {},
     "output_type": "execute_result"
    }
   ],
   "source": [
    "apd1.y"
   ]
  },
  {
   "cell_type": "code",
   "execution_count": 25,
   "id": "53c5c948-968d-4f53-a1b5-d598b5ae47ce",
   "metadata": {
    "tags": []
   },
   "outputs": [
    {
     "data": {
      "text/plain": [
       "<pykeops.torch.lazytensor.LazyTensor.LazyTensor at 0x7fae6072b9d0>"
      ]
     },
     "execution_count": 25,
     "metadata": {},
     "output_type": "execute_result"
    }
   ],
   "source": [
    "apd1.x"
   ]
  },
  {
   "cell_type": "code",
   "execution_count": 26,
   "id": "288f61da-81f6-4833-a49e-6cca024d4faf",
   "metadata": {
    "tags": []
   },
   "outputs": [
    {
     "data": {
      "text/plain": [
       "tensor([0.0003, 0.0003, 0.0003,  ..., 0.0003, 0.0003, 0.0003])"
      ]
     },
     "execution_count": 26,
     "metadata": {},
     "output_type": "execute_result"
    }
   ],
   "source": [
    "apd1.PS"
   ]
  },
  {
   "cell_type": "code",
   "execution_count": 27,
   "id": "51146622-2749-4f7f-9c2c-ee609a619ad5",
   "metadata": {
    "tags": []
   },
   "outputs": [
    {
     "data": {
      "text/plain": [
       "tensor([3, 3, 3,  ..., 4, 4, 4])"
      ]
     },
     "execution_count": 27,
     "metadata": {},
     "output_type": "execute_result"
    }
   ],
   "source": [
    "apd1.assemble_apd()"
   ]
  },
  {
   "cell_type": "code",
   "execution_count": 28,
   "id": "f3cf066f-c3b7-4e74-b74e-125b29e6efdb",
   "metadata": {
    "tags": []
   },
   "outputs": [
    {
     "data": {
      "text/plain": [
       "(<Figure size 756x756 with 1 Axes>, <Axes: >)"
      ]
     },
     "execution_count": 28,
     "metadata": {},
     "output_type": "execute_result"
    },
    {
     "data": {
      "image/png": "[encoded data removed]",
      "text/plain": [
       "<Figure size 756x756 with 1 Axes>"
      ]
     },
     "metadata": {
      "needs_background": "light"
     },
     "output_type": "display_data"
    }
   ],
   "source": [
    "apd1.plot_apd()"
   ]
  },
  {
   "cell_type": "code",
   "execution_count": 29,
   "id": "98d49e2f-1ebc-4679-aa6d-51c4a163ceda",
   "metadata": {
    "tags": []
   },
   "outputs": [
    {
     "name": "stdout",
     "output_type": "stream",
     "text": [
      "Precision loss detected!\n",
      "Percentage error =  67.79336547851562\n"
     ]
    }
   ],
   "source": [
    "apd1.check_optimality()"
   ]
  },
  {
   "cell_type": "code",
   "execution_count": 30,
   "id": "4a87a25a-68ab-4735-8017-9c24fea2e9eb",
   "metadata": {
    "tags": []
   },
   "outputs": [
    {
     "name": "stdout",
     "output_type": "stream",
     "text": [
      "Solver tolerance is with respect to each grain separately.\n",
      "Smallest tol:  tensor(0.0010)\n",
      "Optimality condition successfully overwritten.\n",
      "Optimization terminated successfully.\n",
      "         Current function value: -0.044369\n",
      "         Iterations: 11\n",
      "         Function evaluations: 13\n",
      "It took 0.02602529525756836 seconds to find optimal W.\n"
     ]
    }
   ],
   "source": [
    "apd1.find_optimal_W()"
   ]
  },
  {
   "cell_type": "code",
   "execution_count": 31,
   "id": "59d5b4dd-fe06-4b68-a4f3-6f44fd375d23",
   "metadata": {
    "tags": []
   },
   "outputs": [
    {
     "name": "stdout",
     "output_type": "stream",
     "text": [
      "The APD is optimal!\n",
      "Percentage error =  0.624634325504303\n"
     ]
    }
   ],
   "source": [
    "apd1.check_optimality()"
   ]
  },
  {
   "cell_type": "code",
   "execution_count": 32,
   "id": "05dadc48-8eee-427e-ba18-68aa84e3280f",
   "metadata": {
    "tags": []
   },
   "outputs": [
    {
     "data": {
      "text/plain": [
       "(<Figure size 756x756 with 1 Axes>, <Axes: >)"
      ]
     },
     "execution_count": 32,
     "metadata": {},
     "output_type": "execute_result"
    },
    {
     "data": {
      "image/png": "[encoded data removed]",
      "text/plain": [
       "<Figure size 756x756 with 1 Axes>"
      ]
     },
     "metadata": {
      "needs_background": "light"
     },
     "output_type": "display_data"
    }
   ],
   "source": [
    "apd1.plot_ellipses()"
   ]
  },
  {
   "cell_type": "code",
   "execution_count": 33,
   "id": "47a09111-189a-41c4-a7a9-ad6f193d048e",
   "metadata": {
    "tags": []
   },
   "outputs": [
    {
     "name": "stdout",
     "output_type": "stream",
     "text": [
      "Lloyds iteration: 0\n",
      "Solver tolerance is with respect to each grain separately.\n",
      "Smallest tol:  tensor(0.0010)\n",
      "Optimality condition successfully overwritten.\n",
      "Optimization terminated successfully.\n",
      "         Current function value: -0.044369\n",
      "         Iterations: 1\n",
      "         Function evaluations: 3\n",
      "It took 0.00523066520690918 seconds to find optimal W.\n",
      "The APD is optimal!\n",
      "Percentage error =  0.8847787976264954\n",
      "Lloyds iteration: 1\n",
      "Solver tolerance is with respect to each grain separately.\n",
      "Smallest tol:  tensor(0.0010)\n",
      "Optimality condition successfully overwritten.\n",
      "Optimization terminated successfully.\n",
      "         Current function value: -0.021857\n",
      "         Iterations: 9\n",
      "         Function evaluations: 11\n",
      "It took 0.024929046630859375 seconds to find optimal W.\n",
      "The APD is optimal!\n",
      "Percentage error =  0.624634325504303\n",
      "Lloyds iteration: 2\n",
      "Solver tolerance is with respect to each grain separately.\n",
      "Smallest tol:  tensor(0.0010)\n",
      "Optimality condition successfully overwritten.\n",
      "Optimization terminated successfully.\n",
      "         Current function value: -0.018645\n",
      "         Iterations: 6\n",
      "         Function evaluations: 7\n",
      "It took 0.008892297744750977 seconds to find optimal W.\n",
      "The APD is optimal!\n",
      "Percentage error =  0.9362325072288513\n",
      "Lloyds iteration: 3\n",
      "Solver tolerance is with respect to each grain separately.\n",
      "Smallest tol:  tensor(0.0010)\n",
      "Optimality condition successfully overwritten.\n",
      "Optimization terminated successfully.\n",
      "         Current function value: -0.018008\n",
      "         Iterations: 4\n",
      "         Function evaluations: 5\n",
      "It took 0.005316495895385742 seconds to find optimal W.\n",
      "The APD is optimal!\n",
      "Percentage error =  0.8847787976264954\n",
      "Lloyds iteration: 4\n",
      "Solver tolerance is with respect to each grain separately.\n",
      "Smallest tol:  tensor(0.0010)\n",
      "Optimality condition successfully overwritten.\n",
      "Optimization terminated successfully.\n",
      "         Current function value: -0.017747\n",
      "         Iterations: 3\n",
      "         Function evaluations: 5\n",
      "It took 0.0048596858978271484 seconds to find optimal W.\n",
      "The APD is optimal!\n",
      "Percentage error =  0.8847787976264954\n"
     ]
    }
   ],
   "source": [
    "apd1.Lloyds_algorithm(verbosity_level=2)"
   ]
  },
  {
   "cell_type": "code",
   "execution_count": 34,
   "id": "cfc066b5-c935-42be-a7e2-cb878b2342c9",
   "metadata": {
    "tags": []
   },
   "outputs": [
    {
     "data": {
      "text/plain": [
       "(<Figure size 756x756 with 1 Axes>, <Axes: >)"
      ]
     },
     "execution_count": 34,
     "metadata": {},
     "output_type": "execute_result"
    },
    {
     "data": {
      "image/png": "[encoded data removed]",
      "text/plain": [
       "<Figure size 756x756 with 1 Axes>"
      ]
     },
     "metadata": {
      "needs_background": "light"
     },
     "output_type": "display_data"
    }
   ],
   "source": [
    "apd1.plot_ellipses()"
   ]
  },
  {
   "cell_type": "code",
   "execution_count": 35,
   "id": "23d708cb-9ad7-4361-8a28-0fa7741cd322",
   "metadata": {
    "tags": []
   },
   "outputs": [
    {
     "data": {
      "text/plain": [
       "(<Figure size 756x756 with 1 Axes>, <Axes: >)"
      ]
     },
     "execution_count": 35,
     "metadata": {},
     "output_type": "execute_result"
    },
    {
     "data": {
      "image/png": "[encoded data removed]",
      "text/plain": [
       "<Figure size 756x756 with 1 Axes>"
      ]
     },
     "metadata": {
      "needs_background": "light"
     },
     "output_type": "display_data"
    }
   ],
   "source": [
    "apd1.plot_apd()"
   ]
  },
  {
   "cell_type": "code",
   "execution_count": 36,
   "id": "b4875536-ec9f-4699-8bf3-072ac93f33f0",
   "metadata": {
    "tags": []
   },
   "outputs": [],
   "source": [
    "# first import the whole package\n",
    "import PyAPD\n",
    "\n",
    "# then (re)load all the functions in the .py files in the .../PyPolyCrystals/ directory:\n",
    "from PyAPD import *\n",
    "\n",
    "torch.set_printoptions(precision=10) # show more digits\n",
    "\n",
    "device = \"cuda\" if torch.cuda.is_available() else \"cpu\"\n",
    "dt = torch.float64\n",
    "torch.set_default_dtype(dt)\n",
    "#torch.set_default_device(device)\n",
    "\n",
    "import copy\n",
    "\n",
    "import scipy\n",
    "import scipy.stats\n",
    "dist_volumes = getattr(scipy.stats, 'lognorm')\n",
    "arg = 1.0\n",
    "loc = 0.5\n",
    "scale = 1.0"
   ]
  },
  {
   "cell_type": "code",
   "execution_count": 37,
   "id": "f4fe8df3-bda6-4dc3-a7dc-170f6bd9b2d3",
   "metadata": {
    "tags": []
   },
   "outputs": [
    {
     "name": "stdout",
     "output_type": "stream",
     "text": [
      "optimal_apd_3D_sp_0.2.pkl\n",
      "10 40\n",
      "torch.float64\n",
      "0.25\n",
      "0 1\n"
     ]
    }
   ],
   "source": [
    "#multi or single phase\n",
    "mp = False\n",
    "\n",
    "# D = 2  # Dimension of the ambient space\n",
    "# #Ms = [1200]\n",
    "# Ns = [25,50,100,250,500,1000,2500,5000]\n",
    "\n",
    "D = 3  # Dimension of the ambient space\n",
    "#Ms = [200]\n",
    "Ns = [10,40]\n",
    "\n",
    "roe = 0.2\n",
    "\n",
    "apd = apd_system(N=Ns[0], D=D,dt=torch.float64,\n",
    "                  pixel_size_prefactor = 2,\n",
    "                  ani_thres = 0.3,\n",
    "                  radius_of_exclusion = roe,\n",
    "                  heuristic_W = False)\n",
    "\n",
    "file_name = f'optimal_apd_{D}D_{\"mp\" if mp else \"sp\"}_{roe}.pkl'\n",
    "\n",
    "print(file_name)\n",
    "\n",
    "dts = [torch.float64] # single precision or double precision\n",
    "anisotropies = [0.25]\n",
    "seeds = [i for i in range(2)]\n",
    "\n",
    "total_no_data_points = len(Ns)*len(anisotropies)*len(seeds)\n",
    "print(*Ns)\n",
    "print(*dts)\n",
    "print(*anisotropies)\n",
    "print(*seeds)"
   ]
  },
  {
   "cell_type": "code",
   "execution_count": 38,
   "id": "798eb9af-cda3-454f-a43d-e57dcf875952",
   "metadata": {
    "tags": []
   },
   "outputs": [
    {
     "name": "stdout",
     "output_type": "stream",
     "text": [
      "%%%%%%%%%%%%%%%%%%%%%%%%%%%%%%%%%%%%%%%%%\n",
      "FAKE FIRST RUN\n",
      "%%%%%%%%%%%%%%%%%%%%%%%%%%%%%%%%%%%%%%%%%%%%%%%%%%%%%%%%%%%%%%%%%%\n",
      "Random seed = 0\n",
      "%%%%%%%%%%%%%%%%%%%%%%%%%%%%%%%%%%%%%%%%%\n",
      "N =  10 seed =  0 ani_thres =  0.25\n",
      "Solver tolerance is with respect to each grain separately.\n",
      "Smallest tol:  tensor(0.0010000000)\n",
      "Optimality condition successfully overwritten.\n",
      "Optimization terminated successfully.\n",
      "         Current function value: -0.095774\n",
      "         Iterations: 6\n",
      "         Function evaluations: 7\n",
      "It took 0.022314071655273438 seconds to find optimal W.\n"
     ]
    }
   ],
   "source": [
    "print(\"%%%%%%%%%%%%%%%%%%%%%%%%%%%%%%%%%%%%%%%%%\")\n",
    "print(\"FAKE FIRST RUN\")\n",
    "\n",
    "kk=-1\n",
    "for seed in seeds[:1]:\n",
    "    print(\"%%%%%%%%%%%%%%%%%%%%%%%%%%%%%%%%%%%%%%%%%%%%%%%%%%%%%%%%%%%%%%%%%%\")\n",
    "    print(\"Random seed =\", seed)\n",
    "    apd.seed = seed\n",
    "    for dt in dts[:1]:\n",
    "        torch.set_default_dtype(dt)\n",
    "        apd.dt = dt        \n",
    "        for ani_thres in anisotropies[:1]:\n",
    "            apd.ani_thres = ani_thres\n",
    "            for N in Ns[:1]:\n",
    "                print(\"%%%%%%%%%%%%%%%%%%%%%%%%%%%%%%%%%%%%%%%%%\")\n",
    "                print(\"N = \", N, \"seed = \", seed, \"ani_thres = \", ani_thres)\n",
    "                kk+= 1\n",
    "                apd.optimality = False\n",
    "                apd.N = N\n",
    "                \n",
    "                ### SAMPLING\n",
    "                # to ensure consistenscy, we want to do the sampling in single precision\n",
    "                torch.set_default_dtype(torch.float32)\n",
    "                \n",
    "                ### sampling seed points\n",
    "                torch.manual_seed(seed)\n",
    "                X = sample_seeds_with_exclusion(N,dim=D,radius_prefactor = apd.radius_of_exclusion)\n",
    "                \n",
    "                ### sampling anisotropy matrices\n",
    "                torch.manual_seed(seed+10)\n",
    "                As = sample_normalised_spd_matrices(N,dim = D, ani_thres = ani_thres)\n",
    "                \n",
    "                # ### sampling target masses (optional)\n",
    "                if mp:\n",
    "                    np.random.seed(seed=seed + 20)\n",
    "                    target_masses = dist_volumes.rvs(arg, loc=loc, scale=scale,size=N)\n",
    "                    target_masses = torch.from_numpy(target_masses/target_masses.sum()).to(device,dtype=dt)\n",
    "                \n",
    "                ### back to the precision we actually want to work with\n",
    "                ### (when populating the class, the conversion will take place automatically):\n",
    "                torch.set_default_dtype(apd.dt)\n",
    "                apd.set_X(X=X)\n",
    "                apd.set_As(As=As)\n",
    "                if mp:\n",
    "                    apd.set_target_masses(target_masses = target_masses)\n",
    "                else:\n",
    "                    apd.set_target_masses()\n",
    "                apd.set_W()\n",
    "                #apd.set_pixel_params(pixel_params = (1200,)*apd.D)\n",
    "                apd.set_pixel_params()\n",
    "                apd.assemble_pixels()\n",
    "                #apd.assemble_apd(verbose=True,record_time = True)\n",
    "                apd.find_optimal_W(record_time = True,max_iter = 2000)\n",
    "                #apd.data[kk] = copy.copy(apd.__dict__)"
   ]
  },
  {
   "cell_type": "code",
   "execution_count": 39,
   "id": "e44f8fa4-263b-4304-9007-bd050e47f8c6",
   "metadata": {
    "tags": []
   },
   "outputs": [
    {
     "name": "stdout",
     "output_type": "stream",
     "text": [
      "%%%%%%%%%%%%%%%%%%%%%%%%%%%%%%%%%%%%%%%%%\n",
      "ACTUAL RUN\n",
      "%%%%%%%%%%%%%%%%%%%%%%%%%%%%%%%%%%%%%%%%%%%%%%%%%%%%%%%%%%%%%%%%%%\n",
      "Random seed = 0\n",
      "%%%%%%%%%%%%%%%%%%%%%%%%%%%%%%%%%%%%%%%%%\n",
      "N =  10 seed =  0 ani_thres =  0.25\n",
      "Populating data point 1  /  4\n",
      "M =  18\n",
      "Solver tolerance is with respect to each grain separately.\n",
      "Smallest tol:  tensor(0.0010000000)\n",
      "Optimality condition successfully overwritten.\n",
      "Optimization terminated successfully.\n",
      "         Current function value: -0.095774\n",
      "         Iterations: 6\n",
      "         Function evaluations: 7\n",
      "It took 0.014590024948120117 seconds to find optimal W.\n",
      "The APD is optimal!\n",
      "Percentage error =  0.9945130315492517\n",
      "%%%%%%%%%%%%%%%%%%%%%%%%%%%%%%%%%%%%%%%%%\n",
      "N =  40 seed =  0 ani_thres =  0.25\n",
      "Populating data point 2  /  4\n",
      "M =  30\n",
      "Solver tolerance is with respect to each grain separately.\n",
      "Smallest tol:  tensor(0.0002500000)\n",
      "Optimality condition successfully overwritten.\n",
      "Optimization terminated successfully.\n",
      "         Current function value: -0.046455\n",
      "         Iterations: 14\n",
      "         Function evaluations: 15\n",
      "It took 0.11088943481445312 seconds to find optimal W.\n",
      "The APD is optimal!\n",
      "Percentage error =  0.8888888888893554\n",
      "%%%%%%%%%%%%%%%%%%%%%%%%%%%%%%%%%%%%%%%%%%%%%%%%%%%%%%%%%%%%%%%%%%\n",
      "Random seed = 1\n",
      "%%%%%%%%%%%%%%%%%%%%%%%%%%%%%%%%%%%%%%%%%\n",
      "N =  10 seed =  1 ani_thres =  0.25\n",
      "Populating data point 3  /  4\n",
      "M =  18\n",
      "Solver tolerance is with respect to each grain separately.\n",
      "Smallest tol:  tensor(0.0010000000)\n",
      "Optimality condition successfully overwritten.\n",
      "Optimization terminated successfully.\n",
      "         Current function value: -0.095174\n",
      "         Iterations: 9\n",
      "         Function evaluations: 11\n",
      "It took 0.020264863967895508 seconds to find optimal W.\n",
      "The APD is optimal!\n",
      "Percentage error =  0.7201646090542607\n",
      "%%%%%%%%%%%%%%%%%%%%%%%%%%%%%%%%%%%%%%%%%\n",
      "N =  40 seed =  1 ani_thres =  0.25\n",
      "Populating data point 4  /  4\n",
      "M =  30\n",
      "Solver tolerance is with respect to each grain separately.\n",
      "Smallest tol:  tensor(0.0002500000)\n",
      "Optimality condition successfully overwritten.\n",
      "Optimization terminated successfully.\n",
      "         Current function value: -0.047010\n",
      "         Iterations: 12\n",
      "         Function evaluations: 13\n",
      "It took 0.09617018699645996 seconds to find optimal W.\n",
      "The APD is optimal!\n",
      "Percentage error =  0.4444444444449136\n"
     ]
    }
   ],
   "source": [
    "counter = 0\n",
    "print(\"%%%%%%%%%%%%%%%%%%%%%%%%%%%%%%%%%%%%%%%%%\")\n",
    "print(\"ACTUAL RUN\")\n",
    "kk=-1\n",
    "for seed in seeds:\n",
    "    print(\"%%%%%%%%%%%%%%%%%%%%%%%%%%%%%%%%%%%%%%%%%%%%%%%%%%%%%%%%%%%%%%%%%%\")\n",
    "    print(\"Random seed =\", seed)\n",
    "    apd.seed = seed\n",
    "    for dt in dts:\n",
    "        torch.set_default_dtype(dt)\n",
    "        apd.dt = dt        \n",
    "        for ani_thres in anisotropies:\n",
    "            apd.ani_thres = ani_thres\n",
    "            for N in Ns:\n",
    "                print(\"%%%%%%%%%%%%%%%%%%%%%%%%%%%%%%%%%%%%%%%%%\")\n",
    "                print(\"N = \", N, \"seed = \", seed, \"ani_thres = \", ani_thres)\n",
    "                kk+= 1\n",
    "                print(\"Populating data point\",kk+1, \" / \", total_no_data_points)\n",
    "                apd.optimality = False\n",
    "                apd.N = N\n",
    "                \n",
    "                ### SAMPLING\n",
    "                # to ensure consistenscy, we want to do the sampling in single precision\n",
    "                torch.set_default_dtype(torch.float32)\n",
    "                \n",
    "                ### sampling seed points\n",
    "                torch.manual_seed(seed)\n",
    "                X = sample_seeds_with_exclusion(N,dim=D,radius_prefactor = apd.radius_of_exclusion)\n",
    "                \n",
    "                ### sampling anisotropy matrices\n",
    "                torch.manual_seed(seed+10)\n",
    "                As = sample_normalised_spd_matrices(N,dim = D, ani_thres = ani_thres)\n",
    "                \n",
    "                ### sampling target masses (optional)\n",
    "                if mp:\n",
    "                    np.random.seed(seed=seed+20)\n",
    "                    target_masses = dist_volumes.rvs(arg, loc=loc, scale=scale,size=N)\n",
    "                    target_masses = torch.from_numpy(target_masses/target_masses.sum()).to(device,dtype=dt)\n",
    "\n",
    "                ### back to the precision we actually want to work with\n",
    "                ### (when populating the class, the conversion will take place automatically):\n",
    "                torch.set_default_dtype(apd.dt)\n",
    "                apd.set_X(X=X)\n",
    "                apd.set_As(As=As)\n",
    "                if mp:\n",
    "                    apd.set_target_masses(target_masses = target_masses)\n",
    "                else:\n",
    "                    apd.set_target_masses()\n",
    "                apd.set_W()\n",
    "                #apd.set_pixel_params(pixel_params = (1200,)*apd.D)\n",
    "                apd.set_pixel_params(verbose=True)\n",
    "                apd.assemble_pixels()\n",
    "                #apd.assemble_apd(verbose=True,record_time = True)\n",
    "                apd.find_optimal_W(record_time = True, max_iter = 2000)\n",
    "                apd.check_optimality()\n",
    "                if apd.optimality == False:\n",
    "                    counter += 1\n",
    "                apd.Y = None\n",
    "                apd.PS = None\n",
    "                apd.y = None\n",
    "                apd.a = None\n",
    "                apd.x = None\n",
    "                #apd.W = None\n",
    "                apd.w = None\n",
    "                \n",
    "                d = apd.__dict__\n",
    "                apd.data[kk] = copy.copy({i:d[i] for i in d if i!='data'})"
   ]
  },
  {
   "cell_type": "code",
   "execution_count": 40,
   "id": "4f5c594a-69c2-451d-8081-9ca26d0077e7",
   "metadata": {
    "tags": []
   },
   "outputs": [
    {
     "data": {
      "text/plain": [
       "4"
      ]
     },
     "execution_count": 40,
     "metadata": {},
     "output_type": "execute_result"
    }
   ],
   "source": [
    "total_no_data_points"
   ]
  }
 ],
 "metadata": {
  "kernelspec": {
   "display_name": "PPC_env",
   "language": "python",
   "name": "ppc_env"
  },
  "language_info": {
   "codemirror_mode": {
    "name": "ipython",
    "version": 3
   },
   "file_extension": ".py",
   "mimetype": "text/x-python",
   "name": "python",
   "nbconvert_exporter": "python",
   "pygments_lexer": "ipython3",
   "version": "3.11.6"
  }
 },
 "nbformat": 4,
 "nbformat_minor": 5
}
