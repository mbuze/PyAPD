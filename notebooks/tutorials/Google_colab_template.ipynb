{
 "cells": [
  {
   "cell_type": "markdown",
   "id": "b663a1ca-7852-49ed-add5-911c81130ef4",
   "metadata": {
    "tags": []
   },
   "source": [
    "# How to use Google Colab with our library\n",
    "\n",
    "- Clone our library to a local folder (through command line or Github Desktop app), \n",
    "- download the [Google Drive Desktop app](https://www.google.com/intl/en-GB/drive/download/),\n",
    "- sync the local repository folder with Google Drive app, as explained [here](https://www.cbackup.com/articles/auto-sync-folder-to-google-drive-6688.html),\n",
    "- Go to your Google Drive [here](https://drive.google.com/drive/my-drive), navigate to the synced repository, go to Notebooks folder, right click on a notebook and open with Google Colab.\n",
    "- As per a guide available [here](https://saturncloud.io/blog/how-to-upload-a-folder-in-google-colab/), run the following commands (commented out here):"
   ]
  },
  {
   "cell_type": "code",
   "execution_count": 1,
   "id": "dc714222-e5e2-46ac-9a8b-2b1db23d0011",
   "metadata": {
    "tags": []
   },
   "outputs": [],
   "source": [
    "# from google.colab import drive\n",
    "# drive.mount('/content/drive')"
   ]
  },
  {
   "cell_type": "markdown",
   "id": "1c5cc58e-b4f2-45dc-9330-710f1bb788f7",
   "metadata": {},
   "source": [
    "- navigate to the correct folder (potentially subject to adjustment of the location)"
   ]
  },
  {
   "cell_type": "code",
   "execution_count": null,
   "id": "8a48e135-736a-449c-916d-8b896bb91d26",
   "metadata": {},
   "outputs": [],
   "source": [
    "# cd drive/Othercomputers/My laptop/PyPolyCrystals "
   ]
  },
  {
   "cell_type": "markdown",
   "id": "c1aa06ee-a1c5-457b-b9ab-6ebe895d552a",
   "metadata": {},
   "source": [
    "- install the required repositories:"
   ]
  },
  {
   "cell_type": "code",
   "execution_count": null,
   "id": "8884aa52-b8c3-4a35-8e49-e13c506eb732",
   "metadata": {},
   "outputs": [],
   "source": [
    "# !pip install pykeops"
   ]
  },
  {
   "cell_type": "code",
   "execution_count": null,
   "id": "2c14439d-6427-47a0-b18b-e73c678e0494",
   "metadata": {},
   "outputs": [],
   "source": [
    "# !pip install pyvista"
   ]
  },
  {
   "cell_type": "code",
   "execution_count": null,
   "id": "0ad65401-1968-4a03-ae61-c36fe64c31ab",
   "metadata": {},
   "outputs": [],
   "source": [
    "# !pip install torchquad"
   ]
  },
  {
   "cell_type": "code",
   "execution_count": null,
   "id": "547bdfd2-b6cb-46f6-a71f-e9ef0342686b",
   "metadata": {},
   "outputs": [],
   "source": [
    "# !pip install pytorch-minimize"
   ]
  },
  {
   "cell_type": "markdown",
   "id": "5fdfccec-3e83-418c-8d71-bf9840a87929",
   "metadata": {},
   "source": [
    "- install our package locally:"
   ]
  },
  {
   "cell_type": "code",
   "execution_count": null,
   "id": "9159b2db-363d-4a48-b93c-93be47eaa5be",
   "metadata": {},
   "outputs": [],
   "source": [
    "# !pip install -e ."
   ]
  },
  {
   "cell_type": "markdown",
   "id": "9a59270c-f1a0-46a4-bbee-4886d6b6835d",
   "metadata": {},
   "source": [
    "- and we are good to go!"
   ]
  },
  {
   "cell_type": "code",
   "execution_count": null,
   "id": "912ecfc4-bacb-4901-8797-c7fc3540ef7b",
   "metadata": {},
   "outputs": [],
   "source": [
    "# reloading modules if needed\n",
    "from importlib import reload\n",
    "\n",
    "# first import the whole package\n",
    "import PyPolyCrystals\n",
    "\n",
    "# then (re)load all the functions in the .py files in the .../PyPolyCrystals/ directory:\n",
    "from PyPolyCrystals import *\n",
    "reload(PyPolyCrystals)\n",
    "from PyPolyCrystals import *"
   ]
  }
 ],
 "metadata": {
  "kernelspec": {
   "display_name": "PPC_env",
   "language": "python",
   "name": "ppc_env"
  },
  "language_info": {
   "codemirror_mode": {
    "name": "ipython",
    "version": 3
   },
   "file_extension": ".py",
   "mimetype": "text/x-python",
   "name": "python",
   "nbconvert_exporter": "python",
   "pygments_lexer": "ipython3",
   "version": "3.11.6"
  }
 },
 "nbformat": 4,
 "nbformat_minor": 5
}
