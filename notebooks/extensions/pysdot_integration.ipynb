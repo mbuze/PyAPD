{
 "cells": [
  {
   "cell_type": "code",
   "execution_count": 1,
   "id": "40de1e9e-1fd4-4b1d-9ad4-70492a31cf72",
   "metadata": {
    "tags": []
   },
   "outputs": [
    {
     "name": "stdout",
     "output_type": "stream",
     "text": [
      "[KeOps] Warning : Cuda libraries were not detected on the system ; using cpu only mode\n"
     ]
    }
   ],
   "source": [
    "#imports\n",
    "from pysdot.domain_types import ConvexPolyhedraAssembly\n",
    "#from pysdot.domain_types import ScaledImage\n",
    "from pysdot import OptimalTransport\n",
    "from pysdot import PowerDiagram\n",
    "import numpy as np\n",
    "import pyvista as pv\n",
    "import matplotlib.pyplot as plt\n",
    "import time as tm\n",
    "\n",
    "import PyAPD\n",
    "import torch"
   ]
  },
  {
   "cell_type": "code",
   "execution_count": 47,
   "id": "7bce785b-7b19-418d-a713-97963d437da3",
   "metadata": {},
   "outputs": [
    {
     "name": "stdout",
     "output_type": "stream",
     "text": [
      "Precision loss detected!\n",
      "Percentage error =  182.5000000000055\n",
      "Sucessfully imported sparse linear solver Scipy.\n",
      "max dm: 0.01832800553720057\n",
      "max dm: 0.01642455071154754\n",
      "max dm: 0.0021443863723939107\n",
      "max dm: 9.363230557302496e-05\n",
      "Elapsed time 0.007977485656738281\n",
      "Precision loss detected!\n",
      "Percentage error =  2.2500000000003593\n",
      "PyAPD error0:  1.825000000000055 , pysdot error0:  1.832800553720057\n",
      "Difference in grads 0:  0.00019737031091750235\n",
      "PyAPD error2:  0.022500000000003594 , pysdot error2:  0.009363230557302496\n",
      "Difference in grads 2:  0.00022500103294764706\n"
     ]
    }
   ],
   "source": [
    "L = 1\n",
    "N = 100\n",
    "ln_mean=1; # mean of the distribution\n",
    "std_dev=0.35; # standard deviation of the distribution\n",
    "sigma=np.sqrt((np.log(1+(std_dev/ln_mean)**2))); # log-normal parameter sigma\n",
    "mu=-0.5*sigma**2+np.log(ln_mean); # log-normal parameter mu\n",
    "\n",
    "# Draw the radii from the log-normal distribution\n",
    "radii=np.random.lognormal(mu,sigma,N);\n",
    "target_vols=radii**2\n",
    "\n",
    "# Log-normal target_vols\n",
    "target_vols=L**2*target_vols/np.sum(target_vols)\n",
    "\n",
    "# monodisperse:\n",
    "target_vols=L**3*np.ones(N)/N\n",
    "\n",
    "\n",
    "apd = PyAPD.apd_system(N=N,ani_thres=0,pixel_size_prefactor=2, dt=torch.float64, target_masses = torch.tensor(target_vols),seed = 10)\n",
    "\n",
    "apd.target_masses\n",
    "\n",
    "weights0 = apd.W\n",
    "weights0\n",
    "\n",
    "grads_pyapd, error_pyapd = apd.check_optimality(return_gradient_and_error=True)\n",
    "\n",
    "np.array(grads_pyapd)\n",
    "\n",
    "dd = apd.domain.numpy().transpose()\n",
    "dm=ConvexPolyhedraAssembly(); # Create a polyhedral assembly\n",
    "dm.add_box(dd[0],dd[1])\n",
    "ot=OptimalTransport(positions=apd.X.numpy(),weights=weights0.numpy(),masses=apd.target_masses.numpy(),domain=dm,verbosity=2)\n",
    "ot.set_stopping_criterion(apd.target_masses[0]*apd.error_tolerance, type=\"max delta masses\")\n",
    "\n",
    "target = apd.target_masses[0]*apd.error_tolerance\n",
    "target\n",
    "\n",
    "mvs = ot.pd.der_integrals_wrt_weights(stop_if_void=True)\n",
    "\n",
    "grads_pysdot = mvs.v_values - ot.masses\n",
    "grads_pysdot\n",
    "\n",
    "error_pysdot0 = np.max(np.abs((grads_pysdot/ot.masses[0])))\n",
    "error_pysdot0\n",
    "\n",
    "error_pyapd0 = np.max(np.abs(np.array((grads_pyapd/apd.target_masses[0]))))\n",
    "error_pyapd0\n",
    "\n",
    "diff0 = np.max(np.abs(np.array(grads_pyapd) - grads_pysdot))\n",
    "diff0\n",
    "\n",
    "st=tm.time()\n",
    "ot.adjust_weights()\n",
    "en=tm.time()\n",
    "print('Elapsed time {}'.format(en-st))\n",
    "\n",
    "mvs2 = ot.pd.der_integrals_wrt_weights(stop_if_void=True)\n",
    "\n",
    "grads_pysdot2 = mvs2.v_values - ot.masses\n",
    "grads_pysdot2\n",
    "\n",
    "error_pysdot2 = np.max(np.abs((grads_pysdot2/ot.masses[0])))\n",
    "error_pysdot2\n",
    "\n",
    "apd.set_W(torch.tensor(ot.get_weights()))\n",
    "\n",
    "grads_pyapd2, error_pyapd2 = apd.check_optimality(return_gradient_and_error=True)\n",
    "\n",
    "error_pyapd2 = np.max(np.abs(np.array((grads_pyapd2/apd.target_masses[0]))))\n",
    "error_pyapd2\n",
    "\n",
    "diff2 = np.max(np.abs(np.array(grads_pyapd2) - grads_pysdot2))\n",
    "diff2\n",
    "\n",
    "print(\"PyAPD error0: \", error_pyapd0, \", pysdot error0: \", error_pysdot0)\n",
    "print(\"Difference in grads 0: \",diff0)\n",
    "\n",
    "print(\"PyAPD error2: \", error_pyapd2, \", pysdot error2: \", error_pysdot2)\n",
    "print(\"Difference in grads 2: \", diff2)"
   ]
  },
  {
   "cell_type": "code",
   "execution_count": 46,
   "id": "4aa4a15e-9a05-42c8-8b93-5f016a1e1440",
   "metadata": {},
   "outputs": [
    {
     "data": {
      "text/plain": [
       "tensor([0.7116, 0.5504])"
      ]
     },
     "execution_count": 46,
     "metadata": {},
     "output_type": "execute_result"
    }
   ],
   "source": [
    "apd.X[1]"
   ]
  },
  {
   "cell_type": "code",
   "execution_count": 48,
   "id": "b4540d19-d6f4-41e6-92d5-2a6649530fa6",
   "metadata": {},
   "outputs": [
    {
     "name": "stdout",
     "output_type": "stream",
     "text": [
      "Solver tolerance is with respect to each grain separately.\n",
      "Smallest tol:  tensor(0.0001)\n",
      "Optimality condition successfully overwritten.\n",
      "Optimization terminated successfully.\n",
      "         Current function value: -0.017251\n",
      "         Iterations: 3\n",
      "         Function evaluations: 5\n",
      "It took 0.14004778861999512 seconds to find optimal W.\n"
     ]
    }
   ],
   "source": [
    "apd.find_optimal_W()"
   ]
  },
  {
   "cell_type": "code",
   "execution_count": 49,
   "id": "08155c1e-79e8-42c6-a396-5ede3806926f",
   "metadata": {},
   "outputs": [
    {
     "name": "stdout",
     "output_type": "stream",
     "text": [
      "Precision loss detected!\n",
      "Percentage error =  182.5000000000055\n"
     ]
    }
   ],
   "source": [
    "apd.set_W(weights0)\n",
    "apd.check_optimality()"
   ]
  },
  {
   "cell_type": "code",
   "execution_count": 50,
   "id": "9e98b198-c707-44be-9682-864509824830",
   "metadata": {},
   "outputs": [
    {
     "name": "stdout",
     "output_type": "stream",
     "text": [
      "Solver tolerance is with respect to each grain separately.\n",
      "Smallest tol:  tensor(0.0001)\n",
      "Optimality condition successfully overwritten.\n",
      "Optimization terminated successfully.\n",
      "         Current function value: -0.017251\n",
      "         Iterations: 60\n",
      "         Function evaluations: 63\n",
      "It took 0.9105648994445801 seconds to find optimal W.\n"
     ]
    }
   ],
   "source": [
    "apd.find_optimal_W()"
   ]
  },
  {
   "cell_type": "code",
   "execution_count": null,
   "id": "3f2fc088-8d22-4baf-bd09-ebedba0517c9",
   "metadata": {},
   "outputs": [],
   "source": []
  },
  {
   "cell_type": "code",
   "execution_count": null,
   "id": "9980f5d6-cb84-4630-afb5-874b5ee9280c",
   "metadata": {},
   "outputs": [],
   "source": []
  },
  {
   "cell_type": "code",
   "execution_count": null,
   "id": "7980957c-b3af-44ab-8afc-34681846b9db",
   "metadata": {},
   "outputs": [],
   "source": []
  },
  {
   "cell_type": "code",
   "execution_count": null,
   "id": "bb51e4a7-408f-4a6a-a621-0288af80ae37",
   "metadata": {},
   "outputs": [],
   "source": []
  },
  {
   "cell_type": "code",
   "execution_count": null,
   "id": "eda1f908-13fc-4d0b-a0de-26433624fa3e",
   "metadata": {},
   "outputs": [],
   "source": []
  },
  {
   "cell_type": "code",
   "execution_count": null,
   "id": "bde0bbd1-4afa-436c-9045-79ea48f6394e",
   "metadata": {},
   "outputs": [],
   "source": []
  },
  {
   "cell_type": "code",
   "execution_count": null,
   "id": "f4be0af6-b9d2-4f70-83dc-12af0a8f188b",
   "metadata": {},
   "outputs": [],
   "source": []
  },
  {
   "cell_type": "code",
   "execution_count": 6,
   "id": "356fd275-a173-4b5e-8d45-b51dc6df5a65",
   "metadata": {},
   "outputs": [],
   "source": [
    "colors = [np.random.randint(N) for x in range(apd.N)]"
   ]
  },
  {
   "cell_type": "code",
   "execution_count": 7,
   "id": "e47d30c3-2d74-4048-95e6-b73e3c075dd5",
   "metadata": {},
   "outputs": [
    {
     "data": {
      "text/plain": [
       "(<Figure size 756x756 with 1 Axes>, <Axes: >)"
      ]
     },
     "execution_count": 7,
     "metadata": {},
     "output_type": "execute_result"
    },
    {
     "data": {
      "image/png": "[encoded data removed]",
      "text/plain": [
       "<Figure size 756x756 with 1 Axes>"
      ]
     },
     "metadata": {
      "needs_background": "light"
     },
     "output_type": "display_data"
    }
   ],
   "source": [
    "apd.plot_apd(color_by = torch.tensor(colors))"
   ]
  },
  {
   "cell_type": "code",
   "execution_count": 8,
   "id": "27629a8e-454c-4478-b395-743c86374d41",
   "metadata": {},
   "outputs": [
    {
     "data": {
      "text/plain": [
       "array([[0., 0.],\n",
       "       [1., 1.]])"
      ]
     },
     "execution_count": 8,
     "metadata": {},
     "output_type": "execute_result"
    }
   ],
   "source": [
    "dd = apd.domain.numpy().transpose()\n",
    "dd"
   ]
  },
  {
   "cell_type": "code",
   "execution_count": 9,
   "id": "ec53d7e9-402e-48ec-bfdf-7d6981f15000",
   "metadata": {},
   "outputs": [
    {
     "data": {
      "text/plain": [
       "tensor([0., 0., 0., 0., 0., 0., 0., 0., 0., 0., 0., 0., 0., 0., 0., 0., 0., 0., 0., 0.])"
      ]
     },
     "execution_count": 9,
     "metadata": {},
     "output_type": "execute_result"
    }
   ],
   "source": [
    "weights0 = apd.W\n",
    "weights0"
   ]
  },
  {
   "cell_type": "code",
   "execution_count": 10,
   "id": "11f0c8a6-a399-4981-a6e3-d88851d00c7a",
   "metadata": {},
   "outputs": [
    {
     "name": "stdout",
     "output_type": "stream",
     "text": [
      "Solver tolerance is with respect to each grain separately.\n",
      "Smallest tol:  tensor(0.0005)\n",
      "Optimality condition successfully overwritten.\n",
      "Optimization terminated successfully.\n",
      "         Current function value: -0.040233\n",
      "         Iterations: 18\n",
      "         Function evaluations: 20\n",
      "It took 11.711706638336182 seconds to find optimal W.\n",
      "The APD is optimal!\n",
      "Percentage error =  0.9946280989871215\n"
     ]
    }
   ],
   "source": [
    "apd.find_optimal_W()\n",
    "apd.check_optimality()"
   ]
  },
  {
   "cell_type": "code",
   "execution_count": 11,
   "id": "a8c72e4f-5664-45ec-afc2-ee3abee327d0",
   "metadata": {},
   "outputs": [
    {
     "data": {
      "text/plain": [
       "(<Figure size 756x756 with 1 Axes>, <Axes: >)"
      ]
     },
     "execution_count": 11,
     "metadata": {},
     "output_type": "execute_result"
    },
    {
     "data": {
      "image/png": "[encoded data removed]",
      "text/plain": [
       "<Figure size 756x756 with 1 Axes>"
      ]
     },
     "metadata": {
      "needs_background": "light"
     },
     "output_type": "display_data"
    }
   ],
   "source": [
    "apd.plot_apd(color_by = torch.tensor(colors))"
   ]
  },
  {
   "cell_type": "code",
   "execution_count": 12,
   "id": "02bbed32-4c9b-45f4-a785-5b4e7bb3527d",
   "metadata": {},
   "outputs": [],
   "source": [
    "dm=ConvexPolyhedraAssembly(); # Create a polyhedral assembly\n",
    "dm.add_box(dd[0],dd[1])\n",
    "#dm.add_box([0,0,0],[L,L,L]);"
   ]
  },
  {
   "cell_type": "code",
   "execution_count": 13,
   "id": "384f04c9-45a0-4c33-842c-b4d328dcb344",
   "metadata": {},
   "outputs": [
    {
     "data": {
      "text/plain": [
       "0.01"
      ]
     },
     "execution_count": 13,
     "metadata": {},
     "output_type": "execute_result"
    }
   ],
   "source": [
    "apd.error_tolerance"
   ]
  },
  {
   "cell_type": "code",
   "execution_count": 14,
   "id": "fa8d4af7-85e5-4906-b34b-9836335a5d73",
   "metadata": {},
   "outputs": [],
   "source": [
    "ot=OptimalTransport(positions=apd.X.numpy(),weights=weights0.numpy(),masses=apd.target_masses.numpy(),domain=dm,verbosity=2)\n",
    "ot.set_stopping_criterion(apd.target_masses[0]*apd.error_tolerance, type=\"max delta masses\")"
   ]
  },
  {
   "cell_type": "code",
   "execution_count": 16,
   "id": "bf1a6204-d9b5-4f95-a429-dd24b83ed07f",
   "metadata": {},
   "outputs": [
    {
     "data": {
      "application/vnd.jupyter.widget-view+json": {
       "model_id": "8ead35215b674d139be979f73384e222",
       "version_major": 2,
       "version_minor": 0
      },
      "text/plain": [
       "Widget(value=\"<iframe src='http://localhost:44189/index.html?ui=P_0x7fb9885fdf10_1&reconnect=auto' style='widt…"
      ]
     },
     "metadata": {},
     "output_type": "display_data"
    }
   ],
   "source": [
    "# Store the volumes in an array\n",
    "vols=ot.pd.integrals();\n",
    "# Save the results in a .vtk file\n",
    "filename=\"results.vtk\";\n",
    "ot.pd.display_vtk(filename)\n",
    "\n",
    "# Read the data\n",
    "grid=pv.read(filename)\n",
    "# create cell data that gives the cell volumes, this allows us to colour by cell volumes\n",
    "cell_vols=vols[grid.cell_data['num'].astype(int)]\n",
    "grid.cell_data['vols']= colors \n",
    "\n",
    "# plot the data with an automatically created plotter, for a static picture use backend='static'\n",
    "#grid.plot(scalars='vols',jupyter_backend='static',background='white')\n",
    "plotter = pv.Plotter(window_size=[800,800],notebook=True)\n",
    "plotter.add_mesh(grid)\n",
    "plotter.show()"
   ]
  },
  {
   "cell_type": "code",
   "execution_count": 17,
   "id": "959956f9-9f23-410d-a1f0-31a826d6a2af",
   "metadata": {},
   "outputs": [
    {
     "name": "stdout",
     "output_type": "stream",
     "text": [
      "Sucessfully imported sparse linear solver Scipy.\n",
      "max dm: 0.0845334860807249\n",
      "max dm: 0.023064141142965996\n",
      "max dm: 0.0010927711857267389\n",
      "max dm: 2.962336640446872e-06\n",
      "Elapsed time 0.012407302856445312\n"
     ]
    }
   ],
   "source": [
    "st=tm.time()\n",
    "ot.adjust_weights()\n",
    "en=tm.time()\n",
    "print('Elapsed time {}'.format(en-st))"
   ]
  },
  {
   "cell_type": "code",
   "execution_count": 19,
   "id": "400cfdc7-4c5e-46af-864e-2d15e93fe662",
   "metadata": {},
   "outputs": [
    {
     "data": {
      "text/plain": [
       "tensor([-0.0784, -0.0306,  0.0342, -0.0643, -0.0350, -0.0785,  0.0206,  0.0739,\n",
       "         0.0474, -0.0365,  0.0609, -0.0379, -0.0412,  0.0443,  0.0549, -0.0483,\n",
       "         0.0519,  0.0687, -0.0814,  0.0752])"
      ]
     },
     "execution_count": 19,
     "metadata": {},
     "output_type": "execute_result"
    }
   ],
   "source": [
    "apd.W"
   ]
  },
  {
   "cell_type": "code",
   "execution_count": 18,
   "id": "fe79f975-046b-411e-a60e-32212e754732",
   "metadata": {},
   "outputs": [
    {
     "data": {
      "text/plain": [
       "array([ 5.31831239e-17,  4.79855774e-02,  1.12952504e-01,  1.40792081e-02,\n",
       "        4.34611663e-02,  2.77761459e-04,  9.95667805e-02,  1.52195305e-01,\n",
       "        1.25933974e-01,  4.22528078e-02,  1.39234373e-01,  4.06156503e-02,\n",
       "        3.74311690e-02,  1.22861078e-01,  1.33386853e-01,  3.04148612e-02,\n",
       "        1.30475000e-01,  1.47062315e-01, -3.10973378e-03,  1.54533609e-01])"
      ]
     },
     "execution_count": 18,
     "metadata": {},
     "output_type": "execute_result"
    }
   ],
   "source": [
    "ot.get_weights()"
   ]
  },
  {
   "cell_type": "code",
   "execution_count": 22,
   "id": "ce90fe8f-10b7-4311-8841-074c690c9c86",
   "metadata": {},
   "outputs": [],
   "source": [
    "apd.set_W(torch.tensor(ot.get_weights()))"
   ]
  },
  {
   "cell_type": "code",
   "execution_count": 23,
   "id": "79e39eef-1c57-4d2c-865d-65dd4559bac9",
   "metadata": {},
   "outputs": [
    {
     "name": "stdout",
     "output_type": "stream",
     "text": [
      "The APD is optimal!\n",
      "Percentage error =  0.11570247952792656\n"
     ]
    }
   ],
   "source": [
    "wtf0 = apd.check_optimality(error_wrt_each_grain = False, return_gradient_and_error=True)"
   ]
  },
  {
   "cell_type": "code",
   "execution_count": 24,
   "id": "ed73ad6a-8258-42c6-82cf-bc979ded38f0",
   "metadata": {},
   "outputs": [],
   "source": [
    "lol = ot.pd.der_integrals_wrt_weights()\n",
    "\n",
    "wtf1 = (lol.v_values - ot.masses)/ot.masses[0]"
   ]
  },
  {
   "cell_type": "code",
   "execution_count": 25,
   "id": "3c571285-2e4b-4ef0-af62-c69deb37805e",
   "metadata": {},
   "outputs": [
    {
     "data": {
      "text/plain": [
       "tensor([3.6719e+00, 4.9009e-02, 2.9158e-02, 1.9020e+00, 7.0682e+01, 3.8862e-02,\n",
       "        6.3357e+00, 1.2837e+00, 9.3524e-01, 1.5200e-02, 1.4029e+01, 4.5026e-07,\n",
       "        1.5853e+01, 8.9100e-02, 5.1043e-02, 1.3391e-01, 1.2304e-01, 3.7649e-02,\n",
       "        4.8943e-02, 5.9863e-01])"
      ]
     },
     "execution_count": 25,
     "metadata": {},
     "output_type": "execute_result"
    }
   ],
   "source": [
    "torch.abs(wtf0[0]/wtf1)"
   ]
  },
  {
   "cell_type": "code",
   "execution_count": 330,
   "id": "4f799ce0-a2f7-41c4-b42a-f23dceefdba0",
   "metadata": {},
   "outputs": [
    {
     "data": {
      "text/plain": [
       "tensor([0.0500, 0.0500, 0.0500, 0.0500, 0.0500, 0.0500, 0.0500, 0.0500, 0.0500,\n",
       "        0.0500, 0.0500, 0.0500, 0.0500, 0.0500, 0.0500, 0.0500, 0.0500, 0.0500,\n",
       "        0.0500, 0.0500])"
      ]
     },
     "execution_count": 330,
     "metadata": {},
     "output_type": "execute_result"
    }
   ],
   "source": [
    "apd.target_masses"
   ]
  },
  {
   "cell_type": "code",
   "execution_count": 380,
   "id": "6bec8759-51f8-409e-8ddb-25b7b6838399",
   "metadata": {},
   "outputs": [
    {
     "data": {
      "text/plain": [
       "(tensor([-1.6529e-06,  2.9959e-05, -5.1653e-06, -3.6364e-05,  8.6777e-06,\n",
       "         -8.6777e-06, -8.2645e-07, -1.2397e-06, -1.5289e-05,  6.1983e-07,\n",
       "          3.0227e-04, -1.6529e-06,  1.8595e-06, -4.4008e-05,  2.1405e-04,\n",
       "         -4.4835e-05,  5.9298e-05,  8.2645e-07, -3.9256e-06, -4.5393e-04]),\n",
       " tensor(0.0091))"
      ]
     },
     "execution_count": 380,
     "metadata": {},
     "output_type": "execute_result"
    }
   ],
   "source": [
    "wtf0"
   ]
  },
  {
   "cell_type": "code",
   "execution_count": 381,
   "id": "1230839d-f4e3-4295-87d1-b3cd159e78a8",
   "metadata": {},
   "outputs": [
    {
     "data": {
      "text/plain": [
       "array([-2.18075289e-05,  6.14968733e-04, -1.01254875e-04, -7.31608846e-04,\n",
       "        1.51896076e-04, -1.56573823e-04, -1.36664292e-05, -2.18350168e-05,\n",
       "       -3.08038448e-04, -8.11448740e-07,  6.03887898e-03, -3.84490827e-05,\n",
       "        2.77232276e-05, -8.85411138e-04,  4.27878931e-03, -8.95816951e-04,\n",
       "        1.17957621e-03,  2.90548548e-05, -6.77142867e-05, -9.07789952e-03])"
      ]
     },
     "execution_count": 381,
     "metadata": {},
     "output_type": "execute_result"
    }
   ],
   "source": [
    "wtf1"
   ]
  },
  {
   "cell_type": "code",
   "execution_count": null,
   "id": "372f848f-44fc-4726-afbf-b90888bb8e3a",
   "metadata": {},
   "outputs": [],
   "source": []
  }
 ],
 "metadata": {
  "kernelspec": {
   "display_name": "Python 3 (ipykernel)",
   "language": "python",
   "name": "python3"
  },
  "language_info": {
   "codemirror_mode": {
    "name": "ipython",
    "version": 3
   },
   "file_extension": ".py",
   "mimetype": "text/x-python",
   "name": "python",
   "nbconvert_exporter": "python",
   "pygments_lexer": "ipython3",
   "version": "3.11.6"
  }
 },
 "nbformat": 4,
 "nbformat_minor": 5
}
