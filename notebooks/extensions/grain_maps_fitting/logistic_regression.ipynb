{
 "cells": [
  {
   "cell_type": "code",
   "execution_count": 1,
   "id": "79d758b9-38c8-4b78-86ec-e6e8c157904f",
   "metadata": {},
   "outputs": [
    {
     "data": {
      "text/plain": [
       "'/home/mb/MEGAsync/academic_work/projects/geometric_model_polycrystals/code/PyAPD/notebooks/extensions'"
      ]
     },
     "execution_count": 1,
     "metadata": {},
     "output_type": "execute_result"
    }
   ],
   "source": [
    "pwd()"
   ]
  },
  {
   "cell_type": "code",
   "execution_count": 2,
   "id": "d67b69f1-c0fb-464e-82df-c1c89db5053c",
   "metadata": {},
   "outputs": [
    {
     "name": "stdout",
     "output_type": "stream",
     "text": [
      "[KeOps] Warning : Cuda libraries were not detected on the system ; using cpu only mode\n"
     ]
    }
   ],
   "source": [
    "# SETUP:\n",
    "\n",
    "# reloading modules if needed\n",
    "from importlib import reload\n",
    "\n",
    "# first import the whole package\n",
    "import PyAPD\n",
    "\n",
    "# then load all the functions in the .py files in the .../PyAPD/ directory:\n",
    "from PyAPD import *\n",
    "\n",
    "import copy\n",
    "\n",
    "torch.set_printoptions(precision=10) # show more digits\n",
    "\n",
    "device = \"cuda\" if torch.cuda.is_available() else \"cpu\"\n",
    "dt = torch.float64\n",
    "torch.set_default_dtype(dt)"
   ]
  },
  {
   "cell_type": "code",
   "execution_count": 3,
   "id": "a1cb9aaa-808c-4733-84f5-8a2c60d4a238",
   "metadata": {},
   "outputs": [],
   "source": [
    "from pykeops.torch import LazyTensor"
   ]
  },
  {
   "cell_type": "code",
   "execution_count": 4,
   "id": "303fb1ee-e96a-4f6b-9b9c-6c0e3968eb7f",
   "metadata": {},
   "outputs": [],
   "source": [
    "import pykeops"
   ]
  },
  {
   "cell_type": "code",
   "execution_count": 5,
   "id": "6c1ec056-349a-41c5-a672-33bc069dc130",
   "metadata": {},
   "outputs": [],
   "source": [
    "file = \"../../data/2D_Tata_Steel_paper_example/sample_lc_steel_grain_file_final.txt\"\n",
    "seed_id = (0,1)\n",
    "volumes_id = (5)\n",
    "orientation_id = (2,3,4)\n",
    "\n",
    "X, A, TV, EBSD = load_setup_from_EBSD_data_2D(file = file,\n",
    "                                             seed_id = seed_id,\n",
    "                                             volumes_id = volumes_id,\n",
    "                                             orientation_id = orientation_id,\n",
    "                                             normalise_matrices = True,\n",
    "                                             angle_in_degrees = False,\n",
    "                                             device = device,\n",
    "                                             dt = dt)\n",
    "X = X.to(device,dtype=dt)\n",
    "A = A.to(device,dtype=dt)\n",
    "TV = TV.to(device,dtype=dt)\n",
    "N, D = X.shape"
   ]
  },
  {
   "cell_type": "code",
   "execution_count": 6,
   "id": "e43dccd2-c087-4ad6-add2-46ca91fdafe8",
   "metadata": {},
   "outputs": [],
   "source": [
    "# Manually enter the correct domain size:\n",
    "dom_x = [-999.02675,0.49975]\n",
    "dom_y = [-901.0003,0.5003]\n",
    "domain = torch.tensor([dom_x,dom_y])"
   ]
  },
  {
   "cell_type": "code",
   "execution_count": 7,
   "id": "e3f414db-e774-4384-a53b-caef7179b382",
   "metadata": {},
   "outputs": [
    {
     "name": "stdout",
     "output_type": "stream",
     "text": [
      "Largest grain:  2073.79661128761 Smallest grain:  11.000898081641\n"
     ]
    }
   ],
   "source": [
    "# Compute total area and show largest and smallest grain:\n",
    "total_area = TV.sum()\n",
    "print(\"Largest grain: \", torch.max(TV).cpu().numpy(), \"Smallest grain: \",torch.min(TV).cpu().numpy())"
   ]
  },
  {
   "cell_type": "code",
   "execution_count": 8,
   "id": "a47ed53d-dc1f-49aa-a015-c3dace7b19a4",
   "metadata": {},
   "outputs": [],
   "source": [
    "# Construct an APD system:\n",
    "apd1 = apd_system(D=2,\n",
    "                  domain = domain,\n",
    "                  X = X,\n",
    "                  As = A,\n",
    "                  heuristic_W = True, # the default set of weights is the heuristic guess\n",
    "                  target_masses = TV/total_area,\n",
    "                  dt = torch.float64,\n",
    "                  device = device,\n",
    "                  pixel_size_prefactor = 1.0,\n",
    "                  error_tolerance = 0.01\n",
    "                  )"
   ]
  },
  {
   "cell_type": "code",
   "execution_count": 9,
   "id": "6b7ebd8e-82cf-45b5-afc8-a0edf6922741",
   "metadata": {},
   "outputs": [],
   "source": [
    "# Load EBSD pixelated data: positions of pixels and grain assignment (from MTEX):\n",
    "file = \"../../data/2D_Tata_Steel_paper_example/grainIDs_final.txt\"\n",
    "EBSD_pixel_data = torch.from_numpy(np.loadtxt(file)).to(device=apd1.device, dtype=apd1.dt)"
   ]
  },
  {
   "cell_type": "code",
   "execution_count": 9,
   "id": "9e7574be-2866-4b43-afe8-13ebd3cbc4dd",
   "metadata": {},
   "outputs": [],
   "source": [
    "# preparation\n",
    "eps = 0.1\n",
    "\n",
    "Y = EBSD_pixel_data[:,0:2]\n",
    "II = EBSD_pixel_data[:,2].int()\n",
    "y = LazyTensor(Y.view(1, len(Y), 2))\n"
   ]
  },
  {
   "cell_type": "code",
   "execution_count": 10,
   "id": "c60b0c8c-a937-4ab4-a001-75f8dd0139dc",
   "metadata": {},
   "outputs": [
    {
     "ename": "NameError",
     "evalue": "name 'sD_ij' is not defined",
     "output_type": "error",
     "traceback": [
      "\u001b[0;31m---------------------------------------------------------------------------\u001b[0m",
      "\u001b[0;31mNameError\u001b[0m                                 Traceback (most recent call last)",
      "Cell \u001b[0;32mIn [10], line 1\u001b[0m\n\u001b[0;32m----> 1\u001b[0m normal_sumz \u001b[38;5;241m=\u001b[39m (\u001b[38;5;241m-\u001b[39m\u001b[43msD_ij\u001b[49m\u001b[38;5;241m/\u001b[39meps)\u001b[38;5;241m.\u001b[39msum()\n",
      "\u001b[0;31mNameError\u001b[0m: name 'sD_ij' is not defined"
     ]
    }
   ],
   "source": [
    "#normal_sumz = (-sD_ij/eps).sum()"
   ]
  },
  {
   "cell_type": "code",
   "execution_count": 168,
   "id": "a2193d1e-2adc-4c29-a5ca-9e77b0bca426",
   "metadata": {},
   "outputs": [],
   "source": []
  },
  {
   "cell_type": "code",
   "execution_count": 169,
   "id": "cacc5c90-5195-4f12-bd3f-252567f3dce6",
   "metadata": {},
   "outputs": [
    {
     "data": {
      "text/plain": [
       "torch.Size([896361, 2])"
      ]
     },
     "execution_count": 169,
     "metadata": {},
     "output_type": "execute_result"
    }
   ],
   "source": [
    "#apd1.X[(II-1)].shape"
   ]
  },
  {
   "cell_type": "code",
   "execution_count": 170,
   "id": "f985d9d5-103e-4f49-8d83-b9fc075ea814",
   "metadata": {},
   "outputs": [],
   "source": [
    "#D_ij = ((y - apd1.x) | apd1.a.matvecmult(y - apd1.x)) - apd1.w"
   ]
  },
  {
   "cell_type": "code",
   "execution_count": 171,
   "id": "62abfd07-78a9-4d0a-9f32-561c5e82138f",
   "metadata": {},
   "outputs": [
    {
     "data": {
      "text/plain": [
       "(4587, 896361)"
      ]
     },
     "execution_count": 171,
     "metadata": {},
     "output_type": "execute_result"
    }
   ],
   "source": [
    "#D_ij.shape"
   ]
  },
  {
   "cell_type": "code",
   "execution_count": 172,
   "id": "12a17e92-991b-4436-928c-9114646ab220",
   "metadata": {},
   "outputs": [
    {
     "name": "stdout",
     "output_type": "stream",
     "text": [
      "[pyKeOps] Warning : at least one of the input tensors is not contiguous. Consider using contiguous data arrays to avoid unnecessary copies.\n"
     ]
    }
   ],
   "source": [
    "#proper_sumz = (-D_ij/eps).logsumexp(dim=0)"
   ]
  },
  {
   "cell_type": "code",
   "execution_count": 173,
   "id": "6f0dd2f0-68c7-45eb-aca1-c71f1d4e144f",
   "metadata": {},
   "outputs": [
    {
     "data": {
      "text/plain": [
       "torch.Size([896361, 1])"
      ]
     },
     "execution_count": 173,
     "metadata": {},
     "output_type": "execute_result"
    }
   ],
   "source": [
    "#proper_sumz.shape"
   ]
  },
  {
   "cell_type": "code",
   "execution_count": 174,
   "id": "78e62c72-0658-47e9-811e-67b28fb3760d",
   "metadata": {},
   "outputs": [
    {
     "data": {
      "text/plain": [
       "tensor([5.9737688596e+08])"
      ]
     },
     "execution_count": 174,
     "metadata": {},
     "output_type": "execute_result"
    }
   ],
   "source": [
    "#proper_sumz.sum(dim=0)"
   ]
  },
  {
   "cell_type": "code",
   "execution_count": 176,
   "id": "c4cad46e-c64f-4716-9f1c-395c6a66f0bc",
   "metadata": {},
   "outputs": [],
   "source": [
    "#total_sum = normal_sumz - proper_sumz.sum(dim=0)"
   ]
  },
  {
   "cell_type": "code",
   "execution_count": 177,
   "id": "f85cacf7-f93f-4418-95f5-e169952eddf4",
   "metadata": {},
   "outputs": [
    {
     "data": {
      "text/plain": [
       "tensor([-40965014.6862816811])"
      ]
     },
     "execution_count": 177,
     "metadata": {},
     "output_type": "execute_result"
    }
   ],
   "source": [
    "#total_sum"
   ]
  },
  {
   "cell_type": "code",
   "execution_count": 11,
   "id": "89ef89a9-cb66-400f-ad70-86ddcdcaa3ec",
   "metadata": {
    "editable": true,
    "slideshow": {
     "slide_type": ""
    },
    "tags": []
   },
   "outputs": [],
   "source": [
    "def objective_function(X,A,W):\n",
    "    dims = A.shape\n",
    "    MV = torch.einsum('bij,bj->bi', torch.index_select(A,0,II-1), torch.index_select(X, 0, II-1) - Y)\n",
    "    sD_ij = torch.einsum('bj,bj->b',MV,torch.index_select(X,0,II-1)-Y) - torch.index_select(W, 0, II-1)\n",
    "    first_sum = (-sD_ij/eps).sum()\n",
    "    \n",
    "    a = LazyTensor(A.view(dims[0], 1, dims[1] * dims[2]))\n",
    "    w = LazyTensor(W.view(dims[0],1,1))\n",
    "    x = LazyTensor(X.view(dims[0], 1, dims[1]))\n",
    "    D_ij = ((y - x) | a.matvecmult(y - x)) - w\n",
    "    second_sum = (-D_ij/eps).logsumexp(dim=0).sum(dim=0)\n",
    "    return first_sum - second_sum\n"
   ]
  },
  {
   "cell_type": "code",
   "execution_count": 12,
   "id": "104635c3-80c2-4c8e-9920-f001d2bad7f9",
   "metadata": {},
   "outputs": [
    {
     "name": "stdout",
     "output_type": "stream",
     "text": [
      "[pyKeOps] Warning : at least one of the input tensors is not contiguous. Consider using contiguous data arrays to avoid unnecessary copies.\n"
     ]
    },
    {
     "data": {
      "text/plain": [
       "tensor([-40965014.6862816811])"
      ]
     },
     "execution_count": 12,
     "metadata": {},
     "output_type": "execute_result"
    }
   ],
   "source": [
    "objective_function(apd1.X,apd1.As,apd1.W)"
   ]
  },
  {
   "cell_type": "code",
   "execution_count": null,
   "id": "5086c403-6222-470a-b279-dad21f33b8da",
   "metadata": {},
   "outputs": [],
   "source": []
  }
 ],
 "metadata": {
  "kernelspec": {
   "display_name": "Python 3 (ipykernel)",
   "language": "python",
   "name": "python3"
  },
  "language_info": {
   "codemirror_mode": {
    "name": "ipython",
    "version": 3
   },
   "file_extension": ".py",
   "mimetype": "text/x-python",
   "name": "python",
   "nbconvert_exporter": "python",
   "pygments_lexer": "ipython3",
   "version": "3.11.6"
  }
 },
 "nbformat": 4,
 "nbformat_minor": 5
}
