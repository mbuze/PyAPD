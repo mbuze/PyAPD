{
 "cells": [
  {
   "cell_type": "code",
   "execution_count": 1,
   "id": "045ca422-26ed-464a-a8c1-cc5a13f7a804",
   "metadata": {},
   "outputs": [
    {
     "name": "stdout",
     "output_type": "stream",
     "text": [
      "[KeOps] Warning : Cuda libraries were not detected on the system ; using cpu only mode\n"
     ]
    }
   ],
   "source": [
    "# relevant libraries\n",
    "import PyAPD\n",
    "from pykeops.torch import LazyTensor\n",
    "import copy\n",
    "import torch\n",
    "import matplotlib.pyplot as plt\n",
    "\n",
    "from torchmin import minimize as minimize_torch\n",
    "\n",
    "# typical setup\n",
    "device = \"cuda\" if torch.cuda.is_available() else \"cpu\"\n",
    "dt = torch.float64\n",
    "torch.set_default_dtype(dt)"
   ]
  },
  {
   "cell_type": "code",
   "execution_count": 2,
   "id": "e88ec49a-1332-4d06-901a-511a883cf677",
   "metadata": {},
   "outputs": [],
   "source": [
    "def As_from_cholesky(l11,l22,l12):\n",
    "    L = torch.stack([torch.stack([l11, l12],dim=1),\n",
    "                            torch.stack([torch.zeros(len(l11)), l22], dim=1)],dim=2)\n",
    "    return L @ torch.transpose(L,1,2)"
   ]
  },
  {
   "cell_type": "code",
   "execution_count": 8,
   "id": "9a633547-fc29-4361-aefc-7354cb9a6834",
   "metadata": {},
   "outputs": [],
   "source": [
    "a = 1.0\n",
    "b = 2.0\n",
    "c = 0.1"
   ]
  },
  {
   "cell_type": "code",
   "execution_count": 10,
   "id": "1ebd09a8-16cc-495c-9ac3-adc935437d38",
   "metadata": {},
   "outputs": [],
   "source": [
    "A = As_from_cholesky(torch.tensor([a]),torch.tensor([b]),torch.tensor([c]))"
   ]
  },
  {
   "cell_type": "code",
   "execution_count": 13,
   "id": "2eda0234-d841-4299-8847-66f157085dd9",
   "metadata": {},
   "outputs": [],
   "source": [
    "lol = torch.linalg.eigh(A)"
   ]
  },
  {
   "cell_type": "code",
   "execution_count": 38,
   "id": "3c630c60-dbfb-4a68-896a-60a168d217c7",
   "metadata": {},
   "outputs": [
    {
     "data": {
      "text/plain": [
       "tensor([[-0.9994,  0.0332]])"
      ]
     },
     "execution_count": 38,
     "metadata": {},
     "output_type": "execute_result"
    }
   ],
   "source": [
    "v1 = lol.eigenvectors[:,0,:]\n",
    "v1"
   ]
  },
  {
   "cell_type": "code",
   "execution_count": 37,
   "id": "82bae3ff-320c-4f13-8343-32e30114780a",
   "metadata": {},
   "outputs": [
    {
     "data": {
      "text/plain": [
       "tensor([[0.0332, 0.9994]])"
      ]
     },
     "execution_count": 37,
     "metadata": {},
     "output_type": "execute_result"
    }
   ],
   "source": [
    "v2 = lol.eigenvectors[:,1,:]\n",
    "v2"
   ]
  },
  {
   "cell_type": "code",
   "execution_count": 26,
   "id": "9c7f5453-0cf4-4274-a4f8-90ce17a1b4cd",
   "metadata": {},
   "outputs": [
    {
     "data": {
      "text/plain": [
       "tensor(0.9994)"
      ]
     },
     "execution_count": 26,
     "metadata": {},
     "output_type": "execute_result"
    }
   ],
   "source": [
    "torch.linalg.norm(lol.eigenvectors[:,1,:],1)"
   ]
  },
  {
   "cell_type": "code",
   "execution_count": 34,
   "id": "c35417ce-103f-4606-8e32-b3deb9daa8de",
   "metadata": {},
   "outputs": [
    {
     "data": {
      "text/plain": [
       "tensor(1.)"
      ]
     },
     "execution_count": 34,
     "metadata": {},
     "output_type": "execute_result"
    }
   ],
   "source": [
    "torch.linalg.norm(lol.eigenvectors[0,1,:],2)"
   ]
  },
  {
   "cell_type": "code",
   "execution_count": null,
   "id": "9c284bd5-a732-4648-9709-75e9c0c50178",
   "metadata": {},
   "outputs": [],
   "source": []
  }
 ],
 "metadata": {
  "kernelspec": {
   "display_name": "Python 3 (ipykernel)",
   "language": "python",
   "name": "python3"
  },
  "language_info": {
   "codemirror_mode": {
    "name": "ipython",
    "version": 3
   },
   "file_extension": ".py",
   "mimetype": "text/x-python",
   "name": "python",
   "nbconvert_exporter": "python",
   "pygments_lexer": "ipython3",
   "version": "3.11.6"
  }
 },
 "nbformat": 4,
 "nbformat_minor": 5
}
