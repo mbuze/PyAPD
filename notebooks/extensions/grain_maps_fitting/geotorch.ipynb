{
 "cells": [
  {
   "cell_type": "code",
   "execution_count": 2,
   "id": "c6ff28e8-491e-4111-a170-8bbc7f7d8425",
   "metadata": {},
   "outputs": [],
   "source": [
    "import torch\n",
    "import torch.nn as nn\n",
    "import geotorch"
   ]
  },
  {
   "cell_type": "code",
   "execution_count": 14,
   "id": "44e75c4c-f225-4e67-a369-ee298b02fcfc",
   "metadata": {},
   "outputs": [],
   "source": [
    "layer = nn.Linear(2, 2)\n",
    "#geotorch.positive_definite(layer, \"weight\")"
   ]
  },
  {
   "cell_type": "code",
   "execution_count": 10,
   "id": "50cb7eb2-68bf-46e9-ae1a-583e25fca7b3",
   "metadata": {},
   "outputs": [
    {
     "data": {
      "text/plain": [
       "torch.Size([2, 2])"
      ]
     },
     "execution_count": 10,
     "metadata": {},
     "output_type": "execute_result"
    }
   ],
   "source": [
    "layer.weight.shape"
   ]
  },
  {
   "cell_type": "code",
   "execution_count": 8,
   "id": "49ae3f47-21b1-47b7-8607-c9083b547dc3",
   "metadata": {},
   "outputs": [
    {
     "data": {
      "text/plain": [
       "tensor([[3.9238, 1.9232],\n",
       "        [1.9232, 2.2078]], grad_fn=<MmBackward0>)"
      ]
     },
     "execution_count": 8,
     "metadata": {},
     "output_type": "execute_result"
    }
   ],
   "source": [
    "layer.weight"
   ]
  },
  {
   "cell_type": "code",
   "execution_count": 15,
   "id": "823820fd-a5a3-48eb-ba42-a2910d913875",
   "metadata": {},
   "outputs": [
    {
     "data": {
      "text/plain": [
       "Linear(in_features=2, out_features=2, bias=True)"
      ]
     },
     "execution_count": 15,
     "metadata": {},
     "output_type": "execute_result"
    }
   ],
   "source": []
  },
  {
   "cell_type": "code",
   "execution_count": null,
   "id": "c3d9eea5-a6e4-4463-a188-2c969f6038df",
   "metadata": {},
   "outputs": [],
   "source": []
  }
 ],
 "metadata": {
  "kernelspec": {
   "display_name": "Python 3 (ipykernel)",
   "language": "python",
   "name": "python3"
  },
  "language_info": {
   "codemirror_mode": {
    "name": "ipython",
    "version": 3
   },
   "file_extension": ".py",
   "mimetype": "text/x-python",
   "name": "python",
   "nbconvert_exporter": "python",
   "pygments_lexer": "ipython3",
   "version": "3.11.6"
  }
 },
 "nbformat": 4,
 "nbformat_minor": 5
}
