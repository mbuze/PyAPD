{
 "cells": [
  {
   "cell_type": "code",
   "execution_count": 1,
   "id": "6c457b11-bc51-4ce7-8d21-94d01671f8e2",
   "metadata": {},
   "outputs": [
    {
     "name": "stdout",
     "output_type": "stream",
     "text": [
      "[KeOps] Warning : Cuda libraries were not detected on the system ; using cpu only mode\n"
     ]
    }
   ],
   "source": [
    "import PyAPD"
   ]
  },
  {
   "cell_type": "code",
   "execution_count": 2,
   "id": "183a50ec-803b-4000-b8dc-29c569ad6b95",
   "metadata": {},
   "outputs": [],
   "source": [
    "from pykeops.torch import LazyTensor"
   ]
  },
  {
   "cell_type": "code",
   "execution_count": 3,
   "id": "7d61d289-3df2-45bb-a198-c0b4eae19807",
   "metadata": {},
   "outputs": [],
   "source": [
    "import copy"
   ]
  },
  {
   "cell_type": "code",
   "execution_count": 4,
   "id": "c3d315dd-3319-4020-9ffa-fc170f97a480",
   "metadata": {},
   "outputs": [],
   "source": [
    "import torch"
   ]
  },
  {
   "cell_type": "code",
   "execution_count": 5,
   "id": "27d2089e-afe0-4524-93bc-47b082c1451e",
   "metadata": {},
   "outputs": [],
   "source": [
    "device = \"cuda\" if torch.cuda.is_available() else \"cpu\"\n",
    "dt = torch.float32\n",
    "torch.set_default_dtype(dt)"
   ]
  },
  {
   "cell_type": "code",
   "execution_count": 6,
   "id": "3a46f4ad-ea13-4ed5-bcc6-52e35682d112",
   "metadata": {},
   "outputs": [],
   "source": [
    "apd1 = PyAPD.apd_system()"
   ]
  },
  {
   "cell_type": "code",
   "execution_count": 7,
   "id": "5551bc94-35a4-448c-9816-a4a21e780924",
   "metadata": {},
   "outputs": [
    {
     "name": "stdout",
     "output_type": "stream",
     "text": [
      "Precision loss detected!\n",
      "Percentage error =  149.73887634277344\n"
     ]
    }
   ],
   "source": [
    "apd1.check_optimality()"
   ]
  },
  {
   "cell_type": "code",
   "execution_count": 8,
   "id": "8df208bc-3eae-4bcc-9809-3d325cc60ed2",
   "metadata": {},
   "outputs": [
    {
     "name": "stdout",
     "output_type": "stream",
     "text": [
      "Solver tolerance is with respect to each grain separately.\n",
      "Smallest tol:  tensor(0.0010)\n",
      "Optimality condition successfully overwritten.\n",
      "Optimization terminated successfully.\n",
      "         Current function value: -0.063627\n",
      "         Iterations: 10\n",
      "         Function evaluations: 13\n",
      "It took 0.04438447952270508 seconds to find optimal W.\n"
     ]
    }
   ],
   "source": [
    "apd1.find_optimal_W()"
   ]
  },
  {
   "cell_type": "code",
   "execution_count": 9,
   "id": "6e2ca471-1244-4ac0-8578-5363df465322",
   "metadata": {},
   "outputs": [],
   "source": [
    "W_true = copy.deepcopy(apd1.W)"
   ]
  },
  {
   "cell_type": "code",
   "execution_count": 10,
   "id": "1895386a-3b7b-4c83-bc05-f1153bd6b048",
   "metadata": {},
   "outputs": [
    {
     "data": {
      "text/plain": [
       "(<Figure size 756x756 with 1 Axes>, <Axes: >)"
      ]
     },
     "execution_count": 10,
     "metadata": {},
     "output_type": "execute_result"
    },
    {
     "data": {
      "image/png": "[encoded data removed]",
      "text/plain": [
       "<Figure size 756x756 with 1 Axes>"
      ]
     },
     "metadata": {
      "needs_background": "light"
     },
     "output_type": "display_data"
    }
   ],
   "source": [
    "apd1.plot_apd()"
   ]
  },
  {
   "cell_type": "code",
   "execution_count": 11,
   "id": "b23e7271-e147-4120-b540-04c09e3172ae",
   "metadata": {},
   "outputs": [],
   "source": [
    "# preparation\n",
    "eps = 1e-4"
   ]
  },
  {
   "cell_type": "code",
   "execution_count": 12,
   "id": "fa8f5368-c011-481f-ab9d-a7dc223e1493",
   "metadata": {},
   "outputs": [],
   "source": [
    "Y = apd1.Y\n",
    "II = apd1.assemble_apd()\n",
    "II = II + 1\n",
    "y = LazyTensor(Y.view(1, len(Y), 2))"
   ]
  },
  {
   "cell_type": "code",
   "execution_count": 13,
   "id": "e4bafb48-7f4c-42b0-9279-fef24fac47ee",
   "metadata": {},
   "outputs": [],
   "source": [
    "apd1.set_W(W = torch.zeros(apd1.N))"
   ]
  },
  {
   "cell_type": "code",
   "execution_count": 14,
   "id": "24e7b9ed-14cc-4605-bcb9-8a85422a6edc",
   "metadata": {},
   "outputs": [
    {
     "name": "stdout",
     "output_type": "stream",
     "text": [
      "Precision loss detected!\n",
      "Percentage error =  149.73887634277344\n"
     ]
    }
   ],
   "source": [
    "apd1.check_optimality()"
   ]
  },
  {
   "cell_type": "code",
   "execution_count": 15,
   "id": "66fecc03-38bb-484b-880f-75e73273e033",
   "metadata": {},
   "outputs": [],
   "source": [
    "D_ij = ((y - apd1.x) | apd1.a.matvecmult(y - apd1.x)) - apd1.w"
   ]
  },
  {
   "cell_type": "code",
   "execution_count": 16,
   "id": "d1984522-1099-4bc2-87ff-22bdb5738dbe",
   "metadata": {},
   "outputs": [
    {
     "data": {
      "text/plain": [
       "(10, 3844)"
      ]
     },
     "execution_count": 16,
     "metadata": {},
     "output_type": "execute_result"
    }
   ],
   "source": [
    "D_ij.shape"
   ]
  },
  {
   "cell_type": "code",
   "execution_count": 17,
   "id": "d70809cd-8289-4f30-95ac-8de2d8f4dbb2",
   "metadata": {},
   "outputs": [
    {
     "data": {
      "text/plain": [
       "torch.Size([3844, 1])"
      ]
     },
     "execution_count": 17,
     "metadata": {},
     "output_type": "execute_result"
    }
   ],
   "source": [
    "proper_sumz = (-D_ij/eps).logsumexp(dim=0)\n",
    "proper_sumz.shape"
   ]
  },
  {
   "cell_type": "code",
   "execution_count": 18,
   "id": "48b28784-db8c-4b26-a9da-ac8afd37f137",
   "metadata": {},
   "outputs": [],
   "source": [
    "def objective_function(X,A,W):\n",
    "    dims = A.shape\n",
    "    MV = torch.einsum('bij,bj->bi', torch.index_select(A,0,II-1), torch.index_select(X, 0, II-1) - Y)\n",
    "    sD_ij = torch.einsum('bj,bj->b',MV,torch.index_select(X,0,II-1)-Y) - torch.index_select(W, 0, II-1)\n",
    "    first_sum = (-sD_ij/eps).sum()\n",
    "\n",
    "    a = LazyTensor(A.view(dims[0], 1, dims[1] * dims[2]))\n",
    "    w = LazyTensor(W.view(dims[0],1,1))\n",
    "    x = LazyTensor(X.view(dims[0], 1, dims[1]))\n",
    "    D_ij = ((y - x) | a.matvecmult(y - x)) - w\n",
    "    second_sum = (-D_ij/eps).logsumexp(dim=0).sum(dim=0)\n",
    "    return -(first_sum - second_sum)"
   ]
  },
  {
   "cell_type": "code",
   "execution_count": 19,
   "id": "0acc1103-90ed-4b4e-93d6-418cdbca245d",
   "metadata": {},
   "outputs": [
    {
     "data": {
      "text/plain": [
       "tensor([985988.])"
      ]
     },
     "execution_count": 19,
     "metadata": {},
     "output_type": "execute_result"
    }
   ],
   "source": [
    "objective_function(apd1.X.contiguous(),apd1.As.contiguous(),apd1.W.contiguous())"
   ]
  },
  {
   "cell_type": "code",
   "execution_count": 20,
   "id": "53057f1b-9188-4755-8645-b28e46d676ba",
   "metadata": {},
   "outputs": [
    {
     "data": {
      "text/plain": [
       "tensor([-0.0197,  0.0907, -0.0119, -0.0351,  0.0208, -0.1319,  0.1093,  0.1201,\n",
       "         0.0136, -0.1560])"
      ]
     },
     "execution_count": 20,
     "metadata": {},
     "output_type": "execute_result"
    }
   ],
   "source": [
    "W_true"
   ]
  },
  {
   "cell_type": "code",
   "execution_count": 21,
   "id": "1308bbbd-99b5-49bf-8aad-03f62dbfe568",
   "metadata": {},
   "outputs": [],
   "source": [
    "fun = lambda W : objective_function(apd1.X.contiguous(),apd1.As.contiguous(),W)"
   ]
  },
  {
   "cell_type": "code",
   "execution_count": 22,
   "id": "405e8b8b-2aa4-4c42-b60e-5acb62d11dae",
   "metadata": {},
   "outputs": [
    {
     "data": {
      "text/plain": [
       "tensor([985988.])"
      ]
     },
     "execution_count": 22,
     "metadata": {},
     "output_type": "execute_result"
    }
   ],
   "source": [
    "fun(apd1.W)"
   ]
  },
  {
   "cell_type": "code",
   "execution_count": 23,
   "id": "604c2b18-a44c-49ee-8392-ede7ad1150aa",
   "metadata": {},
   "outputs": [
    {
     "data": {
      "text/plain": [
       "tensor([10.5000])"
      ]
     },
     "execution_count": 23,
     "metadata": {},
     "output_type": "execute_result"
    }
   ],
   "source": [
    "fun(W_true)"
   ]
  },
  {
   "cell_type": "code",
   "execution_count": 24,
   "id": "805da5b4-5432-4c0b-9df2-67bd1305671c",
   "metadata": {},
   "outputs": [],
   "source": [
    "gtol = 1e-12*torch.ones(len(apd1.W)).to(device=device)"
   ]
  },
  {
   "cell_type": "code",
   "execution_count": 25,
   "id": "66559a2a-7b56-4df9-8f6f-bca30bbe301f",
   "metadata": {},
   "outputs": [
    {
     "name": "stdout",
     "output_type": "stream",
     "text": [
      "Optimality condition successfully overwritten.\n",
      "initial fval: 985988.0000\n",
      "iter   1 - fval: 350304.0000\n",
      "iter   2 - fval: 271900.0000\n",
      "iter   3 - fval: 131465.7500\n",
      "iter   4 - fval: 18532.2500\n",
      "iter   5 - fval: 2672.7500\n",
      "iter   6 - fval: 973.2500\n",
      "iter   7 - fval: 329.0000\n",
      "iter   8 - fval: 81.7500\n",
      "iter   9 - fval: 21.7500\n",
      "iter  10 - fval: 13.7500\n",
      "iter  11 - fval: 11.7500\n",
      "iter  12 - fval: 11.0000\n",
      "iter  13 - fval: 10.2500\n",
      "iter  14 - fval: 10.2500\n",
      "Optimization terminated successfully.\n",
      "         Current function value: 10.250000\n",
      "         Iterations: 14\n",
      "         Function evaluations: 23\n"
     ]
    }
   ],
   "source": [
    "solver = 'bfgs'\n",
    "defaultKwargs = {'gtol': gtol, 'xtol': 0, 'disp': 2, 'max_iter':1000}\n",
    "\n",
    "#solver = 'newton-cg'\n",
    "#defaultKwargs = {'xtol': 0, 'disp': 2, 'max_iter':10}\n",
    "\n",
    "res = PyAPD.minimize_torch(fun, apd1.W, method=solver, disp= 2,\n",
    "                             options=defaultKwargs)"
   ]
  },
  {
   "cell_type": "code",
   "execution_count": 33,
   "id": "a5922ff3-d4ae-4eb9-97db-f87f2c2e64aa",
   "metadata": {},
   "outputs": [],
   "source": [
    "W_approx = res.x"
   ]
  },
  {
   "cell_type": "code",
   "execution_count": 34,
   "id": "aa2ac81a-3079-4821-aacb-15ebe40091fb",
   "metadata": {},
   "outputs": [
    {
     "data": {
      "text/plain": [
       "tensor([-0.0197,  0.0906, -0.0119, -0.0352,  0.0209, -0.1318,  0.1093,  0.1202,\n",
       "         0.0137, -0.1561])"
      ]
     },
     "execution_count": 34,
     "metadata": {},
     "output_type": "execute_result"
    }
   ],
   "source": [
    "W_approx"
   ]
  },
  {
   "cell_type": "code",
   "execution_count": 35,
   "id": "c2afea3c-78c1-4bb1-8625-e9fbb8c0561d",
   "metadata": {},
   "outputs": [
    {
     "data": {
      "text/plain": [
       "tensor([-0.0197,  0.0907, -0.0119, -0.0351,  0.0208, -0.1319,  0.1093,  0.1201,\n",
       "         0.0136, -0.1560])"
      ]
     },
     "execution_count": 35,
     "metadata": {},
     "output_type": "execute_result"
    }
   ],
   "source": [
    "W_true"
   ]
  },
  {
   "cell_type": "code",
   "execution_count": 36,
   "id": "50e310e1-57c5-4927-b476-39d1ddbe4bd5",
   "metadata": {},
   "outputs": [
    {
     "data": {
      "text/plain": [
       "(<Figure size 756x756 with 1 Axes>, <Axes: >)"
      ]
     },
     "execution_count": 36,
     "metadata": {},
     "output_type": "execute_result"
    },
    {
     "data": {
      "image/png": "[encoded data removed]",
      "text/plain": [
       "<Figure size 756x756 with 1 Axes>"
      ]
     },
     "metadata": {
      "needs_background": "light"
     },
     "output_type": "display_data"
    }
   ],
   "source": [
    "apd1.set_W(W = W_true)\n",
    "apd1.plot_apd()"
   ]
  },
  {
   "cell_type": "code",
   "execution_count": 37,
   "id": "69817c80-9a77-4a1c-99c5-76b6eddfb96e",
   "metadata": {},
   "outputs": [
    {
     "data": {
      "text/plain": [
       "(<Figure size 756x756 with 1 Axes>, <Axes: >)"
      ]
     },
     "execution_count": 37,
     "metadata": {},
     "output_type": "execute_result"
    },
    {
     "data": {
      "image/png": "[encoded data removed]",
      "text/plain": [
       "<Figure size 756x756 with 1 Axes>"
      ]
     },
     "metadata": {
      "needs_background": "light"
     },
     "output_type": "display_data"
    }
   ],
   "source": [
    "apd1.set_W(W = W_approx)\n",
    "apd1.plot_apd()"
   ]
  },
  {
   "cell_type": "code",
   "execution_count": 38,
   "id": "dcea613a-eca6-4b3e-9e7a-3a3ea673c2cd",
   "metadata": {},
   "outputs": [
    {
     "data": {
      "text/plain": [
       "tensor(0.0003)"
      ]
     },
     "execution_count": 38,
     "metadata": {},
     "output_type": "execute_result"
    }
   ],
   "source": [
    "# Check how many pixels are assisgned to different grains\n",
    "# when comparing the optimal W and the heuristic W:\n",
    "apd1.set_W(W = W_true)\n",
    "img_true = copy.deepcopy(apd1.assemble_apd())\n",
    "apd1.set_W(W = W_approx)\n",
    "img_approx = copy.deepcopy(apd1.assemble_apd())\n",
    "\n",
    "difff = sum(torch.abs(img_true - img_approx) > 0.5)\n",
    "\n",
    "difff / img_true.shape[0]"
   ]
  },
  {
   "cell_type": "code",
   "execution_count": 39,
   "id": "f96699d1-bb2f-4720-96f8-d37185c526ae",
   "metadata": {},
   "outputs": [
    {
     "data": {
      "text/plain": [
       "tensor(1)"
      ]
     },
     "execution_count": 39,
     "metadata": {},
     "output_type": "execute_result"
    }
   ],
   "source": [
    "difff"
   ]
  },
  {
   "cell_type": "code",
   "execution_count": null,
   "id": "4dc5bb84-6aae-489e-b6f9-b9977055f639",
   "metadata": {},
   "outputs": [],
   "source": []
  }
 ],
 "metadata": {
  "kernelspec": {
   "display_name": "Python 3 (ipykernel)",
   "language": "python",
   "name": "python3"
  },
  "language_info": {
   "codemirror_mode": {
    "name": "ipython",
    "version": 3
   },
   "file_extension": ".py",
   "mimetype": "text/x-python",
   "name": "python",
   "nbconvert_exporter": "python",
   "pygments_lexer": "ipython3",
   "version": "3.11.6"
  }
 },
 "nbformat": 4,
 "nbformat_minor": 5
}
