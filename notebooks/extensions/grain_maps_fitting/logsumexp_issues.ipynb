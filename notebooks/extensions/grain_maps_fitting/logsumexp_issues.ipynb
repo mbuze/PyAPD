{
 "cells": [
  {
   "cell_type": "code",
   "execution_count": 1,
   "id": "5179ed31-ffcc-4b52-93d1-af080a614a83",
   "metadata": {},
   "outputs": [
    {
     "name": "stdout",
     "output_type": "stream",
     "text": [
      "[KeOps] Warning : Cuda libraries were not detected on the system ; using cpu only mode\n"
     ]
    }
   ],
   "source": [
    "import torch\n",
    "import PyAPD"
   ]
  },
  {
   "cell_type": "code",
   "execution_count": 2,
   "id": "1338cf7f-964f-4c6b-88ee-e2da5b2c0b8f",
   "metadata": {},
   "outputs": [],
   "source": [
    "from torchmin import minimize\n",
    "from torchmin.benchmarks import rosen"
   ]
  },
  {
   "cell_type": "code",
   "execution_count": 3,
   "id": "7a19b9c7-b56f-44e2-950b-112449951511",
   "metadata": {},
   "outputs": [
    {
     "name": "stdout",
     "output_type": "stream",
     "text": [
      "Optimization terminated successfully.\n",
      "         Current function value: 0.000000\n",
      "         Iterations: 192\n",
      "         Function evaluations: 456\n",
      "         CG iterations: 1542\n"
     ]
    }
   ],
   "source": [
    "# initial point\n",
    "x0 = torch.randn(100, device='cpu')\n",
    "\n",
    "solver = 'newton-cg'\n",
    "defaultKwargs = {#'gtol': gtol,\n",
    "                 'xtol': 1e-6,\n",
    "                 'disp': 1,\n",
    "                 'max_iter':1000,\n",
    "                 #'line_search': 'none',\n",
    "                 #'lr': 1e-2,\n",
    "                }\n",
    "\n",
    "res = minimize(rosen, x0, method=solver,\n",
    "         options=defaultKwargs,\n",
    "        )\n",
    "\n",
    "# BFGS\n",
    "#result = minimize(rosen, x0, method='bfgs')\n",
    "\n",
    "# Newton Conjugate Gradient\n",
    "#result = minimize(rosen, x0, method='newton-cg')"
   ]
  },
  {
   "cell_type": "code",
   "execution_count": 4,
   "id": "ca2f10ad-41cd-43d1-b861-4af4fb789b1c",
   "metadata": {},
   "outputs": [
    {
     "name": "stdout",
     "output_type": "stream",
     "text": [
      "Optimization terminated successfully.\n",
      "         Current function value: 0.000000\n",
      "         Iterations: 192\n",
      "         Function evaluations: 456\n",
      "         CG iterations: 1542\n"
     ]
    }
   ],
   "source": [
    "res = PyAPD.minimize_torch(rosen, x0, method=solver,\n",
    "         options=defaultKwargs,\n",
    "        )"
   ]
  },
  {
   "cell_type": "code",
   "execution_count": null,
   "id": "cc3ddae3-9b2e-42be-b876-5b707ae8dc92",
   "metadata": {},
   "outputs": [],
   "source": []
  },
  {
   "cell_type": "code",
   "execution_count": null,
   "id": "51e31824-5c90-4633-bb07-aa47c00898af",
   "metadata": {},
   "outputs": [],
   "source": []
  },
  {
   "cell_type": "code",
   "execution_count": null,
   "id": "06c235b9-8e70-47c9-bddb-dd48db5139c5",
   "metadata": {},
   "outputs": [],
   "source": []
  },
  {
   "cell_type": "code",
   "execution_count": null,
   "id": "798ec9a7-6904-49bd-b0a0-064ea3411f43",
   "metadata": {},
   "outputs": [],
   "source": []
  },
  {
   "cell_type": "code",
   "execution_count": null,
   "id": "c9eba438-57b5-4715-8f37-1ff9b57e0463",
   "metadata": {},
   "outputs": [],
   "source": []
  },
  {
   "cell_type": "code",
   "execution_count": null,
   "id": "7d377d45-f7fa-4dcc-af48-a2c7278b8d0e",
   "metadata": {},
   "outputs": [],
   "source": []
  },
  {
   "cell_type": "code",
   "execution_count": null,
   "id": "b355677a-fcd4-4d8b-bf09-2f662db26c97",
   "metadata": {},
   "outputs": [],
   "source": []
  },
  {
   "cell_type": "code",
   "execution_count": null,
   "id": "9266480c-ba02-4859-9ae6-0d2115aed980",
   "metadata": {},
   "outputs": [],
   "source": []
  },
  {
   "cell_type": "code",
   "execution_count": 1,
   "id": "5d8c0e52-7c50-414b-b4c7-fe4b4d97da6d",
   "metadata": {},
   "outputs": [
    {
     "name": "stdout",
     "output_type": "stream",
     "text": [
      "[KeOps] Warning : Cuda libraries were not detected on the system ; using cpu only mode\n"
     ]
    }
   ],
   "source": [
    "import PyAPD\n",
    "from pykeops.torch import LazyTensor\n",
    "import torch\n",
    "\n",
    "device = \"cuda\" if torch.cuda.is_available() else \"cpu\"\n",
    "dt = torch.float64\n",
    "torch.set_default_dtype(dt)"
   ]
  },
  {
   "cell_type": "code",
   "execution_count": 2,
   "id": "ab85c25f-d0f8-440c-9966-f834f334e6a9",
   "metadata": {},
   "outputs": [
    {
     "name": "stdout",
     "output_type": "stream",
     "text": [
      "Precision loss detected!\n",
      "Percentage error =  18.36734962463379\n",
      "Solver tolerance is with respect to each grain separately.\n",
      "Smallest tol:  tensor(0.0050)\n",
      "Optimality condition successfully overwritten.\n",
      "Optimization terminated successfully.\n",
      "         Current function value: -0.221925\n",
      "         Iterations: 4\n",
      "         Function evaluations: 25\n",
      "It took 0.03807783126831055 seconds to find optimal W.\n"
     ]
    },
    {
     "data": {
      "text/plain": [
       "(<Figure size 756x756 with 1 Axes>, <Axes: >)"
      ]
     },
     "execution_count": 2,
     "metadata": {},
     "output_type": "execute_result"
    },
    {
     "data": {
      "image/png": "[encoded data removed]",
      "text/plain": [
       "<Figure size 756x756 with 1 Axes>"
      ]
     },
     "metadata": {
      "needs_background": "light"
     },
     "output_type": "display_data"
    }
   ],
   "source": [
    "N = 2 # number of grains\n",
    "apd1 = PyAPD.apd_system(\n",
    "    N = N,\n",
    "    seed = 5, # fix random seed\n",
    "    pixel_size_prefactor = 0.5\n",
    ")\n",
    "apd1.check_optimality()\n",
    "apd1.find_optimal_W()\n",
    "apd1.plot_apd()"
   ]
  },
  {
   "cell_type": "code",
   "execution_count": 5,
   "id": "925c9669-7dd1-45f7-9366-ab64a12fa60b",
   "metadata": {},
   "outputs": [],
   "source": [
    "A = apd1.As\n",
    "W = apd1.W\n",
    "X = apd1.X\n",
    "Y = apd1.Y\n",
    "II = apd1.assemble_apd() # grain map"
   ]
  },
  {
   "cell_type": "code",
   "execution_count": 7,
   "id": "502e126f-5816-426b-a6fb-bc44adebe8a8",
   "metadata": {},
   "outputs": [],
   "source": [
    "dims = A.shape"
   ]
  },
  {
   "cell_type": "code",
   "execution_count": 81,
   "id": "f50c19ec-4b9f-44f3-a1e9-d2d72cb12cf1",
   "metadata": {},
   "outputs": [],
   "source": [
    "W_t = W.view(dims[0],1,1)\n",
    "X_t = X.view(dims[0], 1, dims[1])\n",
    "Y_t = Y.view(1, len(Y), 2)\n",
    "\n",
    "MV_s = torch.einsum('bij,bkj->bki',A,Y_t-X_t)\n",
    "D_ij_torch = torch.einsum('bkj,bkj->bk',MV_s,Y_t-X_t)\n",
    "\n",
    "D_ij_torch = (D_ij_torch[:,:,None] - W_t)[:,:,0]\n",
    "\n",
    "a = LazyTensor(A.view(dims[0], 1, dims[1] * dims[2]))\n",
    "w = LazyTensor(W_t)\n",
    "x = LazyTensor(X_t)\n",
    "y = LazyTensor(Y_t)\n",
    "D_ij = ((y - x) | a.matvecmult(y - x)) - w"
   ]
  },
  {
   "cell_type": "code",
   "execution_count": 82,
   "id": "5b6df400-2154-4020-8f36-01131874a343",
   "metadata": {},
   "outputs": [],
   "source": [
    "comp1_keops = (y-x).sum(dim=0).sum(dim=1)"
   ]
  },
  {
   "cell_type": "code",
   "execution_count": 83,
   "id": "af71d356-f224-4107-b80c-c0b87e25c865",
   "metadata": {},
   "outputs": [],
   "source": [
    "comp1_torch = (Y_t-X_t).sum(dim=0).sum(dim=1)"
   ]
  },
  {
   "cell_type": "code",
   "execution_count": 85,
   "id": "81b3bdda-36e0-4055-9aba-c54903923b76",
   "metadata": {},
   "outputs": [
    {
     "data": {
      "text/plain": [
       "tensor(0.)"
      ]
     },
     "execution_count": 85,
     "metadata": {},
     "output_type": "execute_result"
    }
   ],
   "source": [
    "torch.max(torch.abs(comp1_keops-comp1_torch))"
   ]
  },
  {
   "cell_type": "code",
   "execution_count": 86,
   "id": "bfd93917-09dc-4398-a5c2-1f4f6ac2068a",
   "metadata": {},
   "outputs": [
    {
     "data": {
      "text/plain": [
       "tensor([0.0000e+00, 0.0000e+00, 0.0000e+00, 0.0000e+00, 0.0000e+00, 1.1921e-07,\n",
       "        1.1921e-07, 0.0000e+00, 0.0000e+00, 5.9605e-08, 0.0000e+00, 0.0000e+00,\n",
       "        0.0000e+00, 0.0000e+00, 5.9605e-08, 0.0000e+00, 5.9605e-08, 0.0000e+00,\n",
       "        0.0000e+00, 0.0000e+00, 0.0000e+00, 0.0000e+00, 0.0000e+00, 0.0000e+00,\n",
       "        2.9802e-08, 0.0000e+00, 0.0000e+00, 0.0000e+00, 0.0000e+00, 0.0000e+00,\n",
       "        0.0000e+00, 0.0000e+00, 0.0000e+00, 0.0000e+00, 5.9605e-08, 5.9605e-08,\n",
       "        0.0000e+00, 0.0000e+00, 0.0000e+00, 0.0000e+00, 0.0000e+00, 5.9605e-08,\n",
       "        0.0000e+00, 0.0000e+00, 0.0000e+00, 0.0000e+00, 0.0000e+00, 0.0000e+00,\n",
       "        0.0000e+00])"
      ]
     },
     "execution_count": 86,
     "metadata": {},
     "output_type": "execute_result"
    }
   ],
   "source": [
    "torch.abs(D_ij_torch.sum(dim=0) - D_ij.sum(dim=0)[:,0])"
   ]
  },
  {
   "cell_type": "code",
   "execution_count": 48,
   "id": "2e503848-7d61-404c-ac88-5392c23e7da6",
   "metadata": {},
   "outputs": [
    {
     "data": {
      "text/plain": [
       "tensor([ 0.0132, -0.0132])"
      ]
     },
     "execution_count": 48,
     "metadata": {},
     "output_type": "execute_result"
    }
   ],
   "source": [
    "apd1.W"
   ]
  },
  {
   "cell_type": "code",
   "execution_count": null,
   "id": "1d2d5a2f-63c1-46ec-b1ce-bd303f1f53eb",
   "metadata": {},
   "outputs": [],
   "source": []
  }
 ],
 "metadata": {
  "kernelspec": {
   "display_name": "Python 3 (ipykernel)",
   "language": "python",
   "name": "python3"
  },
  "language_info": {
   "codemirror_mode": {
    "name": "ipython",
    "version": 3
   },
   "file_extension": ".py",
   "mimetype": "text/x-python",
   "name": "python",
   "nbconvert_exporter": "python",
   "pygments_lexer": "ipython3",
   "version": "3.11.6"
  }
 },
 "nbformat": 4,
 "nbformat_minor": 5
}
