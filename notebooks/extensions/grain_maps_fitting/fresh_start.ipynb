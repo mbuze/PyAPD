{
 "cells": [
  {
   "cell_type": "code",
   "execution_count": 1,
   "id": "b23df2ad-5ba6-40c3-8e35-9a35994ab22f",
   "metadata": {},
   "outputs": [
    {
     "name": "stdout",
     "output_type": "stream",
     "text": [
      "[KeOps] Warning : Cuda libraries were not detected on the system ; using cpu only mode\n"
     ]
    }
   ],
   "source": [
    "# relevant libraries\n",
    "import PyAPD\n",
    "from pykeops.torch import LazyTensor\n",
    "import copy\n",
    "import torch\n",
    "import matplotlib.pyplot as plt\n",
    "\n",
    "from torchmin import minimize as minimize_torch\n",
    "\n",
    "# typical setup\n",
    "device = \"cuda\" if torch.cuda.is_available() else \"cpu\"\n",
    "dt = torch.float64\n",
    "torch.set_default_dtype(dt)"
   ]
  },
  {
   "cell_type": "code",
   "execution_count": 2,
   "id": "6cd81d31-577e-42ec-ae96-82dc3fa68d68",
   "metadata": {},
   "outputs": [
    {
     "name": "stdout",
     "output_type": "stream",
     "text": [
      "Precision loss detected!\n",
      "Percentage error =  95.62935638427734\n",
      "Lloyds iteration: 0\n",
      "Optimality condition successfully overwritten.\n",
      "The APD is optimal!\n",
      "Percentage error =  0.9365975856781006\n",
      "Lloyds iteration: 1\n",
      "Optimality condition successfully overwritten.\n",
      "The APD is optimal!\n",
      "Percentage error =  0.9365975856781006\n",
      "Lloyds iteration: 2\n",
      "Optimality condition successfully overwritten.\n",
      "The APD is optimal!\n",
      "Percentage error =  0.9365975856781006\n",
      "Lloyds iteration: 3\n",
      "Optimality condition successfully overwritten.\n",
      "The APD is optimal!\n",
      "Percentage error =  0.9365975856781006\n",
      "Lloyds iteration: 4\n",
      "Optimality condition successfully overwritten.\n",
      "The APD is optimal!\n",
      "Percentage error =  0.9365975856781006\n",
      "Lloyds iteration: 5\n",
      "Optimality condition successfully overwritten.\n",
      "The APD is optimal!\n",
      "Percentage error =  0.9365975856781006\n",
      "Lloyds iteration: 6\n",
      "Optimality condition successfully overwritten.\n",
      "The APD is optimal!\n",
      "Percentage error =  0.9365975856781006\n",
      "Lloyds iteration: 7\n",
      "Optimality condition successfully overwritten.\n",
      "The APD is optimal!\n",
      "Percentage error =  0.9365975856781006\n",
      "Lloyds iteration: 8\n",
      "Optimality condition successfully overwritten.\n",
      "The APD is optimal!\n",
      "Percentage error =  0.9365975856781006\n",
      "Lloyds iteration: 9\n",
      "Optimality condition successfully overwritten.\n",
      "The APD is optimal!\n",
      "Percentage error =  0.9365975856781006\n",
      "We have  961  pixels and  10  grains.\n"
     ]
    }
   ],
   "source": [
    "N = 10 # number of grains\n",
    "apd1 = PyAPD.apd_system(\n",
    "    N = N,\n",
    "    seed = 5, # fix random seed\n",
    "    pixel_size_prefactor = 1.0\n",
    ")\n",
    "apd1.check_optimality()\n",
    "#apd1.find_optimal_W()\n",
    "apd1.Lloyds_algorithm(K=10)\n",
    "#apd1.plot_apd()\n",
    "\n",
    "# Save the data:\n",
    "W_true = copy.deepcopy(apd1.W.contiguous())\n",
    "As_true = copy.deepcopy(apd1.As.contiguous())\n",
    "X_true = copy.deepcopy(apd1.X.contiguous())\n",
    "\n",
    "# Save the grain map:\n",
    "Y = copy.deepcopy(apd1.Y)\n",
    "II = copy.deepcopy(apd1.assemble_apd())\n",
    "II = II + 1\n",
    "y = LazyTensor(Y.view(1, len(Y), 2))\n",
    "print(\"We have \", len(Y), \" pixels and \", N, \" grains.\")"
   ]
  },
  {
   "cell_type": "code",
   "execution_count": 3,
   "id": "548ac273-f8af-47c0-a4d1-25f2added6dd",
   "metadata": {},
   "outputs": [],
   "source": [
    "# rescaled objective\n",
    "def objective_function_tilde(Xt,At,Wt):\n",
    "    dims = At.shape\n",
    "    MV = torch.einsum('bij,bj->bi', torch.index_select(At,0,II-1), Y)\n",
    "    sD_ij = torch.einsum('bj,bj->b',MV,Y) - torch.index_select(Wt, 0, II-1) - torch.einsum('bi,bi->b',torch.index_select(Xt, 0, II-1),Y)\n",
    "    first_sum = (-sD_ij).sum()\n",
    "\n",
    "    at = LazyTensor(At.view(dims[0], 1, dims[1] * dims[2]))\n",
    "    wt = LazyTensor(Wt.view(dims[0],1,1))\n",
    "    xt = LazyTensor(Xt.view(dims[0], 1, dims[1]))\n",
    "    D_ij =  (y | at.matvecmult(y)) - wt - ((y*xt).sum(dim=2))\n",
    "    second_sum = (-D_ij).logsumexp(dim=0).sum(dim=0)\n",
    "    \n",
    "    return -(first_sum - second_sum)"
   ]
  },
  {
   "cell_type": "code",
   "execution_count": null,
   "id": "3eca40b6-e6d5-4762-9175-4c5bb2882043",
   "metadata": {},
   "outputs": [],
   "source": []
  }
 ],
 "metadata": {
  "kernelspec": {
   "display_name": "Python 3 (ipykernel)",
   "language": "python",
   "name": "python3"
  },
  "language_info": {
   "codemirror_mode": {
    "name": "ipython",
    "version": 3
   },
   "file_extension": ".py",
   "mimetype": "text/x-python",
   "name": "python",
   "nbconvert_exporter": "python",
   "pygments_lexer": "ipython3",
   "version": "3.11.6"
  }
 },
 "nbformat": 4,
 "nbformat_minor": 5
}
