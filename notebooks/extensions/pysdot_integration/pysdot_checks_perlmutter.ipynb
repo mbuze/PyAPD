{
 "cells": [
  {
   "cell_type": "code",
   "execution_count": 3,
   "id": "cdc600eb-e8c7-4548-b64e-610b11a020b3",
   "metadata": {
    "tags": []
   },
   "outputs": [
    {
     "name": "stdout",
     "output_type": "stream",
     "text": [
      "Defaulting to user installation because normal site-packages is not writeable\n",
      "Requirement already satisfied: mpi4py in /global/common/software/nersc/pm-2022q4/sw/pytorch/1.13.1/lib/python3.9/site-packages (3.0.3)\n",
      "Collecting petsc\n",
      "  Downloading petsc-3.19.2.tar.gz (16.6 MB)\n",
      "\u001b[2K     \u001b[90m━━━━━━━━━━━━━━━━━━━━━━━━━━━━━━━━━━━━━━━━\u001b[0m \u001b[32m16.6/16.6 MB\u001b[0m \u001b[31m11.4 MB/s\u001b[0m eta \u001b[36m0:00:00\u001b[0m00:01\u001b[0m00:01\u001b[0m\n",
      "\u001b[?25h  Preparing metadata (setup.py) ... \u001b[?25ldone\n",
      "\u001b[?25hCollecting petsc4py\n",
      "  Downloading petsc4py-3.19.2.tar.gz (292 kB)\n",
      "\u001b[2K     \u001b[90m━━━━━━━━━━━━━━━━━━━━━━━━━━━━━━━━━━━━━━\u001b[0m \u001b[32m292.1/292.1 kB\u001b[0m \u001b[31m32.2 MB/s\u001b[0m eta \u001b[36m0:00:00\u001b[0m\n",
      "\u001b[?25h  Preparing metadata (setup.py) ... \u001b[?25ldone\n",
      "\u001b[?25hRequirement already satisfied: numpy in /global/common/software/nersc/pm-2022q4/sw/pytorch/1.13.1/lib/python3.9/site-packages (from petsc4py) (1.23.4)\n",
      "Building wheels for collected packages: petsc, petsc4py\n",
      "  Building wheel for petsc (setup.py) ... \u001b[?25lerror\n",
      "  \u001b[1;31merror\u001b[0m: \u001b[1msubprocess-exited-with-error\u001b[0m\n",
      "  \n",
      "  \u001b[31m×\u001b[0m \u001b[32mpython setup.py bdist_wheel\u001b[0m did not run successfully.\n",
      "  \u001b[31m│\u001b[0m exit code: \u001b[1;36m1\u001b[0m\n",
      "  \u001b[31m╰─>\u001b[0m \u001b[31m[1 lines of output]\u001b[0m\n",
      "  \u001b[31m   \u001b[0m petsc: this package cannot be built as a wheel\n",
      "  \u001b[31m   \u001b[0m \u001b[31m[end of output]\u001b[0m\n",
      "  \n",
      "  \u001b[1;35mnote\u001b[0m: This error originates from a subprocess, and is likely not a problem with pip.\n",
      "\u001b[31m  ERROR: Failed building wheel for petsc\u001b[0m\u001b[31m\n",
      "\u001b[0m\u001b[?25h  Running setup.py clean for petsc\n",
      "  Building wheel for petsc4py (setup.py) ... \u001b[?25lerror\n",
      "  \u001b[1;31merror\u001b[0m: \u001b[1msubprocess-exited-with-error\u001b[0m\n",
      "  \n",
      "  \u001b[31m×\u001b[0m \u001b[32mpython setup.py bdist_wheel\u001b[0m did not run successfully.\n",
      "  \u001b[31m│\u001b[0m exit code: \u001b[1;36m1\u001b[0m\n",
      "  \u001b[31m╰─>\u001b[0m \u001b[31m[29 lines of output]\u001b[0m\n",
      "  \u001b[31m   \u001b[0m running bdist_wheel\n",
      "  \u001b[31m   \u001b[0m PETSC_DIR not specified\n",
      "  \u001b[31m   \u001b[0m running build\n",
      "  \u001b[31m   \u001b[0m running build_src\n",
      "  \u001b[31m   \u001b[0m fetching build requirement 'Cython >= 0.29.32'\n",
      "  \u001b[31m   \u001b[0m using Cython 0.29.36\n",
      "  \u001b[31m   \u001b[0m cythonizing 'petsc4py/PETSc.pyx' -> 'petsc4py/PETSc.c'\n",
      "  \u001b[31m   \u001b[0m running build_py\n",
      "  \u001b[31m   \u001b[0m creating build\n",
      "  \u001b[31m   \u001b[0m creating build/lib.linux-x86_64-cpython-39\n",
      "  \u001b[31m   \u001b[0m creating build/lib.linux-x86_64-cpython-39/petsc4py\n",
      "  \u001b[31m   \u001b[0m copying src/petsc4py/__main__.py -> build/lib.linux-x86_64-cpython-39/petsc4py\n",
      "  \u001b[31m   \u001b[0m copying src/petsc4py/__init__.py -> build/lib.linux-x86_64-cpython-39/petsc4py\n",
      "  \u001b[31m   \u001b[0m copying src/petsc4py/PETSc.py -> build/lib.linux-x86_64-cpython-39/petsc4py\n",
      "  \u001b[31m   \u001b[0m creating build/lib.linux-x86_64-cpython-39/petsc4py/lib\n",
      "  \u001b[31m   \u001b[0m copying src/petsc4py/lib/__init__.py -> build/lib.linux-x86_64-cpython-39/petsc4py/lib\n",
      "  \u001b[31m   \u001b[0m copying src/petsc4py/PETSc.pxd -> build/lib.linux-x86_64-cpython-39/petsc4py\n",
      "  \u001b[31m   \u001b[0m copying src/petsc4py/PETSc_api.h -> build/lib.linux-x86_64-cpython-39/petsc4py\n",
      "  \u001b[31m   \u001b[0m copying src/petsc4py/PETSc.h -> build/lib.linux-x86_64-cpython-39/petsc4py\n",
      "  \u001b[31m   \u001b[0m creating build/lib.linux-x86_64-cpython-39/petsc4py/include\n",
      "  \u001b[31m   \u001b[0m creating build/lib.linux-x86_64-cpython-39/petsc4py/include/petsc4py\n",
      "  \u001b[31m   \u001b[0m copying src/petsc4py/include/petsc4py/pyscalar.h -> build/lib.linux-x86_64-cpython-39/petsc4py/include/petsc4py\n",
      "  \u001b[31m   \u001b[0m copying src/petsc4py/include/petsc4py/pybuffer.h -> build/lib.linux-x86_64-cpython-39/petsc4py/include/petsc4py\n",
      "  \u001b[31m   \u001b[0m copying src/petsc4py/include/petsc4py/petsc4py.h -> build/lib.linux-x86_64-cpython-39/petsc4py/include/petsc4py\n",
      "  \u001b[31m   \u001b[0m copying src/petsc4py/include/petsc4py/numpy.h -> build/lib.linux-x86_64-cpython-39/petsc4py/include/petsc4py\n",
      "  \u001b[31m   \u001b[0m copying src/petsc4py/include/petsc4py/petsc4py.i -> build/lib.linux-x86_64-cpython-39/petsc4py/include/petsc4py\n",
      "  \u001b[31m   \u001b[0m copying src/petsc4py/lib/petsc.cfg -> build/lib.linux-x86_64-cpython-39/petsc4py/lib\n",
      "  \u001b[31m   \u001b[0m running build_ext\n",
      "  \u001b[31m   \u001b[0m error: PETSc not found\n",
      "  \u001b[31m   \u001b[0m \u001b[31m[end of output]\u001b[0m\n",
      "  \n",
      "  \u001b[1;35mnote\u001b[0m: This error originates from a subprocess, and is likely not a problem with pip.\n",
      "\u001b[31m  ERROR: Failed building wheel for petsc4py\u001b[0m\u001b[31m\n",
      "\u001b[0m\u001b[?25h  Running setup.py clean for petsc4py\n",
      "Failed to build petsc petsc4py\n",
      "Installing collected packages: petsc, petsc4py\n",
      "  Running setup.py install for petsc ... \u001b[?25ldone\n",
      "\u001b[33m  DEPRECATION: petsc was installed using the legacy 'setup.py install' method, because a wheel could not be built for it. pip 23.1 will enforce this behaviour change. A possible replacement is to fix the wheel build issue reported above. Discussion can be found at https://github.com/pypa/pip/issues/8368\u001b[0m\u001b[33m\n",
      "\u001b[0m\u001b[?25h  Running setup.py install for petsc4py ... \u001b[?25ldone\n",
      "\u001b[33m  DEPRECATION: petsc4py was installed using the legacy 'setup.py install' method, because a wheel could not be built for it. pip 23.1 will enforce this behaviour change. A possible replacement is to fix the wheel build issue reported above. Discussion can be found at https://github.com/pypa/pip/issues/8368\u001b[0m\u001b[33m\n",
      "\u001b[0m\u001b[?25hSuccessfully installed petsc-3.19.2 petsc4py-3.19.2\n"
     ]
    }
   ],
   "source": [
    "!pip install mpi4py petsc petsc4py"
   ]
  },
  {
   "cell_type": "code",
   "execution_count": null,
   "id": "935d5283-8c18-4952-a9e6-726457836452",
   "metadata": {},
   "outputs": [],
   "source": []
  }
 ],
 "metadata": {
  "kernelspec": {
   "display_name": "pytorch-1.13.1",
   "language": "python",
   "name": "pytorch-1.13.1"
  },
  "language_info": {
   "codemirror_mode": {
    "name": "ipython",
    "version": 3
   },
   "file_extension": ".py",
   "mimetype": "text/x-python",
   "name": "python",
   "nbconvert_exporter": "python",
   "pygments_lexer": "ipython3",
   "version": "3.9.15"
  }
 },
 "nbformat": 4,
 "nbformat_minor": 5
}
