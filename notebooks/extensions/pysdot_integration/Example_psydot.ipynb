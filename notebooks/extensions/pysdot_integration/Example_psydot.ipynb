{
 "cells": [
  {
   "cell_type": "markdown",
   "id": "ab03d41d",
   "metadata": {},
   "source": [
    "# Experiments with pysdot\n",
    "\n",
    "First import the relevant python libraries."
   ]
  },
  {
   "cell_type": "code",
   "execution_count": 1,
   "id": "8527aba3",
   "metadata": {},
   "outputs": [],
   "source": [
    "#imports\n",
    "from pysdot.domain_types import ConvexPolyhedraAssembly\n",
    "#from pysdot.domain_types import ScaledImage\n",
    "from pysdot import OptimalTransport\n",
    "from pysdot import PowerDiagram\n",
    "import numpy as np\n",
    "import pyvista as pv\n",
    "import matplotlib.pyplot as plt\n",
    "import time as tm"
   ]
  },
  {
   "cell_type": "markdown",
   "id": "4bab6f5f",
   "metadata": {},
   "source": [
    "## Computing a power diagram\n",
    "\n",
    "### Set up the domain"
   ]
  },
  {
   "cell_type": "code",
   "execution_count": 2,
   "id": "7fbe152b",
   "metadata": {},
   "outputs": [
    {
     "data": {
      "text/plain": [
       "8.0"
      ]
     },
     "execution_count": 2,
     "metadata": {},
     "output_type": "execute_result"
    }
   ],
   "source": [
    "L=2; # Cube dimensions\n",
    "\n",
    "dm=ConvexPolyhedraAssembly(); # Create a polyhedral assembly\n",
    "dm.add_box([0,0,0],[L,L,L]); # Add the box dimensions\n",
    "dm.measure()"
   ]
  },
  {
   "cell_type": "markdown",
   "id": "2ed8e988",
   "metadata": {},
   "source": [
    "### Set up random seed locations and compute the Voronoi diagram"
   ]
  },
  {
   "cell_type": "code",
   "execution_count": 3,
   "id": "d14dc8a8",
   "metadata": {},
   "outputs": [
    {
     "name": "stdout",
     "output_type": "stream",
     "text": [
      "Elapsed time 0.0005803108215332031\n"
     ]
    }
   ],
   "source": [
    "st=tm.time();\n",
    "N=10000; # Specify the number of grains\n",
    "x=L*np.random.rand(N,3); # Random seed locations in the cube\n",
    "w=0*np.ones(N);\n",
    "pd=PowerDiagram(positions=x,weights=w,domain=dm);\n",
    "en=tm.time();\n",
    "print('Elapsed time {}'.format(en-st))"
   ]
  },
  {
   "cell_type": "code",
   "execution_count": 4,
   "id": "4c1569fa",
   "metadata": {},
   "outputs": [],
   "source": [
    "# Store the volumes in an array\n",
    "vols=pd.integrals();\n",
    "\n",
    "# Save the results in a .vtk file\n",
    "filename=\"results.vtk\";\n",
    "pd.display_vtk(filename);"
   ]
  },
  {
   "cell_type": "code",
   "execution_count": 5,
   "id": "a95476a4",
   "metadata": {},
   "outputs": [
    {
     "name": "stderr",
     "output_type": "stream",
     "text": [
      "Widget Javascript not detected.  It may not be installed or enabled properly. Reconnecting the current kernel may help.\n"
     ]
    },
    {
     "data": {
      "application/vnd.jupyter.widget-view+json": {
       "model_id": "c6b64bb69e764d16922bd00ce07499c8"
      }
     },
     "metadata": {},
     "output_type": "display_data"
    }
   ],
   "source": [
    "# Read the data\n",
    "grid=pv.read(filename)\n",
    "# create cell data that gives the cell volumes, this allows us to colour by cell volumes\n",
    "cell_vols=vols[grid.cell_data['num'].astype(int)]\n",
    "grid.cell_data['vols']=cell_vols\n",
    "\n",
    "# plot the data with an automatically created plotter, for a static picture use backend='static'\n",
    "#grid.plot(scalars='vols',jupyter_backend='static',background='white')\n",
    "plotter = pv.Plotter(window_size=[800,800],notebook=True)\n",
    "plotter.add_mesh(grid)\n",
    "plotter.show()\n",
    "\n",
    "# Add a headlight\n",
    "light=pv.Light(light_type='headlight')\n",
    "plotter.add_light(light)"
   ]
  },
  {
   "cell_type": "markdown",
   "id": "ed6fea8b",
   "metadata": {},
   "source": [
    "## Solving OT problem for given grain volume distributions\n",
    "\n",
    "\n",
    "### Create distribution of target volumes"
   ]
  },
  {
   "cell_type": "code",
   "execution_count": 6,
   "id": "5682418d",
   "metadata": {},
   "outputs": [
    {
     "name": "stdout",
     "output_type": "stream",
     "text": [
      "Target volumes sum to volume of domain to within machine precision\n"
     ]
    }
   ],
   "source": [
    "N=1000;\n",
    "\n",
    "x=L*np.random.rand(N,3); # Random seed locations in the cube\n",
    "w=0*np.ones(N);\n",
    "\n",
    "ln_mean=1; # mean of the distribution\n",
    "std_dev=0.35; # standard deviation of the distribution\n",
    "sigma=np.sqrt((np.log(1+(std_dev/ln_mean)**2))); # log-normal parameter sigma\n",
    "mu=-0.5*sigma**2+np.log(ln_mean); # log-normal parameter mu\n",
    "\n",
    "# Draw the radii from the log-normal distribution\n",
    "radii=np.random.lognormal(mu,sigma,N);\n",
    "target_vols=radii**3\n",
    "\n",
    "# Log-normal target_vols\n",
    "target_vols=L**3*target_vols/np.sum(target_vols)\n",
    "\n",
    "# Equal target volumes\n",
    "#target_vols=L**3*np.ones(N)/N\n",
    "\n",
    "if(np.abs(np.sum(target_vols)-L**3)<2*np.finfo(float).eps):\n",
    "    print('Target volumes sum to volume of domain to within machine precision')\n",
    "else:\n",
    "    print('Target volumes DO NOT sum to volume of domain error {}'.format(np.sum(target_vols)-L**3))\n",
    "    \n"
   ]
  },
  {
   "cell_type": "markdown",
   "id": "861d6c8c",
   "metadata": {},
   "source": [
    "### Solve OT problem"
   ]
  },
  {
   "cell_type": "code",
   "execution_count": 8,
   "id": "b61e7d21",
   "metadata": {},
   "outputs": [
    {
     "name": "stdout",
     "output_type": "stream",
     "text": [
      "Elapsed time 0.30860209465026855\n"
     ]
    }
   ],
   "source": [
    "err_tol=1e-3;\n",
    "st=tm.time()\n",
    "ot=OptimalTransport(positions=x,weights=w,masses=target_vols,domain=dm,obj_max_dw=err_tol,verbosity=0)\n",
    "ot.adjust_weights()\n",
    "en=tm.time()\n",
    "print('Elapsed time {}'.format(en-st))\n"
   ]
  },
  {
   "cell_type": "code",
   "execution_count": 9,
   "id": "bbf5da0e",
   "metadata": {},
   "outputs": [],
   "source": [
    "\n",
    "# Save the powerdiagram from the OT problem\n",
    "otfilename='results_ot.vtk'\n",
    "ot.pd.display_vtk(otfilename)\n",
    "\n",
    "# Store the volumes in an array\n",
    "otvols=ot.pd.integrals();"
   ]
  },
  {
   "cell_type": "code",
   "execution_count": 10,
   "id": "a2323299",
   "metadata": {},
   "outputs": [
    {
     "name": "stderr",
     "output_type": "stream",
     "text": [
      "Widget Javascript not detected.  It may not be installed or enabled properly. Reconnecting the current kernel may help.\n"
     ]
    },
    {
     "data": {
      "application/vnd.jupyter.widget-view+json": {
       "model_id": "e887c69ab5d442cebbb4a590b216e641"
      }
     },
     "metadata": {},
     "output_type": "display_data"
    }
   ],
   "source": [
    "# Read the data\n",
    "otgrid=pv.read(otfilename)\n",
    "# create cell data that gives the cell volumes, this allows us to colour by cell volumes\n",
    "otcell_vols=otvols[otgrid.cell_data['num'].astype(int)]\n",
    "otgrid.cell_data['vols']=otcell_vols\n",
    "\n",
    "# plot the data with an automatically created plotter, for a static picture use backend='static'\n",
    "#grid.plot(scalars='vols',jupyter_backend='static',background='white')\n",
    "otplotter = pv.Plotter(window_size=[800,800],notebook=True)\n",
    "otplotter.add_mesh(otgrid)\n",
    "otplotter.show()\n",
    "\n",
    "# Add a headlight\n",
    "otplotter.add_light(light)"
   ]
  },
  {
   "cell_type": "markdown",
   "id": "4032e558",
   "metadata": {},
   "source": [
    "### Check volumes against target_volumes"
   ]
  },
  {
   "cell_type": "code",
   "execution_count": 11,
   "id": "18def39e",
   "metadata": {},
   "outputs": [
    {
     "data": {
      "image/png": "[encoded data removed]",
      "text/plain": [
       "<Figure size 576x576 with 1 Axes>"
      ]
     },
     "metadata": {
      "needs_background": "light"
     },
     "output_type": "display_data"
    }
   ],
   "source": [
    "rel_errs=np.abs(target_vols-otvols)/target_vols\n",
    "abs_errs=np.abs(target_vols-otvols)\n",
    "counts, bins_counts = np.histogram(rel_errs,100)\n",
    "\n",
    "pdf = counts\n",
    "  \n",
    "# using numpy np.cumsum to calculate the CDF\n",
    "# We can also find using the PDF values by looping and adding\n",
    "cdf = np.cumsum(pdf)\n",
    "  \n",
    "# plotting PDF and CDF\n",
    "plt.figure(figsize=(8,8));\n",
    "plt.plot(bins_counts[1:], N-cdf, label=\"CDF\",linewidth=2);\n",
    "plt.yscale('log');\n",
    "plt.xscale('log');\n",
    "plt.xlabel('Relative % error',fontsize=12);\n",
    "plt.ylabel('Number of cells',fontsize=12);\n",
    "plt.show()"
   ]
  },
  {
   "cell_type": "markdown",
   "id": "4d5531e4",
   "metadata": {},
   "source": [
    "### A function to extract grains with a given index"
   ]
  },
  {
   "cell_type": "code",
   "execution_count": 12,
   "id": "ec8bf819",
   "metadata": {},
   "outputs": [],
   "source": [
    "## Define a function that can extract the grains with a particular index\n",
    "\n",
    "def getcells(grid,indxs):\n",
    "    nums=grid.cell_data['num'].astype(int)\n",
    "    indices=np.array([],dtype=np.int32)\n",
    "    for idx in indxs:\n",
    "        tmp=np.where(nums==idx)[0];\n",
    "        indices=np.concatenate((indices,tmp))\n",
    "    \n",
    "    out=grid.extract_cells(indices);\n",
    "    return out"
   ]
  },
  {
   "cell_type": "markdown",
   "id": "27fd3e01",
   "metadata": {},
   "source": [
    "### Here we extract the ten largest-volume cells and plot them"
   ]
  },
  {
   "cell_type": "code",
   "execution_count": 13,
   "id": "12673fd0",
   "metadata": {},
   "outputs": [
    {
     "name": "stderr",
     "output_type": "stream",
     "text": [
      "Widget Javascript not detected.  It may not be installed or enabled properly. Reconnecting the current kernel may help.\n"
     ]
    },
    {
     "data": {
      "application/vnd.jupyter.widget-view+json": {
       "model_id": "1d1db50433c54a0897cd6cc5ce6b49f4"
      }
     },
     "metadata": {},
     "output_type": "display_data"
    }
   ],
   "source": [
    "# The grain index of the m largest volume grains\n",
    "m=10;\n",
    "grain_indices=np.argsort(otvols)[-m:]\n",
    "\n",
    "# Extract these cells\n",
    "cells=getcells(otgrid,grain_indices)\n",
    "cellplotter = pv.Plotter(window_size=[800,800],notebook=True)\n",
    "cellplotter.add_mesh(cells)\n",
    "cellplotter.show()\n",
    "\n",
    "# Add a headlight\n",
    "cellplotter.add_light(light)"
   ]
  },
  {
   "cell_type": "code",
   "execution_count": null,
   "id": "4b2b52db",
   "metadata": {},
   "outputs": [],
   "source": []
  }
 ],
 "metadata": {
  "kernelspec": {
   "display_name": "Python 3 (ipykernel)",
   "language": "python",
   "name": "python3"
  },
  "language_info": {
   "codemirror_mode": {
    "name": "ipython",
    "version": 3
   },
   "file_extension": ".py",
   "mimetype": "text/x-python",
   "name": "python",
   "nbconvert_exporter": "python",
   "pygments_lexer": "ipython3",
   "version": "3.11.6"
  }
 },
 "nbformat": 4,
 "nbformat_minor": 5
}
