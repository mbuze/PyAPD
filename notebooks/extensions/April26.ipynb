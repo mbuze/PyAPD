{
 "cells": [
  {
   "cell_type": "code",
   "execution_count": 1,
   "id": "c0dc8fb5-c6ce-4ba9-9a09-42636ba04d38",
   "metadata": {},
   "outputs": [
    {
     "name": "stdout",
     "output_type": "stream",
     "text": [
      "/home/mb/MEGAsync/academic_work/projects/geometric_model_polycrystals/code/PyAPD\n"
     ]
    }
   ],
   "source": [
    "cd ../.."
   ]
  },
  {
   "cell_type": "code",
   "execution_count": 2,
   "id": "7b3ce888-ca9d-42af-a0a9-99b97eb07f94",
   "metadata": {},
   "outputs": [
    {
     "name": "stdout",
     "output_type": "stream",
     "text": [
      "Defaulting to user installation because normal site-packages is not writeable\n",
      "Obtaining file:///home/mb/MEGAsync/academic_work/projects/geometric_model_polycrystals/code/PyAPD\n",
      "  Preparing metadata (setup.py) ... \u001b[?25ldone\n",
      "\u001b[?25hRequirement already satisfied: numpy in /home/mb/.local/lib/python3.11/site-packages (from PyAPD==0.1.1) (1.24.3)\n",
      "Requirement already satisfied: pykeops in /home/mb/.local/lib/python3.11/site-packages (from PyAPD==0.1.1) (2.1.2)\n",
      "Requirement already satisfied: torch in /home/mb/.local/lib/python3.11/site-packages (from PyAPD==0.1.1) (2.0.1)\n",
      "Requirement already satisfied: pytorch-minimize in /home/mb/.local/lib/python3.11/site-packages (from PyAPD==0.1.1) (0.0.2)\n",
      "Requirement already satisfied: matplotlib in /home/mb/.local/lib/python3.11/site-packages (from PyAPD==0.1.1) (3.7.1)\n",
      "Requirement already satisfied: scipy in /home/mb/.local/lib/python3.11/site-packages (from PyAPD==0.1.1) (1.10.1)\n",
      "Requirement already satisfied: contourpy>=1.0.1 in /usr/lib64/python3.11/site-packages (from matplotlib->PyAPD==0.1.1) (1.0.7)\n",
      "Requirement already satisfied: cycler>=0.10 in /usr/lib/python3.11/site-packages (from matplotlib->PyAPD==0.1.1) (0.11.0)\n",
      "Requirement already satisfied: fonttools>=4.22.0 in /usr/lib64/python3.11/site-packages (from matplotlib->PyAPD==0.1.1) (4.37.2)\n",
      "Requirement already satisfied: kiwisolver>=1.0.1 in /usr/lib64/python3.11/site-packages (from matplotlib->PyAPD==0.1.1) (1.4.5)\n",
      "Requirement already satisfied: packaging>=20.0 in /home/mb/.local/lib/python3.11/site-packages (from matplotlib->PyAPD==0.1.1) (24.0)\n",
      "Requirement already satisfied: pillow>=6.2.0 in /usr/lib64/python3.11/site-packages (from matplotlib->PyAPD==0.1.1) (9.2.0)\n",
      "Requirement already satisfied: pyparsing>=2.3.1 in /usr/lib/python3.11/site-packages (from matplotlib->PyAPD==0.1.1) (3.0.9)\n",
      "Requirement already satisfied: python-dateutil>=2.7 in /usr/lib/python3.11/site-packages (from matplotlib->PyAPD==0.1.1) (2.8.2)\n",
      "Requirement already satisfied: pybind11 in /home/mb/.local/lib/python3.11/site-packages (from pykeops->PyAPD==0.1.1) (2.10.4)\n",
      "Requirement already satisfied: keopscore==2.1.2 in /home/mb/.local/lib/python3.11/site-packages (from pykeops->PyAPD==0.1.1) (2.1.2)\n",
      "Requirement already satisfied: filelock in /home/mb/.local/lib/python3.11/site-packages (from torch->PyAPD==0.1.1) (3.12.0)\n",
      "Requirement already satisfied: typing-extensions in /home/mb/.local/lib/python3.11/site-packages (from torch->PyAPD==0.1.1) (4.6.2)\n",
      "Requirement already satisfied: sympy in /usr/lib/python3.11/site-packages (from torch->PyAPD==0.1.1) (1.11.1)\n",
      "Requirement already satisfied: networkx in /usr/lib/python3.11/site-packages (from torch->PyAPD==0.1.1) (2.8.8)\n",
      "Requirement already satisfied: jinja2 in /usr/lib/python3.11/site-packages (from torch->PyAPD==0.1.1) (3.0.3)\n",
      "Requirement already satisfied: nvidia-cuda-nvrtc-cu11==11.7.99 in /home/mb/.local/lib/python3.11/site-packages (from torch->PyAPD==0.1.1) (11.7.99)\n",
      "Requirement already satisfied: nvidia-cuda-runtime-cu11==11.7.99 in /home/mb/.local/lib/python3.11/site-packages (from torch->PyAPD==0.1.1) (11.7.99)\n",
      "Requirement already satisfied: nvidia-cuda-cupti-cu11==11.7.101 in /home/mb/.local/lib/python3.11/site-packages (from torch->PyAPD==0.1.1) (11.7.101)\n",
      "Requirement already satisfied: nvidia-cudnn-cu11==8.5.0.96 in /home/mb/.local/lib/python3.11/site-packages (from torch->PyAPD==0.1.1) (8.5.0.96)\n",
      "Requirement already satisfied: nvidia-cublas-cu11==11.10.3.66 in /home/mb/.local/lib/python3.11/site-packages (from torch->PyAPD==0.1.1) (11.10.3.66)\n",
      "Requirement already satisfied: nvidia-cufft-cu11==10.9.0.58 in /home/mb/.local/lib/python3.11/site-packages (from torch->PyAPD==0.1.1) (10.9.0.58)\n",
      "Requirement already satisfied: nvidia-curand-cu11==10.2.10.91 in /home/mb/.local/lib/python3.11/site-packages (from torch->PyAPD==0.1.1) (10.2.10.91)\n",
      "Requirement already satisfied: nvidia-cusolver-cu11==11.4.0.1 in /home/mb/.local/lib/python3.11/site-packages (from torch->PyAPD==0.1.1) (11.4.0.1)\n",
      "Requirement already satisfied: nvidia-cusparse-cu11==11.7.4.91 in /home/mb/.local/lib/python3.11/site-packages (from torch->PyAPD==0.1.1) (11.7.4.91)\n",
      "Requirement already satisfied: nvidia-nccl-cu11==2.14.3 in /home/mb/.local/lib/python3.11/site-packages (from torch->PyAPD==0.1.1) (2.14.3)\n",
      "Requirement already satisfied: nvidia-nvtx-cu11==11.7.91 in /home/mb/.local/lib/python3.11/site-packages (from torch->PyAPD==0.1.1) (11.7.91)\n",
      "Requirement already satisfied: triton==2.0.0 in /home/mb/.local/lib/python3.11/site-packages (from torch->PyAPD==0.1.1) (2.0.0)\n",
      "Requirement already satisfied: setuptools in /usr/lib/python3.11/site-packages (from nvidia-cublas-cu11==11.10.3.66->torch->PyAPD==0.1.1) (62.6.0)\n",
      "Requirement already satisfied: wheel in /home/mb/.local/lib/python3.11/site-packages (from nvidia-cublas-cu11==11.10.3.66->torch->PyAPD==0.1.1) (0.40.0)\n",
      "Requirement already satisfied: cmake in /home/mb/.local/lib/python3.11/site-packages (from triton==2.0.0->torch->PyAPD==0.1.1) (3.26.3)\n",
      "Requirement already satisfied: lit in /home/mb/.local/lib/python3.11/site-packages (from triton==2.0.0->torch->PyAPD==0.1.1) (16.0.5)\n",
      "Requirement already satisfied: six>=1.5 in /usr/lib/python3.11/site-packages (from python-dateutil>=2.7->matplotlib->PyAPD==0.1.1) (1.16.0)\n",
      "Requirement already satisfied: MarkupSafe>=2.0 in /usr/lib64/python3.11/site-packages (from jinja2->torch->PyAPD==0.1.1) (2.1.1)\n",
      "Requirement already satisfied: mpmath>=0.19 in /usr/lib/python3.11/site-packages (from sympy->torch->PyAPD==0.1.1) (1.2.1)\n",
      "Installing collected packages: PyAPD\n",
      "  Attempting uninstall: PyAPD\n",
      "    Found existing installation: PyAPD 0.1.1\n",
      "    Uninstalling PyAPD-0.1.1:\n",
      "      Successfully uninstalled PyAPD-0.1.1\n",
      "  Running setup.py develop for PyAPD\n",
      "Successfully installed PyAPD-0.1.1\n"
     ]
    }
   ],
   "source": [
    "# installing the prototype local version of `PyAPD`\n",
    "!pip install -e ."
   ]
  },
  {
   "cell_type": "code",
   "execution_count": 23,
   "id": "578630a2-330f-47ee-9a35-975f181fc54d",
   "metadata": {},
   "outputs": [],
   "source": [
    "import PyAPD\n",
    "import time\n",
    "from pykeops.torch import LazyTensor\n",
    "import torch\n",
    "from torchmin import minimize as minimize_torch\n",
    "import copy\n",
    "#import ipywidgets as widgets\n",
    "from matplotlib import animation\n",
    "from matplotlib import pyplot as plt\n",
    "\n",
    "from pysdot.domain_types import ConvexPolyhedraAssembly\n",
    "#from pysdot.domain_types import ScaledImage\n",
    "from pysdot import OptimalTransport\n",
    "from pysdot import PowerDiagram"
   ]
  },
  {
   "cell_type": "code",
   "execution_count": 32,
   "id": "150476b3-d947-4bd3-9624-2adf5099fb16",
   "metadata": {},
   "outputs": [],
   "source": [
    "N = 10000\n",
    "apd = PyAPD.apd_system(N=N,\n",
    "                       ani_thres=0.05,\n",
    "                       pixel_size_prefactor=2,\n",
    "                       dt=torch.float64,\n",
    "                       seed = 30,\n",
    "                      error_tolerance=0.01)\n",
    "# apd.check_optimality()\n",
    "W0 = apd.W\n",
    "# apd.find_optimal_W()"
   ]
  },
  {
   "cell_type": "code",
   "execution_count": 30,
   "id": "8a051ae8-c664-4434-958e-6e7e45d0768d",
   "metadata": {},
   "outputs": [],
   "source": [
    "# apd.check_optimality()"
   ]
  },
  {
   "cell_type": "markdown",
   "id": "0eaa13a1-cde3-4da8-8080-b43d738c2106",
   "metadata": {},
   "source": [
    "We would like to be able to compute optimal $W$ faster than this. Putting aside the issues of hardware, this can be achieved if we somehow lower the number of total iterations/function evaluations. \n",
    "\n",
    "To this end we would like to utilise the isotropic case and `pysdot` in particular. A prototype of `pysdot` and `PyAPD` integration is as follows. "
   ]
  },
  {
   "cell_type": "code",
   "execution_count": 33,
   "id": "e7665203-78a6-4cf9-ad06-5185cb87722d",
   "metadata": {},
   "outputs": [
    {
     "name": "stdout",
     "output_type": "stream",
     "text": [
      "Sucessfully imported sparse linear solver Scipy.\n",
      "Elapsed time 1.2574055194854736\n"
     ]
    }
   ],
   "source": [
    "st=time.time()\n",
    "dd = apd.domain.numpy().transpose()\n",
    "dm=ConvexPolyhedraAssembly(); # Create a polyhedral assembly\n",
    "dm.add_box(dd[0],dd[1])\n",
    "ot=OptimalTransport(positions=apd.X.numpy(),\n",
    "                    weights=W0.numpy(),\n",
    "                    masses=apd.target_masses.numpy(),\n",
    "                    domain=dm,\n",
    "                    verbosity=1)\n",
    "ot.set_stopping_criterion(apd.target_masses[0]*apd.error_tolerance,\n",
    "                          type=\"max delta masses\")\n",
    "ot.adjust_weights()\n",
    "en=time.time()\n",
    "print('Elapsed time {}'.format(en-st))"
   ]
  },
  {
   "cell_type": "markdown",
   "id": "017b342a-88eb-48c5-a030-ddd1493d7c22",
   "metadata": {},
   "source": [
    "We can now pass weights from `pysdot` to `PyAPD` and then use numerical continuation to gradually introduce anisotropy. \n",
    "\n",
    "The idea of numerical continuation is to introduce a parameter $t \\in [0,1]$ and have each anisotropy matrix parametrised by it, $A_i^t$ such that $A^0_i = {\\rm Id}$ and $A^1_i = A_i$. The initial prototyping is done for linear blending, so\n",
    "$$\n",
    "A^t_i = (1-t){\\rm Id} + tA_i,\n",
    "$$\n",
    "but this creates a mild issue that ${\\rm det} A_t^i \\neq 1$. At least in 2D a simple alternative to be perhaps explored is to have $A_i^t = V_iD_i^tV_i^{-1}$ with $D_i = {\\rm diag}(a_i^t, 1/a_i^t)$ where $a_i^t = (1-t) + ta_i$. \n",
    "\n",
    "\n",
    "Clearly when $t=0$, we have the isotropic problem. Let us pass the computed weights and with new helper functions first check if it solves the pixelated isotropic problem."
   ]
  },
  {
   "cell_type": "code",
   "execution_count": 7,
   "id": "bbb49c1e-3453-4550-b571-96f1ffc12f51",
   "metadata": {
    "scrolled": true
   },
   "outputs": [
    {
     "name": "stdout",
     "output_type": "stream",
     "text": [
      "Solver tolerance is with respect to each grain separately.\n",
      "Smallest tol:  tensor(0.0005)\n",
      "Optimality condition successfully overwritten.\n",
      "Optimization terminated successfully.\n",
      "         Current function value: -0.022779\n",
      "         Iterations: 1\n",
      "         Function evaluations: 3\n",
      "It took 0.007108211517333984 seconds to find optimal W.\n"
     ]
    }
   ],
   "source": [
    "apd.set_W(torch.tensor(ot.get_weights()))\n",
    "apd.from_t_to_W(0.0)"
   ]
  },
  {
   "cell_type": "markdown",
   "id": "06d6ff66-3215-424f-9017-5f439b6bb356",
   "metadata": {},
   "source": [
    "We can then simply use this as an initial guess and solve the problem directly:"
   ]
  },
  {
   "cell_type": "code",
   "execution_count": 8,
   "id": "1417a34c-5107-4d4d-a870-575be5db7d4c",
   "metadata": {
    "scrolled": true
   },
   "outputs": [
    {
     "name": "stdout",
     "output_type": "stream",
     "text": [
      "Solver tolerance is with respect to each grain separately.\n",
      "Smallest tol:  tensor(0.0005)\n",
      "Optimality condition successfully overwritten.\n",
      "Optimization terminated successfully.\n",
      "         Current function value: -0.023020\n",
      "         Iterations: 6\n",
      "         Function evaluations: 8\n",
      "It took 0.02806997299194336 seconds to find optimal W.\n"
     ]
    }
   ],
   "source": [
    "apd.set_W(torch.tensor(ot.get_weights()))\n",
    "apd.find_optimal_W()"
   ]
  },
  {
   "cell_type": "markdown",
   "id": "3bcfc0c6-257d-473f-b7ad-17642f63d37f",
   "metadata": {},
   "source": [
    "The alternative is to try some sort of continuation routine as follows:"
   ]
  },
  {
   "cell_type": "code",
   "execution_count": 9,
   "id": "605b0eb4-9b9b-4304-af8d-ba81722e75af",
   "metadata": {},
   "outputs": [
    {
     "name": "stdout",
     "output_type": "stream",
     "text": [
      "Solver tolerance is with respect to each grain separately.\n",
      "Smallest tol:  tensor(0.0005)\n",
      "Optimality condition successfully overwritten.\n",
      "Optimization terminated successfully.\n",
      "         Current function value: -0.022779\n",
      "         Iterations: 1\n",
      "         Function evaluations: 3\n",
      "It took 0.011475324630737305 seconds to find optimal W.\n",
      "Solver tolerance is with respect to each grain separately.\n",
      "Smallest tol:  tensor(0.0005)\n",
      "Optimality condition successfully overwritten.\n",
      "Optimization terminated successfully.\n",
      "         Current function value: -0.022813\n",
      "         Iterations: 2\n",
      "         Function evaluations: 4\n",
      "It took 0.016025543212890625 seconds to find optimal W.\n",
      "Solver tolerance is with respect to each grain separately.\n",
      "Smallest tol:  tensor(0.0005)\n",
      "Optimality condition successfully overwritten.\n",
      "Optimization terminated successfully.\n",
      "         Current function value: -0.022845\n",
      "         Iterations: 2\n",
      "         Function evaluations: 4\n",
      "It took 0.01102137565612793 seconds to find optimal W.\n",
      "Solver tolerance is with respect to each grain separately.\n",
      "Smallest tol:  tensor(0.0005)\n",
      "Optimality condition successfully overwritten.\n",
      "Optimization terminated successfully.\n",
      "         Current function value: -0.022876\n",
      "         Iterations: 1\n",
      "         Function evaluations: 3\n",
      "It took 0.007999658584594727 seconds to find optimal W.\n",
      "Solver tolerance is with respect to each grain separately.\n",
      "Smallest tol:  tensor(0.0005)\n",
      "Optimality condition successfully overwritten.\n",
      "Optimization terminated successfully.\n",
      "         Current function value: -0.022903\n",
      "         Iterations: 2\n",
      "         Function evaluations: 4\n",
      "It took 0.011005401611328125 seconds to find optimal W.\n",
      "Solver tolerance is with respect to each grain separately.\n",
      "Smallest tol:  tensor(0.0005)\n",
      "Optimality condition successfully overwritten.\n",
      "Optimization terminated successfully.\n",
      "         Current function value: -0.022928\n",
      "         Iterations: 3\n",
      "         Function evaluations: 5\n",
      "It took 0.019971132278442383 seconds to find optimal W.\n",
      "Solver tolerance is with respect to each grain separately.\n",
      "Smallest tol:  tensor(0.0005)\n",
      "Optimality condition successfully overwritten.\n",
      "Optimization terminated successfully.\n",
      "         Current function value: -0.022951\n",
      "         Iterations: 2\n",
      "         Function evaluations: 4\n",
      "It took 0.012111663818359375 seconds to find optimal W.\n",
      "Solver tolerance is with respect to each grain separately.\n",
      "Smallest tol:  tensor(0.0005)\n",
      "Optimality condition successfully overwritten.\n",
      "Optimization terminated successfully.\n",
      "         Current function value: -0.022971\n",
      "         Iterations: 3\n",
      "         Function evaluations: 5\n",
      "It took 0.013754844665527344 seconds to find optimal W.\n",
      "Solver tolerance is with respect to each grain separately.\n",
      "Smallest tol:  tensor(0.0005)\n",
      "Optimality condition successfully overwritten.\n",
      "Optimization terminated successfully.\n",
      "         Current function value: -0.022990\n",
      "         Iterations: 2\n",
      "         Function evaluations: 4\n",
      "It took 0.008142948150634766 seconds to find optimal W.\n",
      "Solver tolerance is with respect to each grain separately.\n",
      "Smallest tol:  tensor(0.0005)\n",
      "Optimality condition successfully overwritten.\n",
      "Optimization terminated successfully.\n",
      "         Current function value: -0.023006\n",
      "         Iterations: 1\n",
      "         Function evaluations: 3\n",
      "It took 0.00559687614440918 seconds to find optimal W.\n",
      "Solver tolerance is with respect to each grain separately.\n",
      "Smallest tol:  tensor(0.0005)\n",
      "Optimality condition successfully overwritten.\n",
      "Optimization terminated successfully.\n",
      "         Current function value: -0.023021\n",
      "         Iterations: 2\n",
      "         Function evaluations: 4\n",
      "It took 0.008630514144897461 seconds to find optimal W.\n"
     ]
    },
    {
     "data": {
      "text/plain": [
       "0.1342296600341797"
      ]
     },
     "execution_count": 9,
     "metadata": {},
     "output_type": "execute_result"
    }
   ],
   "source": [
    "apd.set_W(torch.tensor(ot.get_weights()))\n",
    "start=time.time()\n",
    "apd.continuation_routine(steps=10,\n",
    "                         tangent_info=True,\n",
    "                        error_prefactor = 1.0,\n",
    "                        verbose = True)\n",
    "time_taken = time.time()-start\n",
    "time_taken"
   ]
  },
  {
   "cell_type": "markdown",
   "id": "7d6c5347-431d-4f0b-9f83-4269312ee53b",
   "metadata": {},
   "source": [
    "The simple continuation routine where the new initial guess to find $W^{i+1}$ is just $2W^{i} - W^{i-1}$ (simple tangent information with fixed step size) is just not good enough in any combination I have tested it for. "
   ]
  },
  {
   "cell_type": "code",
   "execution_count": null,
   "id": "00c6bdb3-53e6-4034-8aff-852f45cc2568",
   "metadata": {},
   "outputs": [],
   "source": []
  },
  {
   "cell_type": "code",
   "execution_count": null,
   "id": "5bcf7ffa-2448-4bf7-8b4f-b8514308c93d",
   "metadata": {},
   "outputs": [],
   "source": []
  },
  {
   "cell_type": "code",
   "execution_count": null,
   "id": "feea1ced-3ce6-448f-abb5-91d7c222dfdc",
   "metadata": {},
   "outputs": [],
   "source": []
  },
  {
   "cell_type": "code",
   "execution_count": null,
   "id": "bb715d1d-9304-412e-a674-d88b1ae268b4",
   "metadata": {},
   "outputs": [],
   "source": []
  },
  {
   "cell_type": "markdown",
   "id": "6c56ac02-a25e-4008-ab34-eca43603074d",
   "metadata": {},
   "source": [
    "### \"Annealing\" of error tolerance (and hence pixels)"
   ]
  },
  {
   "cell_type": "code",
   "execution_count": 18,
   "id": "3d030f01-6876-4b75-8527-8edad4202fca",
   "metadata": {},
   "outputs": [
    {
     "name": "stdout",
     "output_type": "stream",
     "text": [
      "Precision loss detected!\n",
      "Percentage error =  158.11086237429046\n",
      "Solver tolerance is with respect to each grain separately.\n",
      "Smallest tol:  tensor(3.3333e-05)\n",
      "Optimality condition successfully overwritten.\n",
      "Optimization terminated successfully.\n",
      "         Current function value: -0.002266\n",
      "         Iterations: 92\n",
      "         Function evaluations: 98\n",
      "It took 10.033132553100586 seconds to find optimal W.\n",
      "The APD is optimal!\n",
      "Percentage error =  0.7651441745472071\n"
     ]
    }
   ],
   "source": [
    "N = 300\n",
    "apd = PyAPD.apd_system(N=N,\n",
    "                       ani_thres=0.5,\n",
    "                       pixel_size_prefactor=2,\n",
    "                       dt=torch.float64,\n",
    "                       seed = 40,\n",
    "                      error_tolerance=0.01)\n",
    "apd.check_optimality()\n",
    "W0 = apd.W\n",
    "apd.find_optimal_W()\n",
    "apd.check_optimality()"
   ]
  },
  {
   "cell_type": "code",
   "execution_count": 19,
   "id": "87d62c03-160f-4c74-a2b2-405feeb419e0",
   "metadata": {},
   "outputs": [
    {
     "name": "stdout",
     "output_type": "stream",
     "text": [
      "Precision loss detected!\n",
      "Percentage error =  160.41666666666669\n",
      "(48, 48)\n",
      "Solver tolerance is with respect to each grain separately.\n",
      "Smallest tol:  tensor(0.0017)\n",
      "Optimality condition successfully overwritten.\n",
      "Optimization terminated successfully.\n",
      "         Current function value: -0.002263\n",
      "         Iterations: 44\n",
      "         Function evaluations: 47\n",
      "It took 0.3005216121673584 seconds to find optimal W.\n",
      "The APD is optimal!\n",
      "Percentage error =  47.91666666666667\n",
      "Precision loss detected!\n",
      "Percentage error =  166.0034602076123\n",
      "(68, 68)\n",
      "Solver tolerance is with respect to each grain separately.\n",
      "Smallest tol:  tensor(0.0008)\n",
      "Optimality condition successfully overwritten.\n",
      "Optimization terminated successfully.\n",
      "         Current function value: -0.002263\n",
      "         Iterations: 4\n",
      "         Function evaluations: 6\n",
      "It took 0.03354310989379883 seconds to find optimal W.\n",
      "The APD is optimal!\n",
      "Percentage error =  23.26989619377158\n",
      "Precision loss detected!\n",
      "Percentage error =  163.67187499999952\n",
      "(96, 96)\n",
      "Solver tolerance is with respect to each grain separately.\n",
      "Smallest tol:  tensor(0.0004)\n",
      "Optimality condition successfully overwritten.\n",
      "Optimization terminated successfully.\n",
      "         Current function value: -0.002264\n",
      "         Iterations: 11\n",
      "         Function evaluations: 13\n",
      "It took 0.12343478202819824 seconds to find optimal W.\n",
      "The APD is optimal!\n",
      "Percentage error =  12.109374999999979\n",
      "Precision loss detected!\n",
      "Percentage error =  161.84854106931925\n",
      "(154, 154)\n",
      "Solver tolerance is with respect to each grain separately.\n",
      "Smallest tol:  tensor(0.0002)\n",
      "Optimality condition successfully overwritten.\n",
      "Optimization terminated successfully.\n",
      "         Current function value: -0.002266\n",
      "         Iterations: 27\n",
      "         Function evaluations: 29\n",
      "It took 0.6402640342712402 seconds to find optimal W.\n",
      "The APD is optimal!\n",
      "Percentage error =  4.992410187215161\n",
      "Precision loss detected!\n",
      "Percentage error =  159.4478579244174\n",
      "(218, 218)\n",
      "Solver tolerance is with respect to each grain separately.\n",
      "Smallest tol:  tensor(8.3333e-05)\n",
      "Optimality condition successfully overwritten.\n",
      "Optimization terminated successfully.\n",
      "         Current function value: -0.002266\n",
      "         Iterations: 43\n",
      "         Function evaluations: 45\n",
      "It took 2.1783130168914795 seconds to find optimal W.\n",
      "The APD is optimal!\n",
      "Percentage error =  2.264119181886828\n",
      "Precision loss detected!\n",
      "Percentage error =  159.95108787316664\n",
      "(308, 308)\n",
      "Solver tolerance is with respect to each grain separately.\n",
      "Smallest tol:  tensor(4.1667e-05)\n",
      "Optimality condition successfully overwritten.\n",
      "Optimization terminated successfully.\n",
      "         Current function value: -0.002266\n",
      "         Iterations: 21\n",
      "         Function evaluations: 23\n",
      "It took 1.9868412017822266 seconds to find optimal W.\n",
      "The APD is optimal!\n",
      "Percentage error =  1.0161916006076093\n",
      "Precision loss detected!\n",
      "Percentage error =  158.11086237429046\n",
      "(346, 346)\n",
      "Solver tolerance is with respect to each grain separately.\n",
      "Smallest tol:  tensor(3.3333e-05)\n",
      "Optimality condition successfully overwritten.\n",
      "Optimization terminated successfully.\n",
      "         Current function value: -0.002266\n",
      "         Iterations: 9\n",
      "         Function evaluations: 11\n",
      "It took 1.2084298133850098 seconds to find optimal W.\n",
      "The APD is optimal!\n",
      "Percentage error =  0.9890073173168509\n"
     ]
    },
    {
     "data": {
      "text/plain": [
       "7.1142261028289795"
      ]
     },
     "execution_count": 19,
     "metadata": {},
     "output_type": "execute_result"
    }
   ],
   "source": [
    "\n",
    "# start with large error tolerance (so much fewer pixels)\n",
    "# and then slowly decrease to a small value\n",
    "errs = [0.5,0.25,0.125,0.05,0.025,0.0125,0.01]\n",
    "\n",
    "N = 300\n",
    "W_restart = torch.zeros(N)\n",
    "start=time.time()\n",
    "for err in errs:\n",
    "    apd = PyAPD.apd_system(N=N,\n",
    "                           ani_thres=0.5,\n",
    "                           pixel_size_prefactor=2,\n",
    "                           dt=torch.float64,\n",
    "                           seed = 40,\n",
    "                          error_tolerance=err)\n",
    "    #apd.pixel_params = (282,282)\n",
    "    apd.check_optimality()\n",
    "    print(apd.pixel_params)\n",
    "    apd.set_W(W=W_restart)\n",
    "    apd.find_optimal_W()\n",
    "    apd.check_optimality()\n",
    "    W_restart = apd.W\n",
    "\n",
    "time_taken = time.time()-start\n",
    "time_taken"
   ]
  },
  {
   "cell_type": "code",
   "execution_count": null,
   "id": "63e5c92b-22eb-4e27-84c7-83a5b1d530e9",
   "metadata": {},
   "outputs": [],
   "source": []
  }
 ],
 "metadata": {
  "kernelspec": {
   "display_name": "Python 3 (ipykernel)",
   "language": "python",
   "name": "python3"
  },
  "language_info": {
   "codemirror_mode": {
    "name": "ipython",
    "version": 3
   },
   "file_extension": ".py",
   "mimetype": "text/x-python",
   "name": "python",
   "nbconvert_exporter": "python",
   "pygments_lexer": "ipython3",
   "version": "3.11.6"
  }
 },
 "nbformat": 4,
 "nbformat_minor": 5
}
