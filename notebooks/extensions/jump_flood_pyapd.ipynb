{
 "cells": [
  {
   "cell_type": "code",
   "execution_count": 1,
   "id": "0df45480-9472-42d9-b8f5-edfd14d4dd10",
   "metadata": {},
   "outputs": [
    {
     "name": "stdout",
     "output_type": "stream",
     "text": [
      "[KeOps] Warning : Cuda libraries were not detected on the system ; using cpu only mode\n"
     ]
    }
   ],
   "source": [
    "import PyAPD\n",
    "import torch"
   ]
  },
  {
   "cell_type": "code",
   "execution_count": 2,
   "id": "561d1cb0-b3a9-468f-9407-f8f9941c3462",
   "metadata": {},
   "outputs": [],
   "source": [
    "N = 10\n",
    "apd = PyAPD.apd_system(N=N,\n",
    "                       ani_thres=0.5,\n",
    "                       pixel_size_prefactor=2,\n",
    "                       dt=torch.float64,\n",
    "                       seed = 30,\n",
    "                      error_tolerance=0.01)"
   ]
  },
  {
   "cell_type": "code",
   "execution_count": 7,
   "id": "34cd02aa-7051-4d0f-919f-d5053969c502",
   "metadata": {},
   "outputs": [
    {
     "data": {
      "text/plain": [
       "3844"
      ]
     },
     "execution_count": 7,
     "metadata": {},
     "output_type": "execute_result"
    }
   ],
   "source": [
    "len(apd.assemble_apd())"
   ]
  },
  {
   "cell_type": "code",
   "execution_count": null,
   "id": "6a93642d-5dde-4a7b-b56d-34ef20b63970",
   "metadata": {},
   "outputs": [],
   "source": []
  }
 ],
 "metadata": {
  "kernelspec": {
   "display_name": "Python 3 (ipykernel)",
   "language": "python",
   "name": "python3"
  },
  "language_info": {
   "codemirror_mode": {
    "name": "ipython",
    "version": 3
   },
   "file_extension": ".py",
   "mimetype": "text/x-python",
   "name": "python",
   "nbconvert_exporter": "python",
   "pygments_lexer": "ipython3",
   "version": "3.11.6"
  }
 },
 "nbformat": 4,
 "nbformat_minor": 5
}
