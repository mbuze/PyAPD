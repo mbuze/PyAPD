{
 "cells": [
  {
   "cell_type": "code",
   "execution_count": 1,
   "id": "3cf3bf36-7ed8-48d2-a168-4812a4de7985",
   "metadata": {},
   "outputs": [
    {
     "name": "stdout",
     "output_type": "stream",
     "text": [
      "/home/mb/MEGAsync/academic_work/projects/geometric_model_polycrystals/code/PyAPD\n"
     ]
    }
   ],
   "source": [
    "cd ../.."
   ]
  },
  {
   "cell_type": "code",
   "execution_count": 2,
   "id": "52e78e65-894d-4322-a0c8-374de8e64140",
   "metadata": {},
   "outputs": [
    {
     "name": "stdout",
     "output_type": "stream",
     "text": [
      "Defaulting to user installation because normal site-packages is not writeable\n",
      "Obtaining file:///home/mb/MEGAsync/academic_work/projects/geometric_model_polycrystals/code/PyAPD\n",
      "  Preparing metadata (setup.py) ... \u001b[?25ldone\n",
      "\u001b[?25hRequirement already satisfied: numpy in /home/mb/.local/lib/python3.11/site-packages (from PyAPD==0.1.1) (1.24.3)\n",
      "Requirement already satisfied: pykeops in /home/mb/.local/lib/python3.11/site-packages (from PyAPD==0.1.1) (2.1.2)\n",
      "Requirement already satisfied: torch in /home/mb/.local/lib/python3.11/site-packages (from PyAPD==0.1.1) (2.0.1)\n",
      "Requirement already satisfied: pytorch-minimize in /home/mb/.local/lib/python3.11/site-packages (from PyAPD==0.1.1) (0.0.2)\n",
      "Requirement already satisfied: matplotlib in /home/mb/.local/lib/python3.11/site-packages (from PyAPD==0.1.1) (3.7.1)\n",
      "Requirement already satisfied: scipy in /home/mb/.local/lib/python3.11/site-packages (from PyAPD==0.1.1) (1.10.1)\n",
      "Requirement already satisfied: contourpy>=1.0.1 in /usr/lib64/python3.11/site-packages (from matplotlib->PyAPD==0.1.1) (1.0.7)\n",
      "Requirement already satisfied: cycler>=0.10 in /usr/lib/python3.11/site-packages (from matplotlib->PyAPD==0.1.1) (0.11.0)\n",
      "Requirement already satisfied: fonttools>=4.22.0 in /usr/lib64/python3.11/site-packages (from matplotlib->PyAPD==0.1.1) (4.37.2)\n",
      "Requirement already satisfied: kiwisolver>=1.0.1 in /usr/lib64/python3.11/site-packages (from matplotlib->PyAPD==0.1.1) (1.4.5)\n",
      "Requirement already satisfied: packaging>=20.0 in /home/mb/.local/lib/python3.11/site-packages (from matplotlib->PyAPD==0.1.1) (24.0)\n",
      "Requirement already satisfied: pillow>=6.2.0 in /usr/lib64/python3.11/site-packages (from matplotlib->PyAPD==0.1.1) (9.2.0)\n",
      "Requirement already satisfied: pyparsing>=2.3.1 in /usr/lib/python3.11/site-packages (from matplotlib->PyAPD==0.1.1) (3.0.9)\n",
      "Requirement already satisfied: python-dateutil>=2.7 in /usr/lib/python3.11/site-packages (from matplotlib->PyAPD==0.1.1) (2.8.2)\n",
      "Requirement already satisfied: pybind11 in /home/mb/.local/lib/python3.11/site-packages (from pykeops->PyAPD==0.1.1) (2.10.4)\n",
      "Requirement already satisfied: keopscore==2.1.2 in /home/mb/.local/lib/python3.11/site-packages (from pykeops->PyAPD==0.1.1) (2.1.2)\n",
      "Requirement already satisfied: filelock in /home/mb/.local/lib/python3.11/site-packages (from torch->PyAPD==0.1.1) (3.12.0)\n",
      "Requirement already satisfied: typing-extensions in /home/mb/.local/lib/python3.11/site-packages (from torch->PyAPD==0.1.1) (4.6.2)\n",
      "Requirement already satisfied: sympy in /usr/lib/python3.11/site-packages (from torch->PyAPD==0.1.1) (1.11.1)\n",
      "Requirement already satisfied: networkx in /usr/lib/python3.11/site-packages (from torch->PyAPD==0.1.1) (2.8.8)\n",
      "Requirement already satisfied: jinja2 in /usr/lib/python3.11/site-packages (from torch->PyAPD==0.1.1) (3.0.3)\n",
      "Requirement already satisfied: nvidia-cuda-nvrtc-cu11==11.7.99 in /home/mb/.local/lib/python3.11/site-packages (from torch->PyAPD==0.1.1) (11.7.99)\n",
      "Requirement already satisfied: nvidia-cuda-runtime-cu11==11.7.99 in /home/mb/.local/lib/python3.11/site-packages (from torch->PyAPD==0.1.1) (11.7.99)\n",
      "Requirement already satisfied: nvidia-cuda-cupti-cu11==11.7.101 in /home/mb/.local/lib/python3.11/site-packages (from torch->PyAPD==0.1.1) (11.7.101)\n",
      "Requirement already satisfied: nvidia-cudnn-cu11==8.5.0.96 in /home/mb/.local/lib/python3.11/site-packages (from torch->PyAPD==0.1.1) (8.5.0.96)\n",
      "Requirement already satisfied: nvidia-cublas-cu11==11.10.3.66 in /home/mb/.local/lib/python3.11/site-packages (from torch->PyAPD==0.1.1) (11.10.3.66)\n",
      "Requirement already satisfied: nvidia-cufft-cu11==10.9.0.58 in /home/mb/.local/lib/python3.11/site-packages (from torch->PyAPD==0.1.1) (10.9.0.58)\n",
      "Requirement already satisfied: nvidia-curand-cu11==10.2.10.91 in /home/mb/.local/lib/python3.11/site-packages (from torch->PyAPD==0.1.1) (10.2.10.91)\n",
      "Requirement already satisfied: nvidia-cusolver-cu11==11.4.0.1 in /home/mb/.local/lib/python3.11/site-packages (from torch->PyAPD==0.1.1) (11.4.0.1)\n",
      "Requirement already satisfied: nvidia-cusparse-cu11==11.7.4.91 in /home/mb/.local/lib/python3.11/site-packages (from torch->PyAPD==0.1.1) (11.7.4.91)\n",
      "Requirement already satisfied: nvidia-nccl-cu11==2.14.3 in /home/mb/.local/lib/python3.11/site-packages (from torch->PyAPD==0.1.1) (2.14.3)\n",
      "Requirement already satisfied: nvidia-nvtx-cu11==11.7.91 in /home/mb/.local/lib/python3.11/site-packages (from torch->PyAPD==0.1.1) (11.7.91)\n",
      "Requirement already satisfied: triton==2.0.0 in /home/mb/.local/lib/python3.11/site-packages (from torch->PyAPD==0.1.1) (2.0.0)\n",
      "Requirement already satisfied: setuptools in /usr/lib/python3.11/site-packages (from nvidia-cublas-cu11==11.10.3.66->torch->PyAPD==0.1.1) (62.6.0)\n",
      "Requirement already satisfied: wheel in /home/mb/.local/lib/python3.11/site-packages (from nvidia-cublas-cu11==11.10.3.66->torch->PyAPD==0.1.1) (0.40.0)\n",
      "Requirement already satisfied: cmake in /home/mb/.local/lib/python3.11/site-packages (from triton==2.0.0->torch->PyAPD==0.1.1) (3.26.3)\n",
      "Requirement already satisfied: lit in /home/mb/.local/lib/python3.11/site-packages (from triton==2.0.0->torch->PyAPD==0.1.1) (16.0.5)\n",
      "Requirement already satisfied: six>=1.5 in /usr/lib/python3.11/site-packages (from python-dateutil>=2.7->matplotlib->PyAPD==0.1.1) (1.16.0)\n",
      "Requirement already satisfied: MarkupSafe>=2.0 in /usr/lib64/python3.11/site-packages (from jinja2->torch->PyAPD==0.1.1) (2.1.1)\n",
      "Requirement already satisfied: mpmath>=0.19 in /usr/lib/python3.11/site-packages (from sympy->torch->PyAPD==0.1.1) (1.2.1)\n",
      "Installing collected packages: PyAPD\n",
      "  Attempting uninstall: PyAPD\n",
      "    Found existing installation: PyAPD 0.1.1\n",
      "    Uninstalling PyAPD-0.1.1:\n",
      "      Successfully uninstalled PyAPD-0.1.1\n",
      "  Running setup.py develop for PyAPD\n",
      "Successfully installed PyAPD-0.1.1\n"
     ]
    }
   ],
   "source": [
    "!pip install -e ."
   ]
  },
  {
   "cell_type": "code",
   "execution_count": 3,
   "id": "cdf73ac4-8c78-4a16-88ca-ba6b26f6c64d",
   "metadata": {},
   "outputs": [
    {
     "name": "stdout",
     "output_type": "stream",
     "text": [
      "[KeOps] Warning : Cuda libraries were not detected on the system ; using cpu only mode\n"
     ]
    }
   ],
   "source": [
    "import PyAPD\n",
    "import time\n",
    "from pykeops.torch import LazyTensor\n",
    "import torch\n",
    "from torchmin import minimize as minimize_torch\n",
    "import copy\n",
    "#import ipywidgets as widgets\n",
    "from matplotlib import animation\n",
    "from matplotlib import pyplot as plt"
   ]
  },
  {
   "cell_type": "code",
   "execution_count": 4,
   "id": "4d684427-bedb-41bb-bc59-a39b71f0e89e",
   "metadata": {},
   "outputs": [
    {
     "name": "stdout",
     "output_type": "stream",
     "text": [
      "Precision loss detected!\n",
      "Percentage error =  116.0330578513077\n"
     ]
    }
   ],
   "source": [
    "N = 20\n",
    "apd = PyAPD.apd_system(N=N,\n",
    "                       ani_thres=0.25,\n",
    "                       pixel_size_prefactor=10,\n",
    "                       dt=torch.float64,\n",
    "                       seed = 30,\n",
    "                      error_tolerance=0.01)\n",
    "apd.check_optimality()"
   ]
  },
  {
   "cell_type": "code",
   "execution_count": 5,
   "id": "a2f4efee-3784-4499-a1f1-2cda670ae9ba",
   "metadata": {
    "scrolled": true
   },
   "outputs": [
    {
     "name": "stdout",
     "output_type": "stream",
     "text": [
      "Solver tolerance is with respect to each grain separately.\n",
      "Smallest tol:  tensor(0.0005)\n",
      "Optimality condition successfully overwritten.\n",
      "Optimization terminated successfully.\n",
      "         Current function value: -0.023147\n",
      "         Iterations: 17\n",
      "         Function evaluations: 19\n",
      "It took 0.5126378536224365 seconds to find optimal W.\n"
     ]
    }
   ],
   "source": []
  },
  {
   "cell_type": "code",
   "execution_count": 10,
   "id": "ecff8e08-8a13-4c62-96b4-9c9bd9c6eb01",
   "metadata": {},
   "outputs": [],
   "source": [
    "def from_t_to_plot_apd(t=1.0):\n",
    "    apd.check_optimality()\n",
    "    apd.from_t_to_W(t)\n",
    "    apd.plot_apd(t=t)\n"
   ]
  },
  {
   "cell_type": "code",
   "execution_count": 12,
   "id": "3a2c05ac-fb44-4e46-ae01-0c6589a97120",
   "metadata": {},
   "outputs": [
    {
     "name": "stdout",
     "output_type": "stream",
     "text": [
      "Solver tolerance is with respect to each grain separately.\n",
      "Smallest tol:  tensor(0.0005)\n",
      "Optimality condition successfully overwritten.\n",
      "Optimization terminated successfully.\n",
      "         Current function value: -0.022782\n",
      "         Iterations: 13\n",
      "         Function evaluations: 15\n",
      "It took 0.41032838821411133 seconds to find optimal W.\n",
      "Precision loss detected!\n",
      "Percentage error =  86.4876033058223\n",
      "Solver tolerance is with respect to each grain separately.\n",
      "Smallest tol:  tensor(0.0005)\n",
      "Optimality condition successfully overwritten.\n",
      "Optimization terminated successfully.\n",
      "         Current function value: -0.022782\n",
      "         Iterations: 2\n",
      "         Function evaluations: 3\n",
      "It took 0.0939936637878418 seconds to find optimal W.\n",
      "Precision loss detected!\n",
      "Percentage error =  85.86776859507785\n",
      "Solver tolerance is with respect to each grain separately.\n",
      "Smallest tol:  tensor(0.0005)\n",
      "Optimality condition successfully overwritten.\n",
      "Optimization terminated successfully.\n",
      "         Current function value: -0.023074\n",
      "         Iterations: 5\n",
      "         Function evaluations: 7\n",
      "It took 0.19418716430664062 seconds to find optimal W.\n",
      "Precision loss detected!\n",
      "Percentage error =  89.74173553723065\n",
      "Solver tolerance is with respect to each grain separately.\n",
      "Smallest tol:  tensor(0.0005)\n",
      "Optimality condition successfully overwritten.\n",
      "Optimization terminated successfully.\n",
      "         Current function value: -0.023296\n",
      "         Iterations: 5\n",
      "         Function evaluations: 7\n",
      "It took 0.18062400817871094 seconds to find optimal W.\n",
      "Precision loss detected!\n",
      "Percentage error =  92.16942148764642\n",
      "Solver tolerance is with respect to each grain separately.\n",
      "Smallest tol:  tensor(0.0005)\n",
      "Optimality condition successfully overwritten.\n",
      "Optimization terminated successfully.\n",
      "         Current function value: -0.023463\n",
      "         Iterations: 5\n",
      "         Function evaluations: 7\n",
      "It took 0.20536398887634277 seconds to find optimal W.\n",
      "Precision loss detected!\n",
      "Percentage error =  93.02685950417624\n",
      "Solver tolerance is with respect to each grain separately.\n",
      "Smallest tol:  tensor(0.0005)\n",
      "Optimality condition successfully overwritten.\n",
      "Optimization terminated successfully.\n",
      "         Current function value: -0.023583\n",
      "         Iterations: 5\n",
      "         Function evaluations: 7\n",
      "It took 0.20108270645141602 seconds to find optimal W.\n",
      "Precision loss detected!\n",
      "Percentage error =  92.52066115706828\n",
      "Solver tolerance is with respect to each grain separately.\n",
      "Smallest tol:  tensor(0.0005)\n",
      "Optimality condition successfully overwritten.\n",
      "Optimization terminated successfully.\n",
      "         Current function value: -0.023658\n",
      "         Iterations: 5\n",
      "         Function evaluations: 7\n",
      "It took 0.20085835456848145 seconds to find optimal W.\n",
      "Precision loss detected!\n",
      "Percentage error =  90.17561983475177\n",
      "Solver tolerance is with respect to each grain separately.\n",
      "Smallest tol:  tensor(0.0005)\n",
      "Optimality condition successfully overwritten.\n",
      "Optimization terminated successfully.\n",
      "         Current function value: -0.023690\n",
      "         Iterations: 9\n",
      "         Function evaluations: 11\n",
      "It took 0.31301069259643555 seconds to find optimal W.\n",
      "Precision loss detected!\n",
      "Percentage error =  84.17355371904303\n",
      "Solver tolerance is with respect to each grain separately.\n",
      "Smallest tol:  tensor(0.0005)\n",
      "Optimality condition successfully overwritten.\n",
      "Optimization terminated successfully.\n",
      "         Current function value: -0.023655\n",
      "         Iterations: 10\n",
      "         Function evaluations: 12\n",
      "It took 0.3305072784423828 seconds to find optimal W.\n",
      "Precision loss detected!\n",
      "Percentage error =  70.04132231406959\n",
      "Solver tolerance is with respect to each grain separately.\n",
      "Smallest tol:  tensor(0.0005)\n",
      "Optimality condition successfully overwritten.\n",
      "Optimization terminated successfully.\n",
      "         Current function value: -0.023552\n",
      "         Iterations: 9\n",
      "         Function evaluations: 11\n",
      "It took 0.3106679916381836 seconds to find optimal W.\n",
      "Precision loss detected!\n",
      "Percentage error =  50.23760330578444\n",
      "Solver tolerance is with respect to each grain separately.\n",
      "Smallest tol:  tensor(0.0005)\n",
      "Optimality condition successfully overwritten.\n",
      "Optimization terminated successfully.\n",
      "         Current function value: -0.023386\n",
      "         Iterations: 8\n",
      "         Function evaluations: 10\n",
      "It took 0.2764449119567871 seconds to find optimal W.\n",
      "Precision loss detected!\n",
      "Percentage error =  27.851239669397426\n",
      "Solver tolerance is with respect to each grain separately.\n",
      "Smallest tol:  tensor(0.0005)\n",
      "Optimality condition successfully overwritten.\n",
      "Optimization terminated successfully.\n",
      "         Current function value: -0.023147\n",
      "         Iterations: 7\n",
      "         Function evaluations: 9\n",
      "It took 0.20218372344970703 seconds to find optimal W.\n"
     ]
    },
    {
     "data": {
      "image/png": "[encoded data removed]",
      "text/plain": [
       "<Figure size 432x288 with 1 Axes>"
      ]
     },
     "metadata": {
      "needs_background": "light"
     },
     "output_type": "display_data"
    }
   ],
   "source": [
    "fig = plt.figure()\n",
    "ax1 = plt.axes()\n",
    "\n",
    "apd.from_t_to_W(0.0)\n",
    "img = apd.assemble_apd(t=0.0).reshape(apd.pixel_params).transpose(0,1).cpu()\n",
    "apd_plot = ax1.imshow(img, origin='lower',\n",
    "                      extent = torch.flatten( apd.domain ).tolist())\n",
    "title = ax1.set_title(' ')\n",
    "\n",
    "T = 10\n",
    "# initialization function: plot the background of each frame\n",
    "def init():\n",
    "    ax1.imshow([[],[]], origin='lower',\n",
    "                      extent = torch.flatten( apd.domain ).tolist())\n",
    "    return apd_plot,\n",
    "\n",
    "# animation function.  This is called sequentially\n",
    "def animate(i):\n",
    "    apd.check_optimality()\n",
    "    apd.from_t_to_W(i/T)\n",
    "    img = apd.assemble_apd(t=i/T).reshape(apd.pixel_params).transpose(0,1).cpu()\n",
    "    apd_plot.set_data(img)\n",
    "    title.set_text(\"%1.3f\" % (i/T))\n",
    "    return apd_plot, \n",
    "\n",
    "anim = animation.FuncAnimation(fig, animate, init_func=init,\n",
    "                               frames=11, interval=1, blit=True)\n",
    "\n",
    "anim.save('basic_animation.mp4', fps=2, extra_args=['-vcodec', 'libx264'])"
   ]
  },
  {
   "cell_type": "code",
   "execution_count": 51,
   "id": "54b996b2-f292-4f2b-9159-a0716f85d3fd",
   "metadata": {},
   "outputs": [
    {
     "name": "stdout",
     "output_type": "stream",
     "text": [
      "Precision loss detected!\n",
      "Percentage error =  3.7500000000184333\n",
      "Solver tolerance is with respect to each grain separately.\n",
      "Smallest tol:  tensor(0.0020)\n",
      "Optimality condition successfully overwritten.\n",
      "Optimization terminated successfully.\n",
      "         Current function value: -0.095048\n",
      "         Iterations: 9\n",
      "         Function evaluations: 11\n",
      "It took 0.04695630073547363 seconds to find optimal W.\n",
      "Precision loss detected!\n",
      "Percentage error =  36.735537190091215\n",
      "Solver tolerance is with respect to each grain separately.\n",
      "Smallest tol:  tensor(0.0020)\n",
      "Optimality condition successfully overwritten.\n",
      "Optimization terminated successfully.\n",
      "         Current function value: -0.094398\n",
      "         Iterations: 1\n",
      "         Function evaluations: 3\n",
      "It took 0.050066232681274414 seconds to find optimal W.\n",
      "Precision loss detected!\n",
      "Percentage error =  34.05991735538127\n",
      "Solver tolerance is with respect to each grain separately.\n",
      "Smallest tol:  tensor(0.0020)\n",
      "Optimality condition successfully overwritten.\n",
      "Optimization terminated successfully.\n",
      "         Current function value: -0.093606\n",
      "         Iterations: 3\n",
      "         Function evaluations: 5\n",
      "It took 0.025557279586791992 seconds to find optimal W.\n",
      "Precision loss detected!\n",
      "Percentage error =  29.504132231415692\n",
      "Solver tolerance is with respect to each grain separately.\n",
      "Smallest tol:  tensor(0.0020)\n",
      "Optimality condition successfully overwritten.\n",
      "Optimization terminated successfully.\n",
      "         Current function value: -0.092657\n",
      "         Iterations: 4\n",
      "         Function evaluations: 6\n",
      "It took 0.03007817268371582 seconds to find optimal W.\n",
      "Precision loss detected!\n",
      "Percentage error =  25.630165289268092\n",
      "Solver tolerance is with respect to each grain separately.\n",
      "Smallest tol:  tensor(0.0020)\n",
      "Optimality condition successfully overwritten.\n",
      "Optimization terminated successfully.\n",
      "         Current function value: -0.091557\n",
      "         Iterations: 4\n",
      "         Function evaluations: 6\n",
      "It took 0.02941107749938965 seconds to find optimal W.\n",
      "Precision loss detected!\n",
      "Percentage error =  22.004132231417938\n",
      "Solver tolerance is with respect to each grain separately.\n",
      "Smallest tol:  tensor(0.0020)\n",
      "Optimality condition successfully overwritten.\n",
      "Optimization terminated successfully.\n",
      "         Current function value: -0.090341\n",
      "         Iterations: 3\n",
      "         Function evaluations: 5\n",
      "It took 0.02582573890686035 seconds to find optimal W.\n",
      "Precision loss detected!\n",
      "Percentage error =  18.450413223154534\n",
      "Solver tolerance is with respect to each grain separately.\n",
      "Smallest tol:  tensor(0.0020)\n",
      "Optimality condition successfully overwritten.\n",
      "Optimization terminated successfully.\n",
      "         Current function value: -0.089033\n",
      "         Iterations: 3\n",
      "         Function evaluations: 5\n",
      "It took 0.022443294525146484 seconds to find optimal W.\n",
      "Precision loss detected!\n",
      "Percentage error =  14.803719008279593\n",
      "Solver tolerance is with respect to each grain separately.\n",
      "Smallest tol:  tensor(0.0020)\n",
      "Optimality condition successfully overwritten.\n",
      "Optimization terminated successfully.\n",
      "         Current function value: -0.087644\n",
      "         Iterations: 3\n",
      "         Function evaluations: 5\n",
      "It took 0.023934602737426758 seconds to find optimal W.\n",
      "Precision loss detected!\n",
      "Percentage error =  10.878099173570021\n",
      "Solver tolerance is with respect to each grain separately.\n",
      "Smallest tol:  tensor(0.0020)\n",
      "Optimality condition successfully overwritten.\n",
      "Optimization terminated successfully.\n",
      "         Current function value: -0.086179\n",
      "         Iterations: 3\n",
      "         Function evaluations: 5\n",
      "It took 0.023968935012817383 seconds to find optimal W.\n",
      "Precision loss detected!\n",
      "Percentage error =  7.510330578529706\n",
      "Solver tolerance is with respect to each grain separately.\n",
      "Smallest tol:  tensor(0.0020)\n",
      "Optimality condition successfully overwritten.\n",
      "Optimization terminated successfully.\n",
      "         Current function value: -0.084639\n",
      "         Iterations: 3\n",
      "         Function evaluations: 5\n",
      "It took 0.023770809173583984 seconds to find optimal W.\n"
     ]
    },
    {
     "data": {
      "image/png": "[encoded data removed]",
      "text/plain": [
       "<Figure size 432x288 with 1 Axes>"
      ]
     },
     "metadata": {
      "needs_background": "light"
     },
     "output_type": "display_data"
    }
   ],
   "source": []
  },
  {
   "cell_type": "code",
   "execution_count": 36,
   "id": "098d649e-d9d8-46f4-9240-71cde5a5cfc6",
   "metadata": {},
   "outputs": [
    {
     "data": {
      "text/plain": [
       "<bound method _ImageBase.set_data of <matplotlib.image.AxesImage object at 0x7f6e6fa9d0d0>>"
      ]
     },
     "execution_count": 36,
     "metadata": {},
     "output_type": "execute_result"
    }
   ],
   "source": []
  },
  {
   "cell_type": "code",
   "execution_count": 9,
   "id": "447bc655-7cb0-4d9b-963f-e44ee38e4a47",
   "metadata": {},
   "outputs": [
    {
     "data": {
      "text/plain": [
       "0.010860919952392578"
      ]
     },
     "execution_count": 9,
     "metadata": {},
     "output_type": "execute_result"
    }
   ],
   "source": [
    "start=time.time()\n",
    "apd.OT_dual_function_cont(apd.W,t=0.0)\n",
    "time_taken = time.time()-start\n",
    "time_taken"
   ]
  },
  {
   "cell_type": "code",
   "execution_count": 10,
   "id": "3ebc703c-f5eb-45ef-b966-b3492de18394",
   "metadata": {},
   "outputs": [
    {
     "name": "stdout",
     "output_type": "stream",
     "text": [
      "0.0\n"
     ]
    },
    {
     "data": {
      "text/plain": [
       "0.01196599006652832"
      ]
     },
     "execution_count": 10,
     "metadata": {},
     "output_type": "execute_result"
    }
   ],
   "source": [
    "start=time.time()\n",
    "apd.OT_dual_function_cont2(apd.W,t=0.0)\n",
    "time_taken = time.time()-start\n",
    "time_taken"
   ]
  },
  {
   "cell_type": "code",
   "execution_count": 20,
   "id": "5ea04df4-048f-41c3-bac2-8ccde6a7a258",
   "metadata": {},
   "outputs": [
    {
     "name": "stdout",
     "output_type": "stream",
     "text": [
      "Precision loss detected!\n",
      "Percentage error =  116.94214876032906\n"
     ]
    }
   ],
   "source": [
    "N = 20\n",
    "apd = PyAPD.apd_system(N=N,\n",
    "                       ani_thres=0.25,\n",
    "                       pixel_size_prefactor=2,\n",
    "                       dt=torch.float64,\n",
    "                       seed = 30,\n",
    "                      error_tolerance=0.01)\n",
    "apd.check_optimality()"
   ]
  },
  {
   "cell_type": "code",
   "execution_count": 22,
   "id": "ebb45939-3111-4f84-9703-da020158057d",
   "metadata": {
    "scrolled": true
   },
   "outputs": [
    {
     "name": "stdout",
     "output_type": "stream",
     "text": [
      "Solver tolerance is with respect to each grain separately.\n",
      "Smallest tol:  tensor(0.0005)\n",
      "Optimality condition successfully overwritten.\n",
      "Optimization terminated successfully.\n",
      "         Current function value: -0.022779\n",
      "         Iterations: 12\n",
      "         Function evaluations: 14\n",
      "It took 0.03652215003967285 seconds to find optimal W.\n"
     ]
    }
   ],
   "source": [
    "apd.from_t_to_W(0.0)"
   ]
  },
  {
   "cell_type": "code",
   "execution_count": 23,
   "id": "97a4748d-3e27-481e-b93c-03aff4e07d7e",
   "metadata": {
    "scrolled": true
   },
   "outputs": [
    {
     "data": {
      "text/plain": [
       "(<Figure size 756x756 with 1 Axes>, <Axes: >)"
      ]
     },
     "execution_count": 23,
     "metadata": {},
     "output_type": "execute_result"
    },
    {
     "data": {
      "image/png": "[encoded data removed]",
      "text/plain": [
       "<Figure size 756x756 with 1 Axes>"
      ]
     },
     "metadata": {
      "needs_background": "light"
     },
     "output_type": "display_data"
    }
   ],
   "source": [
    "apd.plot_apd(t=0.0)"
   ]
  },
  {
   "cell_type": "code",
   "execution_count": null,
   "id": "24a9747a-f6e1-491a-818c-cd8f1998e488",
   "metadata": {},
   "outputs": [],
   "source": []
  },
  {
   "cell_type": "code",
   "execution_count": 34,
   "id": "f1b43238-4e50-471e-a2a3-88d2f0ec9de0",
   "metadata": {},
   "outputs": [
    {
     "name": "stdout",
     "output_type": "stream",
     "text": [
      "The APD is optimal!\n",
      "Percentage error =  0.7231404958684823\n"
     ]
    }
   ],
   "source": [
    "apd.check_optimality()"
   ]
  },
  {
   "cell_type": "code",
   "execution_count": 40,
   "id": "8abe79b4-c63b-44ad-bfc1-38490f81cefe",
   "metadata": {},
   "outputs": [
    {
     "name": "stdout",
     "output_type": "stream",
     "text": [
      "Precision loss detected!\n",
      "Percentage error =  295.60384286503637\n"
     ]
    }
   ],
   "source": [
    "N = 200\n",
    "apd = PyAPD.apd_system(N=N,\n",
    "                       ani_thres=0.05,\n",
    "                       pixel_size_prefactor=2,\n",
    "                       dt=torch.float64,\n",
    "                       seed = 30,\n",
    "                      error_tolerance=0.01)\n",
    "apd.check_optimality()"
   ]
  },
  {
   "cell_type": "code",
   "execution_count": 41,
   "id": "5f353bda-cb7d-4fcf-a299-3d086f69d249",
   "metadata": {},
   "outputs": [
    {
     "name": "stdout",
     "output_type": "stream",
     "text": [
      "Solver tolerance is with respect to each grain separately.\n",
      "Smallest tol:  tensor(5.0000e-05)\n",
      "Optimality condition successfully overwritten.\n",
      "Optimization terminated successfully.\n",
      "         Current function value: -0.007458\n",
      "         Iterations: 83\n",
      "         Function evaluations: 89\n",
      "It took 4.257627487182617 seconds to find optimal W.\n",
      "Solver tolerance is with respect to each grain separately.\n",
      "Smallest tol:  tensor(5.0000e-05)\n",
      "Optimality condition successfully overwritten.\n",
      "Optimization terminated successfully.\n",
      "         Current function value: -0.007457\n",
      "         Iterations: 21\n",
      "         Function evaluations: 24\n",
      "It took 1.5278139114379883 seconds to find optimal W.\n",
      "Solver tolerance is with respect to each grain separately.\n",
      "Smallest tol:  tensor(5.0000e-05)\n",
      "Optimality condition successfully overwritten.\n",
      "Optimization terminated successfully.\n",
      "         Current function value: -0.007454\n",
      "         Iterations: 22\n",
      "         Function evaluations: 25\n",
      "It took 1.707735300064087 seconds to find optimal W.\n",
      "Solver tolerance is with respect to each grain separately.\n",
      "Smallest tol:  tensor(5.0000e-05)\n",
      "Optimality condition successfully overwritten.\n",
      "Optimization terminated successfully.\n",
      "         Current function value: -0.007449\n",
      "         Iterations: 23\n",
      "         Function evaluations: 26\n",
      "It took 1.7005116939544678 seconds to find optimal W.\n",
      "Solver tolerance is with respect to each grain separately.\n",
      "Smallest tol:  tensor(5.0000e-05)\n",
      "Optimality condition successfully overwritten.\n",
      "Optimization terminated successfully.\n",
      "         Current function value: -0.007442\n",
      "         Iterations: 21\n",
      "         Function evaluations: 23\n",
      "It took 1.5663704872131348 seconds to find optimal W.\n",
      "Solver tolerance is with respect to each grain separately.\n",
      "Smallest tol:  tensor(5.0000e-05)\n",
      "Optimality condition successfully overwritten.\n",
      "Optimization terminated successfully.\n",
      "         Current function value: -0.007433\n",
      "         Iterations: 14\n",
      "         Function evaluations: 16\n",
      "It took 0.8664066791534424 seconds to find optimal W.\n"
     ]
    },
    {
     "data": {
      "text/plain": [
       "11.631864309310913"
      ]
     },
     "execution_count": 41,
     "metadata": {},
     "output_type": "execute_result"
    }
   ],
   "source": [
    "start=time.time()\n",
    "apd.continuation_routine(steps=5,\n",
    "                         tangent_info=True,\n",
    "                        error_prefactor = 1.0)\n",
    "time_taken = time.time()-start\n",
    "time_taken"
   ]
  },
  {
   "cell_type": "code",
   "execution_count": 36,
   "id": "9755353d-c101-4a16-861c-2f9cbeaee168",
   "metadata": {},
   "outputs": [
    {
     "data": {
      "text/plain": [
       "True"
      ]
     },
     "execution_count": 36,
     "metadata": {},
     "output_type": "execute_result"
    }
   ],
   "source": [
    "wtf = 1.0\n",
    "wtf == 1"
   ]
  },
  {
   "cell_type": "code",
   "execution_count": null,
   "id": "f922064c-2c1c-42cc-8ad4-c142ea2bb380",
   "metadata": {},
   "outputs": [],
   "source": []
  }
 ],
 "metadata": {
  "kernelspec": {
   "display_name": "Python 3 (ipykernel)",
   "language": "python",
   "name": "python3"
  },
  "language_info": {
   "codemirror_mode": {
    "name": "ipython",
    "version": 3
   },
   "file_extension": ".py",
   "mimetype": "text/x-python",
   "name": "python",
   "nbconvert_exporter": "python",
   "pygments_lexer": "ipython3",
   "version": "3.11.6"
  }
 },
 "nbformat": 4,
 "nbformat_minor": 5
}
