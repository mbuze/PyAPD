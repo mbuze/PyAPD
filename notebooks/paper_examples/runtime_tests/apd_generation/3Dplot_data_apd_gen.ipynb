{
 "cells": [
  {
   "cell_type": "code",
   "execution_count": 10,
   "id": "6926d773-72af-459f-8cd9-8cfe5fb060a3",
   "metadata": {
    "tags": []
   },
   "outputs": [],
   "source": [
    "# reloading modules if needed\n",
    "from importlib import reload\n",
    "\n",
    "# first import the whole package\n",
    "import PyAPD\n",
    "\n",
    "# then load all the functions in the .py files in the .../PyAPD/ directory:\n",
    "from PyAPD import *\n",
    "\n",
    "import copy\n",
    "\n",
    "torch.set_printoptions(precision=10) # show more digits\n",
    "\n",
    "device = \"cuda\" if torch.cuda.is_available() else \"cpu\"\n",
    "dt = torch.float64\n",
    "torch.set_default_dtype(dt)\n",
    "#torch.set_default_device(device)"
   ]
  },
  {
   "cell_type": "code",
   "execution_count": 11,
   "id": "0d5f5a76-767a-4420-a836-c324ee9d04db",
   "metadata": {
    "tags": []
   },
   "outputs": [],
   "source": [
    "# import pickle\n",
    "\n",
    "# with open(\"apd_3D_radius_0.0.pkl\", \"rb\") as fp: #Pickling\n",
    "#      apd = pickle.load(fp)\n",
    "\n",
    "# piece of code so that loading of data works on CPU only machines\n",
    "import pickle\n",
    "import io\n",
    "\n",
    "class CPU_Unpickler(pickle.Unpickler):\n",
    "    def find_class(self, module, name):\n",
    "        if module == 'torch.storage' and name == '_load_from_bytes':\n",
    "            return lambda b: torch.load(io.BytesIO(b), map_location='cpu')\n",
    "        else:\n",
    "            return super().find_class(module, name)\n",
    "\n",
    "#contents = pickle.load(f) becomes...\n",
    "#contents = CPU_Unpickler(f).load()"
   ]
  },
  {
   "cell_type": "code",
   "execution_count": 12,
   "id": "bbdd35ee-5420-462f-94b4-326cfa477c18",
   "metadata": {
    "tags": []
   },
   "outputs": [
    {
     "name": "stdout",
     "output_type": "stream",
     "text": [
      "Number of seeds: tensor(50) tensor(100) tensor(250) tensor(500) tensor(1000) tensor(2500) tensor(5000) tensor(10000)\n",
      "Number of pixels: tensor(34) tensor(42) tensor(58) tensor(72) tensor(92) tensor(124) tensor(158) tensor(200)\n",
      "Box sizes: tensor(1., dtype=torch.float32)\n",
      "Anisotropies: tensor(0.) tensor(0.3000000000) tensor(0.7000000000)\n",
      "Precisions: tensor([1])\n",
      "Data points on each line: 8\n",
      "Total number of data points: 240\n",
      "Number of curves: 30\n",
      "Number of 'unique' problems: 240\n"
     ]
    }
   ],
   "source": [
    "with open(\"apd_3D_radius_0.0.pkl\", \"rb\") as fp: #Pickling\n",
    "     #apd = pickle.load(fp)\n",
    "    apd = CPU_Unpickler(fp).load()\n",
    "\n",
    "def extract_data(apd,name):\n",
    "    return torch.tensor([apd.data[i][name] for i in range(len(apd.data))])\n",
    "\n",
    "                        \n",
    "#Ns = torch.unique(torch.tensor([apd.data[i][\"N\"] for i in range(len(apd.data))]))\n",
    "\n",
    "\n",
    "#torch.tensor([1 if apd.data[i][\"dt\"]==torch.float32 else 2 for i in range(len(apd.data))])\n",
    "\n",
    "Ns = torch.unique(extract_data(apd,\"N\"))\n",
    "print(\"Number of seeds:\", *Ns)\n",
    "Ms = torch.unique(extract_data(apd,\"pixel_params\"))\n",
    "print(\"Number of pixels:\", *Ms)\n",
    "BSs = torch.unique(extract_data(apd,\"box_size\"))\n",
    "print(\"Box sizes:\", *BSs)\n",
    "Anis = torch.unique(extract_data(apd,\"ani_thres\"))\n",
    "print(\"Anisotropies:\", *Anis)\n",
    "DTs = torch.unique(torch.tensor([1 if apd.data[i][\"dt\"]==torch.float32 else 2 for i in range(len(apd.data))]))\n",
    "print(\"Precisions:\",DTs)\n",
    "#DP = len(Ns)\n",
    "\n",
    "DP = len(Ns)\n",
    "print(\"Data points on each line:\",DP)\n",
    "L = len(apd.data)\n",
    "print(\"Total number of data points:\",L)\n",
    "\n",
    "K = L//DP\n",
    "print(\"Number of curves:\",K)\n",
    "\n",
    "\n",
    "P = len(DTs)\n",
    "print(\"Number of 'unique' problems:\",L//P)\n",
    "\n",
    "flat_timings = extract_data(apd,\"apd_gen_time\")\n",
    "#flat_Ms = extract_data(apd,\"pixel_params\")[:,0]\n",
    "flat_anis = extract_data(apd,\"ani_thres\")\n",
    "flat_dts = torch.tensor([1 if apd.data[i][\"dt\"]==torch.float32 else 2 for i in range(len(apd.data))])\n",
    "flat_seeds = extract_data(apd,\"seed\")\n",
    "flat_Ds = extract_data(apd,\"D\")\n",
    "#flat_anis\n",
    "#flat_Ms[:,0]\n",
    "\n",
    "timings = []\n",
    "#errors = []\n",
    "labels = []\n",
    "\n",
    "flat_timings[0].item()\n",
    "\n",
    "flat_anis.shape\n",
    "\n",
    "flat_dts.shape\n",
    "\n",
    "flat_labels = torch.stack([flat_anis,flat_dts,flat_seeds,flat_Ds],dim=1)\n",
    "\n",
    "for k in range(K):\n",
    "    #print(DP*k)\n",
    "    #_timing = runtime_data[(DP*k):(DP*k+DP),7]\n",
    "    _timing = flat_timings[DP*k:(DP*k+DP)]\n",
    "#    _error = runtime_data[(DP*k):(DP*k+DP),6]\n",
    "    _label = flat_labels[DP*k]\n",
    "    #_weights = weights_data[(DP*k):(DP*k+DP)]\n",
    "    #_gradients = Dgs[(DP*k):(DP*k+DP)]\n",
    "    list.append(timings, _timing)\n",
    "#    list.append(errors, _error)\n",
    "    list.append(labels,_label)\n",
    "    #list.append(weights,_weights)\n",
    "    #list.append(gradients,_gradients)\n",
    "\n",
    "timings_averaged = []\n",
    "stds = []\n",
    "ranges = []\n",
    "kk = len(Anis)\n",
    "\n",
    "for kkk in range(kk):\n",
    "    list.append(timings_averaged,torch.mean(torch.stack(timings[kkk:-1:(kk)]),dim=0))\n",
    "    list.append(stds,torch.std(torch.stack(timings[kkk:-1:(kk)]),dim=0))\n",
    "    lb = torch.min(torch.stack(timings[kkk:-1:(kk)]),dim=0)[0]\n",
    "    ub = torch.max(torch.stack(timings[kkk:-1:(kk)]),dim=0)[0]\n",
    "    lb = timings_averaged[-1] - lb\n",
    "    ub = ub - timings_averaged[-1]\n",
    "    list.append(ranges,torch.stack([lb,ub]))"
   ]
  },
  {
   "cell_type": "code",
   "execution_count": 13,
   "id": "721c6365-4f9c-45cf-a63d-85edcd6192d7",
   "metadata": {
    "tags": []
   },
   "outputs": [
    {
     "data": {
      "image/png": "[encoded data removed]",
      "text/plain": [
       "<Figure size 612x612 with 1 Axes>"
      ]
     },
     "metadata": {
      "needs_background": "light"
     },
     "output_type": "display_data"
    }
   ],
   "source": [
    "colors = [(230/255,97/255,1/255),\n",
    "(253/255,184/255,99/255),\n",
    "(178/255,171/255,210/255),\n",
    "(94/255,60/255,153/255)]\n",
    "\n",
    "colors[0]\n",
    "\n",
    "fig, ax1 = plt.subplots(1,1)\n",
    "fig.set_size_inches(8.5, 8.5, forward=True)\n",
    "for i in range(len(timings_averaged)):\n",
    "    ax1.errorbar(Ns, timings_averaged[i], yerr=ranges[i], fmt='-o',\n",
    "                 color = colors[i],\n",
    "                 capsize=8, elinewidth=3,linewidth=4,\n",
    "                 #label = \"prec = {}, thres = {}, D = {}\".format(int(labels[i][1]),labels[i][0],int(labels[i][3])))\n",
    "                 #label = r'$\\alpha$ = {}, D = {}'.format(labels[i][0],int(labels[i][3])))\n",
    "                 label = r'$\\alpha$ = {}'.format(labels[i][0]))\n",
    "#xx = np.array([1000.0,7000.0])\n",
    "#yy = 2e-6*xx**(2)\n",
    "#ax1.plot(xx,yy,'k--')\n",
    "#ax1.text(1300.0, 7.0,r'$\\sim N^2$', fontsize=24,rotation = 45)\n",
    "ax1.xaxis.label.set_size(28)\n",
    "ax1.yaxis.label.set_size(28)\n",
    "for tick in ax1.xaxis.get_major_ticks():\n",
    "    tick.label1.set_fontsize(22) \n",
    "for tick in ax1.yaxis.get_major_ticks():\n",
    "    tick.label1.set_fontsize(22) \n",
    "    \n",
    "    \n",
    "ax1.legend(loc='upper left', bbox_to_anchor=(0.0, 1.0),\n",
    "            ncol=1, fancybox=True, shadow=True, fontsize=\"28\")\n",
    "ax1.set_xlabel(\"Number of grains, N\")\n",
    "ax1.set_ylabel(\"Time in seconds\")\n",
    "ax1.set_yscale('log')\n",
    "ax1.set_xscale('log')\n",
    "#ax1.set_ylim(8e-5, 7e-2)\n",
    "#fig.savefig('runtime_APD_gen_2D_log_0_2.pdf')"
   ]
  },
  {
   "cell_type": "code",
   "execution_count": 14,
   "id": "ad639e04-641e-4e32-8f98-402b9f0b5e27",
   "metadata": {
    "tags": []
   },
   "outputs": [],
   "source": [
    "data = copy.copy(apd.data)\n",
    "\n",
    "d = data[239]\n",
    "apd.__dict__ = {i:d[i] for i in d if i!='data'}\n",
    "\n",
    "apd.device = 'cpu'"
   ]
  },
  {
   "cell_type": "code",
   "execution_count": 20,
   "id": "abadc43a-d786-42ec-a52c-8b78b4c4ad14",
   "metadata": {
    "tags": []
   },
   "outputs": [],
   "source": [
    "apd.pixel_params = (320,320,320)"
   ]
  },
  {
   "cell_type": "code",
   "execution_count": 21,
   "id": "814b947d-436d-4203-9b3f-6ce7fa03c782",
   "metadata": {
    "tags": []
   },
   "outputs": [
    {
     "data": {
      "text/plain": [
       "(320, 320, 320)"
      ]
     },
     "execution_count": 21,
     "metadata": {},
     "output_type": "execute_result"
    }
   ],
   "source": [
    "apd.pixel_params"
   ]
  },
  {
   "cell_type": "code",
   "execution_count": 22,
   "id": "4e7e3fd5-ad2e-4936-83b0-25b137c56e75",
   "metadata": {
    "tags": []
   },
   "outputs": [],
   "source": [
    "# lazy tensor assembly:\n",
    "apd.set_X(apd.X)\n",
    "apd.set_As(apd.As)\n",
    "apd.set_W(apd.W)\n",
    "apd.assemble_pixels()"
   ]
  },
  {
   "cell_type": "code",
   "execution_count": 23,
   "id": "84a43267-87d1-4309-8c4b-533a826ca840",
   "metadata": {
    "tags": []
   },
   "outputs": [],
   "source": [
    "img = apd.assemble_apd()"
   ]
  },
  {
   "cell_type": "code",
   "execution_count": 24,
   "id": "8859209c-c149-4f86-a648-e25e86580091",
   "metadata": {
    "tags": []
   },
   "outputs": [
    {
     "data": {
      "text/plain": [
       "''"
      ]
     },
     "execution_count": 24,
     "metadata": {},
     "output_type": "execute_result"
    }
   ],
   "source": [
    "img2 = img.numpy()\n",
    "img2\n",
    ";"
   ]
  },
  {
   "cell_type": "code",
   "execution_count": 25,
   "id": "15873a3e-69db-465a-a1a1-99d0f3878575",
   "metadata": {
    "tags": []
   },
   "outputs": [
    {
     "data": {
      "application/vnd.jupyter.widget-view+json": {
       "model_id": "b069e8703f7b46c3b599d8103d37c3f5",
       "version_major": 2,
       "version_minor": 0
      },
      "text/plain": [
       "Widget(value=\"<iframe src='http://localhost:45309/index.html?ui=P_0x7f6648930550_1&reconnect=auto' style='widt…"
      ]
     },
     "metadata": {},
     "output_type": "display_data"
    }
   ],
   "source": [
    "pl = pv.Plotter(window_size=[4*840, 4*640])\n",
    "pl.add_volume(img2,opacity=1.0)\n",
    "pl.remove_scalar_bar()\n",
    "pl.add_bounding_box(line_width=5, color='black')\n",
    "pl.set_background('white')\n",
    "#cpos = pl.camera_position\n",
    "#pl.camera_position = cpos\n",
    "pl.show()\n",
    "pl.save_graphic(f'example_3d_apd_gen.pdf')"
   ]
  },
  {
   "cell_type": "code",
   "execution_count": null,
   "id": "67edd7a4-4c9b-44f0-8338-44f6b6e79467",
   "metadata": {},
   "outputs": [],
   "source": []
  }
 ],
 "metadata": {
  "kernelspec": {
   "display_name": "PPC_env",
   "language": "python",
   "name": "ppc_env"
  },
  "language_info": {
   "codemirror_mode": {
    "name": "ipython",
    "version": 3
   },
   "file_extension": ".py",
   "mimetype": "text/x-python",
   "name": "python",
   "nbconvert_exporter": "python",
   "pygments_lexer": "ipython3",
   "version": "3.11.6"
  }
 },
 "nbformat": 4,
 "nbformat_minor": 5
}
